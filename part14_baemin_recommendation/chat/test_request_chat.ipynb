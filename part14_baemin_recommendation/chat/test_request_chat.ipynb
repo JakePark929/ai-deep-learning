{
 "cells": [
  {
   "cell_type": "code",
   "execution_count": 2,
   "metadata": {},
   "outputs": [
    {
     "name": "stdout",
     "output_type": "stream",
     "text": [
      "Request successful!\n",
      "Received response: [{'_id': '522757_0', 'score': 0.37348178322077286, 'menu': '달콤한나의고구마', 'restaurant': '청년피자-과천점', 'url': 'https://www.yogiyo.co.kr/mobile/#/522757/'}, {'_id': '522757_1', 'score': 0.24487336857268738, 'menu': '피자도우 변경(고구마체다크러스트)', 'restaurant': '청년피자-과천점', 'url': 'https://www.yogiyo.co.kr/mobile/#/522757/'}, {'_id': '1212106_0', 'score': 0.16667210910478053, 'menu': '바질 닭가슴살 랩', 'restaurant': 'SLB샐러드-과천점', 'url': 'https://www.yogiyo.co.kr/mobile/#/1212106/'}]\n"
     ]
    }
   ],
   "source": [
    "import requests\n",
    "\n",
    "# URL of your FastAPI server\n",
    "url = \"http://localhost:8000/recommend\"\n",
    "\n",
    "# The query text to send\n",
    "query_text = \"속이 너무 부대끼는데 해장 할 만한 메뉴 추천해줘\"\n",
    "\n",
    "# Send the POST request\n",
    "response = requests.post(\n",
    "    url,\n",
    "    json={\"query_text\": query_text}\n",
    ")\n",
    "\n",
    "# Check the response\n",
    "if response.status_code == 200:\n",
    "    print(\"Request successful!\")\n",
    "    print(\"Received response:\", response.json())\n",
    "else:\n",
    "    print(\"Request failed with status code:\", response.status_code)\n",
    "    print(\"Response:\", response.text)"
   ]
  }
 ],
 "metadata": {
  "kernelspec": {
   "display_name": "baemin",
   "language": "python",
   "name": "python3"
  },
  "language_info": {
   "codemirror_mode": {
    "name": "ipython",
    "version": 3
   },
   "file_extension": ".py",
   "mimetype": "text/x-python",
   "name": "python",
   "nbconvert_exporter": "python",
   "pygments_lexer": "ipython3",
   "version": "3.12.9"
  }
 },
 "nbformat": 4,
 "nbformat_minor": 2
}
