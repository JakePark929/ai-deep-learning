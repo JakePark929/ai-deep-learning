{
 "cells": [
  {
   "cell_type": "code",
   "execution_count": 31,
   "metadata": {},
   "outputs": [],
   "source": [
    "import os\n",
    "\n",
    "from dotenv import load_dotenv\n",
    "from openai import OpenAI\n",
    "\n",
    "load_dotenv()\n",
    "OPENAI_API_KEY = os.getenv(\"OPENAI_API_KEY\")\n",
    "\n",
    "client = OpenAI(api_key=OPENAI_API_KEY)"
   ]
  },
  {
   "cell_type": "code",
   "execution_count": 32,
   "metadata": {},
   "outputs": [],
   "source": [
    "import requests\n",
    "\n",
    "SYSTEM_PROMPT = f\"\"\"당신의 이름은 '메뉴뚝딱AI'이며 당신의 역할은 배달의민족이라는 음식 주문 모바일 어플에서 리뷰 텍스트 기반으로 메뉴를 추천해주는 것입니다.\n",
    "실제 배달의민족 어플 내 주문이 가능한 메뉴 및 음식점을 추천해줘야 하며 단순한 메뉴명을 추천해줄 수 없습니다. (ex. 해장국, 파스타)\n",
    "추천 가능한 메뉴는 recommend 함수를 통해 결과를 받아 올 수 있습니다.\n",
    "당신은 사용자의 발화를 기반으로 메뉴 추천 API를 호출하여 API 결과를 기반으로 사용자에게 최상의 추천 결과를 제공해야 합니다.\n",
    "\"\"\"\n",
    "\n",
    "MESSAGES = [\n",
    "    {\n",
    "        'role': 'system',\n",
    "        'content': SYSTEM_PROMPT\n",
    "    }\n",
    "]\n",
    "\n",
    "def recommend(query_text):\n",
    "    url = \"http://localhost:8000/recommend\"\n",
    "    response = requests.post(url, json={\"query_text\": query_text})\n",
    "    return response.json()\n",
    "\n",
    "\n",
    "tools = [\n",
    "    {\n",
    "        \"type\": \"function\",\n",
    "        \"function\": {\n",
    "            \"name\": \"recommend\",\n",
    "            \"description\": \"사용자 발화 기반으로 메뉴 추천 API를 호출합니다. 오로지 이 함수 결과로만 메뉴 추천되어야 합니다. 현재 해장 또는 다이어트 2개 카테고리에 대한 메뉴 추천만 가능하며, 사용자 발화가 없는 경우 빈 리스트가 반환 될 수 있습니다.\",\n",
    "            \"parameters\": {\n",
    "                \"type\": \"object\",\n",
    "                \"properties\": {\n",
    "                    \"query_text\": {\n",
    "                        \"type\": \"string\",\n",
    "                        \"description\": \"사용자 발화 텍스트 원문\",\n",
    "                    },\n",
    "                },\n",
    "                \"required\": [\"query_text\"],\n",
    "                \"additionalProperties\": False,\n",
    "            },\n",
    "        }\n",
    "    }\n",
    "]"
   ]
  },
  {
   "cell_type": "code",
   "execution_count": null,
   "metadata": {},
   "outputs": [
    {
     "data": {
      "text/plain": [
       "ChatCompletion(id='chatcmpl-B0f3GneGRRB2tBG3E1I2eMQrhXbQ4', choices=[Choice(finish_reason='stop', index=0, logprobs=None, message=ChatCompletionMessage(content='안녕하세요! 메뉴 추천이 필요하신가요? 어떤 종류의 음식을 드시고 싶으신지 말씀해주시면 추천해드릴게요.', refusal=None, role='assistant', audio=None, function_call=None, tool_calls=None))], created=1739497502, model='gpt-4o-2024-08-06', object='chat.completion', service_tier='default', system_fingerprint='fp_523b9b6e5f', usage=CompletionUsage(completion_tokens=37, prompt_tokens=244, total_tokens=281, completion_tokens_details=CompletionTokensDetails(accepted_prediction_tokens=0, audio_tokens=0, reasoning_tokens=0, rejected_prediction_tokens=0), prompt_tokens_details=PromptTokensDetails(audio_tokens=0, cached_tokens=0)))"
      ]
     },
     "execution_count": 33,
     "metadata": {},
     "output_type": "execute_result"
    }
   ],
   "source": [
    "MESSAGES.append(\n",
    "    {\"role\": \"user\", \"content\": \"안녕\"}\n",
    ")\n",
    "\n",
    "completion = client.chat.completions.create(\n",
    "    messages=MESSAGES,\n",
    "    model=\"gpt-4o-2024-08-06\",\n",
    "    tools=tools,\n",
    "    tool_choice=\"auto\"\n",
    ")\n",
    "\n",
    "completion"
   ]
  },
  {
   "cell_type": "code",
   "execution_count": 34,
   "metadata": {},
   "outputs": [],
   "source": [
    "if completion.choices[0].finish_reason == \"tool_calls\":\n",
    "    print('function calling lets go')\n",
    "else:\n",
    "    MESSAGES.append(\n",
    "        {\"role\": \"assistant\", \"content\": completion.choices[0].message.content}\n",
    "    )"
   ]
  },
  {
   "cell_type": "code",
   "execution_count": 35,
   "metadata": {},
   "outputs": [
    {
     "data": {
      "text/plain": [
       "[{'role': 'system',\n",
       "  'content': \"당신의 이름은 '메뉴뚝딱AI'이며 당신의 역할은 배달의민족이라는 음식 주문 모바일 어플에서 리뷰 텍스트 기반으로 메뉴를 추천해주는 것입니다.\\n실제 배달의민족 어플 내 주문이 가능한 메뉴 및 음식점을 추천해줘야 하며 단순한 메뉴명을 추천해줄 수 없습니다. (ex. 해장국, 파스타)\\n추천 가능한 메뉴는 recommend 함수를 통해 결과를 받아 올 수 있습니다.\\n당신은 사용자의 발화를 기반으로 메뉴 추천 API를 호출하여 API 결과를 기반으로 사용자에게 최상의 추천 결과를 제공해야 합니다.\\n\"},\n",
       " {'role': 'user', 'content': '안녕'},\n",
       " {'role': 'assistant',\n",
       "  'content': '안녕하세요! 메뉴 추천이 필요하신가요? 어떤 종류의 음식을 드시고 싶으신지 말씀해주시면 추천해드릴게요.'}]"
      ]
     },
     "execution_count": 35,
     "metadata": {},
     "output_type": "execute_result"
    }
   ],
   "source": [
    "MESSAGES"
   ]
  },
  {
   "cell_type": "code",
   "execution_count": null,
   "metadata": {},
   "outputs": [
    {
     "name": "stdout",
     "output_type": "stream",
     "text": [
      "function calling lets go\n",
      "[{'_id': '522757_0', 'score': 0.3734956060022517, 'menu': '달콤한나의고구마', 'restaurant': '청년피자-과천점', 'url': 'https://www.yogiyo.co.kr/mobile/#/522757/'}, {'_id': '522757_1', 'score': 0.2448980077371205, 'menu': '피자도우 변경(고구마체다크러스트)', 'restaurant': '청년피자-과천점', 'url': 'https://www.yogiyo.co.kr/mobile/#/522757/'}, {'_id': '1212106_0', 'score': 0.16673977787035865, 'menu': '바질 닭가슴살 랩', 'restaurant': 'SLB샐러드-과천점', 'url': 'https://www.yogiyo.co.kr/mobile/#/1212106/'}]\n"
     ]
    }
   ],
   "source": [
    "import json\n",
    "\n",
    "MESSAGES.append(\n",
    "    {\"role\": \"user\", \"content\": \"해장 메뉴 추천해줄래?\"}\n",
    ")\n",
    "\n",
    "completion = client.chat.completions.create(\n",
    "    messages=MESSAGES,\n",
    "    model=\"gpt-4o-2024-08-06\",\n",
    "    tools=tools,\n",
    "    tool_choice=\"auto\"\n",
    ")"
   ]
  },
  {
   "cell_type": "code",
   "execution_count": 39,
   "metadata": {},
   "outputs": [
    {
     "name": "stdout",
     "output_type": "stream",
     "text": [
      "function calling lets go\n",
      "[{'_id': '522757_0', 'score': 0.37348178322077286, 'menu': '달콤한나의고구마', 'restaurant': '청년피자-과천점', 'url': 'https://www.yogiyo.co.kr/mobile/#/522757/'}, {'_id': '522757_1', 'score': 0.24487336857268738, 'menu': '피자도우 변경(고구마체다크러스트)', 'restaurant': '청년피자-과천점', 'url': 'https://www.yogiyo.co.kr/mobile/#/522757/'}, {'_id': '1212106_0', 'score': 0.16667210910478053, 'menu': '바질 닭가슴살 랩', 'restaurant': 'SLB샐러드-과천점', 'url': 'https://www.yogiyo.co.kr/mobile/#/1212106/'}]\n"
     ]
    }
   ],
   "source": [
    "# ✅ tool_calls가 있는지 `completion.choices[0].message.tool_calls`에서 확인\n",
    "if hasattr(completion.choices[0].message, \"tool_calls\") and completion.choices[0].message.tool_calls:\n",
    "    tool_calls = completion.choices[0].message.tool_calls  # 🔥 수정된 부분\n",
    "    tool_name = tool_calls[0].function.name\n",
    "    tool_args = tool_calls[0].function.arguments\n",
    "    tool_id = tool_calls[0].id\n",
    "    print(\"function calling lets go\")  # 🎯 이제 정상 출력될 것!\n",
    "\n",
    "    # 🛠️ tool_args를 recommend() 함수에 전달\n",
    "    tool_result = recommend(**json.loads(tool_args))\n",
    "    print(tool_result[:3])\n",
    "\n",
    "else:\n",
    "    MESSAGES.append(\n",
    "        {\"role\": \"assistant\", \"content\": completion.choices[0].message.content}\n",
    "    )"
   ]
  },
  {
   "cell_type": "code",
   "execution_count": 40,
   "metadata": {},
   "outputs": [
    {
     "data": {
      "text/plain": [
       "ChatCompletionMessageToolCall(id='call_iDCZkbK2SW7jMCQlP3hXkHAp', function=Function(arguments='{\"query_text\":\"해장\"}', name='recommend'), type='function')"
      ]
     },
     "execution_count": 40,
     "metadata": {},
     "output_type": "execute_result"
    }
   ],
   "source": [
    "completion.choices[0].message.tool_calls[0]"
   ]
  },
  {
   "cell_type": "code",
   "execution_count": 41,
   "metadata": {},
   "outputs": [
    {
     "data": {
      "text/plain": [
       "[{'_id': '522757_0',\n",
       "  'score': 0.37343329565378025,\n",
       "  'menu': '달콤한나의고구마',\n",
       "  'restaurant': '청년피자-과천점',\n",
       "  'url': 'https://www.yogiyo.co.kr/mobile/#/522757/'},\n",
       " {'_id': '522757_1',\n",
       "  'score': 0.24483591021498768,\n",
       "  'menu': '피자도우 변경(고구마체다크러스트)',\n",
       "  'restaurant': '청년피자-과천점',\n",
       "  'url': 'https://www.yogiyo.co.kr/mobile/#/522757/'},\n",
       " {'_id': '1212106_0',\n",
       "  'score': 0.16662085462838885,\n",
       "  'menu': '바질 닭가슴살 랩',\n",
       "  'restaurant': 'SLB샐러드-과천점',\n",
       "  'url': 'https://www.yogiyo.co.kr/mobile/#/1212106/'}]"
      ]
     },
     "execution_count": 41,
     "metadata": {},
     "output_type": "execute_result"
    }
   ],
   "source": [
    "tool_result = recommend(**json.loads(tool_args))\n",
    "tool_result[:3]"
   ]
  },
  {
   "cell_type": "code",
   "execution_count": 42,
   "metadata": {},
   "outputs": [
    {
     "data": {
      "text/plain": [
       "'call_iDCZkbK2SW7jMCQlP3hXkHAp'"
      ]
     },
     "execution_count": 42,
     "metadata": {},
     "output_type": "execute_result"
    }
   ],
   "source": [
    "tool_calls[0].id"
   ]
  },
  {
   "cell_type": "code",
   "execution_count": 43,
   "metadata": {},
   "outputs": [
    {
     "data": {
      "text/plain": [
       "[{'role': 'system',\n",
       "  'content': \"당신의 이름은 '메뉴뚝딱AI'이며 당신의 역할은 배달의민족이라는 음식 주문 모바일 어플에서 리뷰 텍스트 기반으로 메뉴를 추천해주는 것입니다.\\n실제 배달의민족 어플 내 주문이 가능한 메뉴 및 음식점을 추천해줘야 하며 단순한 메뉴명을 추천해줄 수 없습니다. (ex. 해장국, 파스타)\\n추천 가능한 메뉴는 recommend 함수를 통해 결과를 받아 올 수 있습니다.\\n당신은 사용자의 발화를 기반으로 메뉴 추천 API를 호출하여 API 결과를 기반으로 사용자에게 최상의 추천 결과를 제공해야 합니다.\\n\"},\n",
       " {'role': 'user', 'content': '안녕'},\n",
       " {'role': 'assistant',\n",
       "  'content': '안녕하세요! 메뉴 추천이 필요하신가요? 어떤 종류의 음식을 드시고 싶으신지 말씀해주시면 추천해드릴게요.'},\n",
       " {'role': 'user', 'content': '해장 메뉴 추천해줄래?'},\n",
       " {'role': 'user', 'content': '해장 메뉴 추천해줄래?'},\n",
       " {'role': 'user', 'content': '해장 메뉴 추천해줄래?'}]"
      ]
     },
     "execution_count": 43,
     "metadata": {},
     "output_type": "execute_result"
    }
   ],
   "source": [
    "MESSAGES"
   ]
  },
  {
   "cell_type": "code",
   "execution_count": 44,
   "metadata": {},
   "outputs": [],
   "source": [
    "MESSAGES.append({\n",
    "    \"role\": \"assistant\",  # user does not work\n",
    "    \"content\": None,\n",
    "    \"tool_calls\": [\n",
    "        {\n",
    "            \"id\": tool_id,\n",
    "            \"type\": \"function\",\n",
    "            \"function\": {\n",
    "                \"name\": tool_name,\n",
    "                \"arguments\": tool_args\n",
    "            }\n",
    "        }\n",
    "    ]\n",
    "})"
   ]
  },
  {
   "cell_type": "code",
   "execution_count": 45,
   "metadata": {},
   "outputs": [
    {
     "data": {
      "text/plain": [
       "'{\"query_text\":\"해장\"}'"
      ]
     },
     "execution_count": 45,
     "metadata": {},
     "output_type": "execute_result"
    }
   ],
   "source": [
    "tool_args"
   ]
  },
  {
   "cell_type": "code",
   "execution_count": 46,
   "metadata": {},
   "outputs": [
    {
     "data": {
      "text/plain": [
       "[{'role': 'system',\n",
       "  'content': \"당신의 이름은 '메뉴뚝딱AI'이며 당신의 역할은 배달의민족이라는 음식 주문 모바일 어플에서 리뷰 텍스트 기반으로 메뉴를 추천해주는 것입니다.\\n실제 배달의민족 어플 내 주문이 가능한 메뉴 및 음식점을 추천해줘야 하며 단순한 메뉴명을 추천해줄 수 없습니다. (ex. 해장국, 파스타)\\n추천 가능한 메뉴는 recommend 함수를 통해 결과를 받아 올 수 있습니다.\\n당신은 사용자의 발화를 기반으로 메뉴 추천 API를 호출하여 API 결과를 기반으로 사용자에게 최상의 추천 결과를 제공해야 합니다.\\n\"},\n",
       " {'role': 'user', 'content': '안녕'},\n",
       " {'role': 'assistant',\n",
       "  'content': '안녕하세요! 메뉴 추천이 필요하신가요? 어떤 종류의 음식을 드시고 싶으신지 말씀해주시면 추천해드릴게요.'},\n",
       " {'role': 'user', 'content': '해장 메뉴 추천해줄래?'},\n",
       " {'role': 'user', 'content': '해장 메뉴 추천해줄래?'},\n",
       " {'role': 'user', 'content': '해장 메뉴 추천해줄래?'},\n",
       " {'role': 'assistant',\n",
       "  'content': None,\n",
       "  'tool_calls': [{'id': 'call_iDCZkbK2SW7jMCQlP3hXkHAp',\n",
       "    'type': 'function',\n",
       "    'function': {'name': 'recommend', 'arguments': '{\"query_text\":\"해장\"}'}}]}]"
      ]
     },
     "execution_count": 46,
     "metadata": {},
     "output_type": "execute_result"
    }
   ],
   "source": [
    "MESSAGES"
   ]
  },
  {
   "cell_type": "code",
   "execution_count": 47,
   "metadata": {},
   "outputs": [
    {
     "data": {
      "text/plain": [
       "[{'_id': '522757_0',\n",
       "  'score': 0.37343329565378025,\n",
       "  'menu': '달콤한나의고구마',\n",
       "  'restaurant': '청년피자-과천점',\n",
       "  'url': 'https://www.yogiyo.co.kr/mobile/#/522757/'},\n",
       " {'_id': '522757_1',\n",
       "  'score': 0.24483591021498768,\n",
       "  'menu': '피자도우 변경(고구마체다크러스트)',\n",
       "  'restaurant': '청년피자-과천점',\n",
       "  'url': 'https://www.yogiyo.co.kr/mobile/#/522757/'},\n",
       " {'_id': '1212106_0',\n",
       "  'score': 0.16662085462838885,\n",
       "  'menu': '바질 닭가슴살 랩',\n",
       "  'restaurant': 'SLB샐러드-과천점',\n",
       "  'url': 'https://www.yogiyo.co.kr/mobile/#/1212106/'}]"
      ]
     },
     "execution_count": 47,
     "metadata": {},
     "output_type": "execute_result"
    }
   ],
   "source": [
    "tool_result[:3]"
   ]
  },
  {
   "cell_type": "code",
   "execution_count": 48,
   "metadata": {},
   "outputs": [],
   "source": [
    "MESSAGES.append({\n",
    "    \"role\": \"tool\",\n",
    "    \"content\": json.dumps(tool_result[:3], ensure_ascii=False),\n",
    "    \"tool_call_id\": tool_id\n",
    "})"
   ]
  },
  {
   "cell_type": "code",
   "execution_count": 49,
   "metadata": {},
   "outputs": [
    {
     "data": {
      "text/plain": [
       "[{'role': 'system',\n",
       "  'content': \"당신의 이름은 '메뉴뚝딱AI'이며 당신의 역할은 배달의민족이라는 음식 주문 모바일 어플에서 리뷰 텍스트 기반으로 메뉴를 추천해주는 것입니다.\\n실제 배달의민족 어플 내 주문이 가능한 메뉴 및 음식점을 추천해줘야 하며 단순한 메뉴명을 추천해줄 수 없습니다. (ex. 해장국, 파스타)\\n추천 가능한 메뉴는 recommend 함수를 통해 결과를 받아 올 수 있습니다.\\n당신은 사용자의 발화를 기반으로 메뉴 추천 API를 호출하여 API 결과를 기반으로 사용자에게 최상의 추천 결과를 제공해야 합니다.\\n\"},\n",
       " {'role': 'user', 'content': '안녕'},\n",
       " {'role': 'assistant',\n",
       "  'content': '안녕하세요! 메뉴 추천이 필요하신가요? 어떤 종류의 음식을 드시고 싶으신지 말씀해주시면 추천해드릴게요.'},\n",
       " {'role': 'user', 'content': '해장 메뉴 추천해줄래?'},\n",
       " {'role': 'user', 'content': '해장 메뉴 추천해줄래?'},\n",
       " {'role': 'user', 'content': '해장 메뉴 추천해줄래?'},\n",
       " {'role': 'assistant',\n",
       "  'content': None,\n",
       "  'tool_calls': [{'id': 'call_iDCZkbK2SW7jMCQlP3hXkHAp',\n",
       "    'type': 'function',\n",
       "    'function': {'name': 'recommend', 'arguments': '{\"query_text\":\"해장\"}'}}]},\n",
       " {'role': 'tool',\n",
       "  'content': '[{\"_id\": \"522757_0\", \"score\": 0.37343329565378025, \"menu\": \"달콤한나의고구마\", \"restaurant\": \"청년피자-과천점\", \"url\": \"https://www.yogiyo.co.kr/mobile/#/522757/\"}, {\"_id\": \"522757_1\", \"score\": 0.24483591021498768, \"menu\": \"피자도우 변경(고구마체다크러스트)\", \"restaurant\": \"청년피자-과천점\", \"url\": \"https://www.yogiyo.co.kr/mobile/#/522757/\"}, {\"_id\": \"1212106_0\", \"score\": 0.16662085462838885, \"menu\": \"바질 닭가슴살 랩\", \"restaurant\": \"SLB샐러드-과천점\", \"url\": \"https://www.yogiyo.co.kr/mobile/#/1212106/\"}]',\n",
       "  'tool_call_id': 'call_iDCZkbK2SW7jMCQlP3hXkHAp'}]"
      ]
     },
     "execution_count": 49,
     "metadata": {},
     "output_type": "execute_result"
    }
   ],
   "source": [
    "MESSAGES"
   ]
  },
  {
   "cell_type": "code",
   "execution_count": 50,
   "metadata": {},
   "outputs": [
    {
     "data": {
      "text/plain": [
       "ChatCompletion(id='chatcmpl-B0fB3EcSpg19QkLmkZss3onIWKTsf', choices=[Choice(finish_reason='stop', index=0, logprobs=None, message=ChatCompletionMessage(content='해장을 위한 메뉴로 다음을 추천드립니다:\\n\\n1. [달콤한나의고구마](https://www.yogiyo.co.kr/mobile/#/522757/) - 청년피자-과천점\\n2. [피자도우 변경(고구마체다크러스트)](https://www.yogiyo.co.kr/mobile/#/522757/) - 청년피자-과천점\\n3. [바질 닭가슴살 랩](https://www.yogiyo.co.kr/mobile/#/1212106/) - SLB샐러드-과천점\\n\\n해당 링크를 통해 바로 주문이 가능하니 참고해 주세요! 요기요 어플을 통해 좀 더 다양한 선택지를 확인하실 수도 있습니다.', refusal=None, role='assistant', audio=None, function_call=None, tool_calls=None))], created=1739497985, model='gpt-4o-2024-08-06', object='chat.completion', service_tier='default', system_fingerprint='fp_523b9b6e5f', usage=CompletionUsage(completion_tokens=165, prompt_tokens=560, total_tokens=725, completion_tokens_details=CompletionTokensDetails(accepted_prediction_tokens=0, audio_tokens=0, reasoning_tokens=0, rejected_prediction_tokens=0), prompt_tokens_details=PromptTokensDetails(audio_tokens=0, cached_tokens=0)))"
      ]
     },
     "execution_count": 50,
     "metadata": {},
     "output_type": "execute_result"
    }
   ],
   "source": [
    "completion = client.chat.completions.create(\n",
    "    messages=MESSAGES,\n",
    "    model=\"gpt-4o-2024-08-06\",\n",
    "    tools=tools\n",
    ")\n",
    "completion"
   ]
  },
  {
   "cell_type": "code",
   "execution_count": 51,
   "metadata": {},
   "outputs": [],
   "source": [
    "MESSAGES.append(\n",
    "    {\"role\": \"assistant\", \"content\": completion.choices[0].message.content}\n",
    ")"
   ]
  },
  {
   "cell_type": "code",
   "execution_count": 52,
   "metadata": {},
   "outputs": [
    {
     "data": {
      "text/plain": [
       "[{'role': 'system',\n",
       "  'content': \"당신의 이름은 '메뉴뚝딱AI'이며 당신의 역할은 배달의민족이라는 음식 주문 모바일 어플에서 리뷰 텍스트 기반으로 메뉴를 추천해주는 것입니다.\\n실제 배달의민족 어플 내 주문이 가능한 메뉴 및 음식점을 추천해줘야 하며 단순한 메뉴명을 추천해줄 수 없습니다. (ex. 해장국, 파스타)\\n추천 가능한 메뉴는 recommend 함수를 통해 결과를 받아 올 수 있습니다.\\n당신은 사용자의 발화를 기반으로 메뉴 추천 API를 호출하여 API 결과를 기반으로 사용자에게 최상의 추천 결과를 제공해야 합니다.\\n\"},\n",
       " {'role': 'user', 'content': '안녕'},\n",
       " {'role': 'assistant',\n",
       "  'content': '안녕하세요! 메뉴 추천이 필요하신가요? 어떤 종류의 음식을 드시고 싶으신지 말씀해주시면 추천해드릴게요.'},\n",
       " {'role': 'user', 'content': '해장 메뉴 추천해줄래?'},\n",
       " {'role': 'user', 'content': '해장 메뉴 추천해줄래?'},\n",
       " {'role': 'user', 'content': '해장 메뉴 추천해줄래?'},\n",
       " {'role': 'assistant',\n",
       "  'content': None,\n",
       "  'tool_calls': [{'id': 'call_iDCZkbK2SW7jMCQlP3hXkHAp',\n",
       "    'type': 'function',\n",
       "    'function': {'name': 'recommend', 'arguments': '{\"query_text\":\"해장\"}'}}]},\n",
       " {'role': 'tool',\n",
       "  'content': '[{\"_id\": \"522757_0\", \"score\": 0.37343329565378025, \"menu\": \"달콤한나의고구마\", \"restaurant\": \"청년피자-과천점\", \"url\": \"https://www.yogiyo.co.kr/mobile/#/522757/\"}, {\"_id\": \"522757_1\", \"score\": 0.24483591021498768, \"menu\": \"피자도우 변경(고구마체다크러스트)\", \"restaurant\": \"청년피자-과천점\", \"url\": \"https://www.yogiyo.co.kr/mobile/#/522757/\"}, {\"_id\": \"1212106_0\", \"score\": 0.16662085462838885, \"menu\": \"바질 닭가슴살 랩\", \"restaurant\": \"SLB샐러드-과천점\", \"url\": \"https://www.yogiyo.co.kr/mobile/#/1212106/\"}]',\n",
       "  'tool_call_id': 'call_iDCZkbK2SW7jMCQlP3hXkHAp'},\n",
       " {'role': 'assistant',\n",
       "  'content': '해장을 위한 메뉴로 다음을 추천드립니다:\\n\\n1. [달콤한나의고구마](https://www.yogiyo.co.kr/mobile/#/522757/) - 청년피자-과천점\\n2. [피자도우 변경(고구마체다크러스트)](https://www.yogiyo.co.kr/mobile/#/522757/) - 청년피자-과천점\\n3. [바질 닭가슴살 랩](https://www.yogiyo.co.kr/mobile/#/1212106/) - SLB샐러드-과천점\\n\\n해당 링크를 통해 바로 주문이 가능하니 참고해 주세요! 요기요 어플을 통해 좀 더 다양한 선택지를 확인하실 수도 있습니다.'}]"
      ]
     },
     "execution_count": 52,
     "metadata": {},
     "output_type": "execute_result"
    }
   ],
   "source": [
    "MESSAGES"
   ]
  }
 ],
 "metadata": {
  "kernelspec": {
   "display_name": "baemin",
   "language": "python",
   "name": "python3"
  },
  "language_info": {
   "codemirror_mode": {
    "name": "ipython",
    "version": 3
   },
   "file_extension": ".py",
   "mimetype": "text/x-python",
   "name": "python",
   "nbconvert_exporter": "python",
   "pygments_lexer": "ipython3",
   "version": "3.12.9"
  }
 },
 "nbformat": 4,
 "nbformat_minor": 2
}
