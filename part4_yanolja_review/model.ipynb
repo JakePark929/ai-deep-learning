{
 "cells": [
  {
   "cell_type": "code",
   "execution_count": 3,
   "metadata": {},
   "outputs": [
    {
     "name": "stdout",
     "output_type": "stream",
     "text": [
      "Hello! How can I assist you today?\n"
     ]
    }
   ],
   "source": [
    "import os\n",
    "\n",
    "from dotenv import load_dotenv\n",
    "from openai import OpenAI\n",
    "\n",
    "# .env 파일에서 환경 변수 로드\n",
    "load_dotenv()\n",
    "\n",
    "# API 키 가져오기\n",
    "MY_OPENAI_KEY = os.getenv(\"MY_OPENAI_KEY\")\n",
    "\n",
    "client = OpenAI(api_key=MY_OPENAI_KEY)\n",
    "\n",
    "completion = client.chat.completions.create(\n",
    "    model='gpt-3.5-turbo-0125',\n",
    "    messages=[{'role': 'user', 'content': 'hi'}],\n",
    "    temperature=0.0\n",
    ")\n",
    "\n",
    "print(completion.choices[0].message.content)"
   ]
  },
  {
   "cell_type": "markdown",
   "metadata": {},
   "source": [
    "# 데이터 전처리 함수 작성 241210"
   ]
  },
  {
   "cell_type": "markdown",
   "metadata": {},
   "source": [
    "### 리뷰 JSON 파일 로드"
   ]
  },
  {
   "cell_type": "code",
   "execution_count": 9,
   "metadata": {},
   "outputs": [
    {
     "data": {
      "text/plain": [
       "[{'review': '서울 호캉스를 알아보다가 접근성 좋은 용산역 바로앞에 위치한 나인트리 프리미어 로카우스 호텔 서울 용산!! 정말 기대 이상으로 호텔시설, 애프터눈 티,\\r\\n수영장, 해피아워, 야경, 조식 이 모든거를 다 누렸는데!\\r\\n\\r\\n가격이 20만원 초중반이라니 😍 정말 엄마도 너무 좋아하시고 저도 너무 행복했던 야놀자에 있는 이그제큐티브 라운지 상품 강추합니다👍👍👍\\r\\n\\r\\n애프터눈티- 체크인 직후에 라운지에서 티타임❤️\\r\\n가볍게 샌드위치랑 쿠키가 나왔어요\\r\\n\\r\\n수영장- 1,2,3부 중에 원하는 시간 선택해서 이용하는 방식이고 그래서 그런지 다른 수영장 대비 사람이 엄청 많지도 않았어요 카바나 이런거도 무료라 무조건 빨리 입장하셔서 좋은자리 잡는거 추천드려용! 💕\\r\\n\\r\\n해피아워- 연어,불고기,치즈 각종음식들이 생각보다 종류도 많고 5성급 해피아워에 밀리지 않는 음식 퀼리티여서 진짜 해피아워 이용하면서 더 반한 로카우스!! 와인, 보드카가 좀 아쉬운거 빼고는 진짜 굿\\r\\n\\r\\n야경 정말 완벽 그자체! 제가 3번째 사진에서 찍은것은 해피아워 라운지10층 왼쪽복도 맨끝!!\\r\\n\\r\\n조식- 가짓수는 30~40여가지로 엄청 많은것도 적지도 않은 가짓수에요 근데 맛이 다 좋아서 ㅎㅎ\\r\\n아침부터 폭풍식사 했습니다. 다만 1부, 2부든 무조건 빨리가세오 안그러면 웨이팅 있습니다.\\r\\n\\r\\n나인트리 프리미어 로카우스 호텔 서울 용산\\r\\n서울 호캉스로 가성비도 좋고 기대이상 다 좋아서 만족도 정말 높은 호캉스였어용 또올게용❤️👍',\n",
       "  'stars': 4,\n",
       "  'date': '2024.01.24'},\n",
       " {'review': '인사동점 이용해보고 너무 좋아서 용산점 이용했습니다~\\n건물도 너무 깨끗하고 직원들도 너무 친절했어요~\\n게다가 무인락커가 있어서 락커에 짐보관이 너무 편하고좋았습니다~^^',\n",
       "  'stars': 5,\n",
       "  'date': '6일 전'},\n",
       " {'review': '친구가 생일이라서 다 같이 방문을 했는데 1층에 카페가 있었는데 미니케이크와 숫자초까지 팔고 있어서 좋았고\\n직원분들의 빠른 피드백과 체크인 절차, 자세한 설명이 좋았습니다 ! 수영장도 물 온도도 따뜻하게 이용할 수 있었고\\n자쿠지도 있어서 마지막에 따뜻하게 이용할 수 있었습니다. 객실 내에 테이블도 있어서 밤에 야식도 시켜먹고 넘 좋았네요.\\n음식 자체가 퀄리티가 좋아서 또 갈 예정입니다!',\n",
       "  'stars': 4,\n",
       "  'date': '2024.11.30'}]"
      ]
     },
     "execution_count": 9,
     "metadata": {},
     "output_type": "execute_result"
    }
   ],
   "source": [
    "import json\n",
    "\n",
    "with open('./resources/reviews.json', 'r', encoding='utf-8') as f:\n",
    "    review_list = json.load(f)\n",
    "\n",
    "review_list[: 3]"
   ]
  },
  {
   "cell_type": "markdown",
   "metadata": {},
   "source": [
    "#### 좋은 평점 및 나쁜 평점 정의\n",
    " - 좋은 평점 = 별 5개\n",
    " - 나쁜 평점 = 별 4개 이하"
   ]
  },
  {
   "cell_type": "code",
   "execution_count": 10,
   "metadata": {},
   "outputs": [
    {
     "data": {
      "text/plain": [
       "(79, 21)"
      ]
     },
     "execution_count": 10,
     "metadata": {},
     "output_type": "execute_result"
    }
   ],
   "source": [
    "good_count, bad_count = 0, 0\n",
    "for r in review_list:\n",
    "    if r['stars'] == 5:\n",
    "        good_count += 1\n",
    "    else:\n",
    "        bad_count += 1\n",
    "\n",
    "good_count, bad_count"
   ]
  },
  {
   "cell_type": "markdown",
   "metadata": {},
   "source": [
    "### 좋은 리뷰 및 나쁜 리뷰로 구분 후 저장"
   ]
  },
  {
   "cell_type": "code",
   "execution_count": 11,
   "metadata": {},
   "outputs": [
    {
     "data": {
      "text/plain": [
       "['[REVIEW_START]서울 호캉스를 알아보다가 접근성 좋은 용산역 바로앞에 위치한 나인트리 프리미어 로카우스 호텔 서울 용산!! 정말 기대 이상으로 호텔시설, 애프터눈 티,\\r\\n수영장, 해피아워, 야경, 조식 이 모든거를 다 누렸는데!\\r\\n\\r\\n가격이 20만원 초중반이라니 😍 정말 엄마도 너무 좋아하시고 저도 너무 행복했던 야놀자에 있는 이그제큐티브 라운지 상품 강추합니다👍👍👍\\r\\n\\r\\n애프터눈티- 체크인 직후에 라운지에서 티타임❤️\\r\\n가볍게 샌드위치랑 쿠키가 나왔어요\\r\\n\\r\\n수영장- 1,2,3부 중에 원하는 시간 선택해서 이용하는 방식이고 그래서 그런지 다른 수영장 대비 사람이 엄청 많지도 않았어요 카바나 이런거도 무료라 무조건 빨리 입장하셔서 좋은자리 잡는거 추천드려용! 💕\\r\\n\\r\\n해피아워- 연어,불고기,치즈 각종음식들이 생각보다 종류도 많고 5성급 해피아워에 밀리지 않는 음식 퀼리티여서 진짜 해피아워 이용하면서 더 반한 로카우스!! 와인, 보드카가 좀 아쉬운거 빼고는 진짜 굿\\r\\n\\r\\n야경 정말 완벽 그자체! 제가 3번째 사진에서 찍은것은 해피아워 라운지10층 왼쪽복도 맨끝!!\\r\\n\\r\\n조식- 가짓수는 30~40여가지로 엄청 많은것도 적지도 않은 가짓수에요 근데 맛이 다 좋아서 ㅎㅎ\\r\\n아침부터 폭풍식사 했습니다. 다만 1부, 2부든 무조건 빨리가세오 안그러면 웨이팅 있습니다.\\r\\n\\r\\n나인트리 프리미어 로카우스 호텔 서울 용산\\r\\n서울 호캉스로 가성비도 좋고 기대이상 다 좋아서 만족도 정말 높은 호캉스였어용 또올게용❤️👍[REVIEW_END]',\n",
       " '[REVIEW_START]친구가 생일이라서 다 같이 방문을 했는데 1층에 카페가 있었는데 미니케이크와 숫자초까지 팔고 있어서 좋았고\\n직원분들의 빠른 피드백과 체크인 절차, 자세한 설명이 좋았습니다 ! 수영장도 물 온도도 따뜻하게 이용할 수 있었고\\n자쿠지도 있어서 마지막에 따뜻하게 이용할 수 있었습니다. 객실 내에 테이블도 있어서 밤에 야식도 시켜먹고 넘 좋았네요.\\n음식 자체가 퀄리티가 좋아서 또 갈 예정입니다![REVIEW_END]',\n",
       " '[REVIEW_START]3인 이그제큐티브로 이용했는데 티타임, 주류무제한 해피아워, 뷔페식 조식이 다포함이 된 가격이라 넘 좋았습니다!\\n객실도 깨끗하고 직원분들도 친절하고, 무엇보다 유료인 수영장이 무료로 포함이 되어 있는 점이 좋았습니다.\\n서울에 가본 이그제큐티브 중에서도 제일 음식 퀄리티가 높아서 2번째 방문이고 다음에도 또 갈 계획 있습니다![REVIEW_END]']"
      ]
     },
     "execution_count": 11,
     "metadata": {},
     "output_type": "execute_result"
    }
   ],
   "source": [
    "reviews_good, reviews_bad = [], []\n",
    "for r in review_list:\n",
    "    if r['stars'] == 5:\n",
    "        reviews_good.append('[REVIEW_START]' + r['review'] + '[REVIEW_END]') # 스페셜 토큰 추가\n",
    "    else:\n",
    "        reviews_bad.append('[REVIEW_START]' + r['review'] + '[REVIEW_END]') # 스페셜 토큰 추가\n",
    "\n",
    "reviews_bad[:3]"
   ]
  },
  {
   "cell_type": "code",
   "execution_count": 13,
   "metadata": {},
   "outputs": [
    {
     "data": {
      "text/plain": [
       "'[REVIEW_START]서울 호캉스를 알아보다가 접근성 좋은 용산역 바로앞에 위치한 나인트리 프리미어 로카우스 호텔 서울 용산!! 정말 기대 이상으로 호텔시설, 애프터눈 티,\\r\\n수영장, 해피아워, 야경, 조식 이 모든거를 다 누렸는데!\\r\\n\\r\\n가격이 20만원 초중반이라니 😍 정말 엄마도 너무 좋아하시고 저도 너무 행복했던 야놀자에 있는 이그제큐티브 라운지 상품 강추합니다👍👍👍\\r\\n\\r\\n애프터눈티- 체크인 직후에 라운지에서 티타임❤️\\r\\n가볍게 샌드위치랑 쿠키가 나왔어요\\r\\n\\r\\n수영장- 1,2,3부 중에 원하는 시간 선택해서 이용하는 방식이고 그래서 그런지 다른 수영장 대비 사람이 엄청 많지도 않았어요 카바나 이런거도 무료라 무조건 빨리 입장하셔서 좋은자리 잡는거 추천드려용! 💕\\r\\n\\r\\n해피아워- 연어,불고기,치즈 각종음식들이 생각보다 종류도 많고 5성급 해피아워에 밀리지 않는 음식 퀼리티여서 진짜 해피아워 이용하면서 더 반한 로카우스!! 와인, 보드카가 좀 아쉬운거 빼고는 진짜 굿\\r\\n\\r\\n야경 정말 완벽 그자체! 제가 3번째 사진에서 찍은것은 해피아워 라운지10층 왼쪽복도 맨끝!!\\r\\n\\r\\n조식- 가짓수는 30~40여가지로 엄청 많은것도 적지도 않은 가짓수에요 근데 맛이 다 좋아서 ㅎㅎ\\r\\n아침부터 폭풍식사 했습니다. 다만 1부, 2부든 무조건 빨리가세오 안그러면 웨이팅 있습니다.\\r\\n\\r\\n나인트리 프리미어 로카우스 호텔 서울 용산\\r\\n서울 호캉스로 가성비도 좋고 기대이상 다 좋아서 만족도 정말 높은 호캉스였어용 또올게용❤️👍[REVIEW_END]\\n[REVIEW_START]친구가 생일이라서 다 같이 방문을 했는데 1층에 카페가 있었는데 미니케이크와 숫자초까지 팔고 있어서 좋았고\\n직원분들의 빠른 피드백과 체크인 절차, 자세한 설명이 좋았습니다 ! 수영장도 물 온도도 따뜻하게 이용할 수 있었고\\n자쿠지도 있어서 마지막에 따뜻하게 이용할 수 있었습니다. 객실 내에 테이블도 있어서 밤에 야식도 시켜먹고 넘 좋았네요.\\n음식 자체가 퀄리티가 좋아서 또 갈 예정입니다![REVIEW_END]\\n[R'"
      ]
     },
     "execution_count": 13,
     "metadata": {},
     "output_type": "execute_result"
    }
   ],
   "source": [
    "reviews_good_text = '\\n'.join(reviews_good)\n",
    "reviews_bad_text = '\\n'.join(reviews_bad)\n",
    "\n",
    "reviews_bad_text[:1000]"
   ]
  },
  {
   "cell_type": "markdown",
   "metadata": {},
   "source": [
    "### 전처리 함수 작성"
   ]
  },
  {
   "cell_type": "code",
   "execution_count": 15,
   "metadata": {},
   "outputs": [
    {
     "data": {
      "text/plain": [
       "('[REVIEW_START]인사동점 이용해보고 너무 좋아서 용산점 이용했습니다~\\n건물도 너무 깨끗하고 직원들도 너무 친절했어요~\\n게다가 무인락커가 있어서 락커에 짐보관이 너무 편하고좋았습니다~^^[REVIEW_END]\\n[REVIEW_START]수영장이 이쁘고 사진찍기 좋아요. 친절하셔서 좋앗어요[REVIEW_END]\\n[REVIEW_START]체크인할때 프론트 여자직원이 정말 친절해서 기억에 남아요. 서울에 또 방문할때 여기 숙소가 1순위입니다. 감사합니다[REVIEW_END]\\n[REVIEW_START]깔끔하게 쉬다 옴니다요[REVIEW_END]\\n[REVIEW_START]용산역과 가깝고 주변에 아이파크몰도 있어서\\n친구들과 하루 날잡아 쉬기 좋았어요.\\n베개높이에 민감한데 적당하고 샤워실과 화장실 세면대가 각각 따로 있어서 여자3명이 머물기 편했습니다.\\n다음엔 못온 친구와 4인실 이용해보고 싶네요.[REVIEW_END]\\n[REVIEW_START]한강뷰가 잘 안보인다는 후기가 있어 걱정했는데',\n",
       " '[REVIEW_START]친구가 생일이라서 다 같이 방문을 했는데 1층에 카페가 있었는데 미니케이크와 숫자초까지 팔고 있어서 좋았고\\n직원분들의 빠른 피드백과 체크인 절차, 자세한 설명이 좋았습니다 ! 수영장도 물 온도도 따뜻하게 이용할 수 있었고\\n자쿠지도 있어서 마지막에 따뜻하게 이용할 수 있었습니다. 객실 내에 테이블도 있어서 밤에 야식도 시켜먹고 넘 좋았네요.\\n음식 자체가 퀄리티가 좋아서 또 갈 예정입니다![REVIEW_END]\\n[REVIEW_START]3인 이그제큐티브로 이용했는데 티타임, 주류무제한 해피아워, 뷔페식 조식이 다포함이 된 가격이라 넘 좋았습니다!\\n객실도 깨끗하고 직원분들도 친절하고, 무엇보다 유료인 수영장이 무료로 포함이 되어 있는 점이 좋았습니다.\\n서울에 가본 이그제큐티브 중에서도 제일 음식 퀄리티가 높아서 2번째 방문이고 다음에도 또 갈 계획 있습니다![REVIEW_END]\\n[REVIEW_START]깨끗하고 좋앗어요\\n다음에 또가고 싶어요[REVIEW_END]')"
      ]
     },
     "execution_count": 15,
     "metadata": {},
     "output_type": "execute_result"
    }
   ],
   "source": [
    "import datetime\n",
    "from dateutil import parser\n",
    "\n",
    "def preprocess_reviews(path='./resources/reviews.json'):\n",
    "    with open(path, 'r', encoding='utf-8') as f:\n",
    "        review_list = json.load(f)\n",
    "\n",
    "    reviews_good, reviews_bad = [], []\n",
    "\n",
    "    current_date = datetime.datetime.now()\n",
    "    date_boundary = current_date - datetime.timedelta(days=6*30)\n",
    "\n",
    "    for r in review_list:\n",
    "        review_date_str = r['date']\n",
    "        try:\n",
    "            review_date = parser.parse(review_date_str)\n",
    "        except (ValueError, TypeError):\n",
    "            review_date = current_date # 어차피 6개월 안에 들어와서..\n",
    "\n",
    "        if review_date < date_boundary:\n",
    "            continue\n",
    "\n",
    "        if r['stars'] == 5:\n",
    "            reviews_good.append('[REVIEW_START]' + r['review'] + '[REVIEW_END]')\n",
    "        else:\n",
    "            reviews_bad.append('[REVIEW_START]' + r['review'] + '[REVIEW_END]')\n",
    "\n",
    "    reviews_good_text = '\\n'.join(reviews_good)\n",
    "    reviews_bad_text = '\\n'.join(reviews_bad)\n",
    "\n",
    "    return reviews_good_text, reviews_bad_text\n",
    "\n",
    "good, bad = preprocess_reviews()\n",
    "good[:500], bad[:500]"
   ]
  },
  {
   "cell_type": "markdown",
   "metadata": {},
   "source": [
    "### 평가용 함수 작성\n",
    "\n",
    "#### 평가 기준 설정\n",
    "- MT-Bench 논문 기반 Pariwise Comparison (=LLM 기반 평가)\n",
    "  - 비교하는 방식 vs. 점수 매기는 방식\n",
    "  - 점수 라는게 애매할 수 있음 (ex. 어느 정도의 요약 품질이 3점인가?)\n",
    "  - 경험상 점수보다는 비교가 상대적으로 더 정확한 편!\n",
    "\n",
    "#### 평가 스크립트 작성\n",
    "- MT-Bench 논문 Prompt에서 일부 단어만 수정 (ex. Korean summaries, accomodations)"
   ]
  },
  {
   "cell_type": "code",
   "execution_count": 22,
   "metadata": {},
   "outputs": [],
   "source": [
    "def pairwise_eval(reviews, answer_a, answer_b):\n",
    "        eval_prompt = f\"\"\"[System]\n",
    "Please act as an impartial judge and evaluate the quality of the Korean summaries provided by two\n",
    "AI assistants to the set of user reviews on accommodations displayed below. You should choose the assistant that\n",
    "follows the user’s instructions and answers the user’s question better. Your evaluation\n",
    "should consider factors such as the helpfulness, relevance, accuracy, depth, creativity,\n",
    "and level of detail of their responses. Begin your evaluation by comparing the two\n",
    "responses and provide a short explanation. Avoid any position biases and ensure that the\n",
    "order in which the responses were presented does not influence your decision. Do not allow\n",
    "the length of the responses to influence your evaluation. Do not favor certain names of\n",
    "the assistants. Be as objective as possible. After providing your explanation, output your\n",
    "final verdict by strictly following this format: \"[[A]]\" if assistant A is better, \"[[B]]\"\n",
    "if assistant B is better, and \"[[C]]\" for a tie.\n",
    "[User Reviews]\n",
    "{reviews}\n",
    "[The Start of Assistant A’s Answer]\n",
    "{answer_a}\n",
    "[The End of Assistant A’s Answer]\n",
    "[The Start of Assistant B’s Answer]\n",
    "{answer_b}\n",
    "[The End of Assistant B’s Answer]\"\"\"\n",
    "        \n",
    "        completion = client.chat.completions.create(\n",
    "                model='gpt-4o-2024-05-13',\n",
    "                messages=[{'role': 'user', 'content': eval_prompt}],\n",
    "                temperature=0.0\n",
    "        )\n",
    "\n",
    "        return completion"
   ]
  },
  {
   "cell_type": "markdown",
   "metadata": {},
   "source": [
    "### Baseline 모델 개발"
   ]
  },
  {
   "cell_type": "code",
   "execution_count": 23,
   "metadata": {},
   "outputs": [],
   "source": [
    "PROMPT_BASELINE = f\"\"\"아래 숙소 리뷰에 대해 5문장 내로 요약해줘:\"\"\""
   ]
  },
  {
   "cell_type": "code",
   "execution_count": 19,
   "metadata": {},
   "outputs": [
    {
     "name": "stdout",
     "output_type": "stream",
     "text": [
      "다양한 리뷰를 요약하면, 숙소는 깨끗하고 직원들이 친절하며 위치가 좋다는 공통점이 있습니다. 수영장이나 조식 등 시설에 대한 긍정적인 평가도 많이 있습니다. 몇몇 리뷰에서는 주차비가 비싸다는 언급이 있지만 전반적으로 만족스러운 경험을 한다는 내용이 많이 담겨 있습니다.\n"
     ]
    }
   ],
   "source": [
    "reviews, _ = preprocess_reviews(path='./resources/reviews.json')\n",
    "\n",
    "def summarize(reviews, prompt, temperature=0.0, model='gpt-3.5-turbo-0125'):\n",
    "    prompt = prompt + '\\n\\n' + reviews\n",
    "\n",
    "    completion = client.chat.completions.create(\n",
    "        model=model,\n",
    "        messages=[{'role': 'user', 'content': prompt}],\n",
    "        temperature=temperature\n",
    "    )\n",
    "\n",
    "    return completion\n",
    "\n",
    "print(summarize(reviews, PROMPT_BASELINE).choices[0].message.content)"
   ]
  },
  {
   "cell_type": "code",
   "execution_count": 24,
   "metadata": {},
   "outputs": [],
   "source": [
    "summary_real_20240526 = '위치가 매우 우수한 숙박시설로, 인사동과 조계사, 경복궁 등 관광지에 도보로 이동할 수 있는 편리한 위치에 있습니다. 객실은 깔끔하며 직원들의 친절한 서비스와 청결한 시설이 인상적입니다. 주변에는 맛집과 편의시설이 많아 편리하며, 교통 접근성도 좋습니다. 전체적으로 만족도가 높고 자주 방문하고 싶은 곳으로 손꼽히는 숙소로 평가됩니다.'"
   ]
  },
  {
   "cell_type": "code",
   "execution_count": 25,
   "metadata": {},
   "outputs": [
    {
     "name": "stdout",
     "output_type": "stream",
     "text": [
      "Assistant A와 Assistant B의 답변을 비교해보면 다음과 같습니다:\n",
      "\n",
      "1. **도움성 및 관련성**:\n",
      "   - Assistant A는 리뷰의 주요 포인트를 간결하게 요약하여, 숙소의 청결, 친절한 서비스, 편리한 위치, 훌륭한 시설, 맛있는 조식 등을 강조했습니다. 이는 리뷰의 주요 내용을 잘 반영하고 있습니다.\n",
      "   - Assistant B는 위치와 관련된 정보를 제공했지만, 인사동, 조계사, 경복궁 등 특정 관광지와의 접근성을 언급하여 실제 리뷰 내용과는 다소 관련이 없는 정보를 포함하고 있습니다. 이는 리뷰의 주요 포인트를 정확히 반영하지 못한 것으로 보입니다.\n",
      "\n",
      "2. **정확성**:\n",
      "   - Assistant A는 리뷰에서 언급된 주요 요소들을 정확하게 반영했습니다.\n",
      "   - Assistant B는 리뷰에서 언급되지 않은 특정 관광지와의 접근성을 언급하여 정확성이 떨어집니다.\n",
      "\n",
      "3. **깊이 및 세부사항**:\n",
      "   - Assistant A는 리뷰의 주요 포인트를 간결하게 요약했지만, 깊이나 세부사항이 부족할 수 있습니다.\n",
      "   - Assistant B는 특정 관광지와의 접근성을 언급했지만, 이는 리뷰의 실제 내용과는 관련이 없으므로 깊이나 세부사항이 부적절합니다.\n",
      "\n",
      "4. **창의성**:\n",
      "   - Assistant A는 창의적인 요소는 없지만, 리뷰의 주요 내용을 정확하게 반영했습니다.\n",
      "   - Assistant B는 창의적으로 접근하려 했으나, 실제 리뷰 내용과 관련이 없는 정보를 포함하여 오히려 부정적인 영향을 미쳤습니다.\n",
      "\n",
      "종합적으로 평가하면, Assistant A의 답변이 리뷰의 주요 내용을 정확하게 반영하고 있으며, 사용자에게 더 도움이 되는 정보를 제공하고 있습니다. 따라서 최종 평가 결과는 다음과 같습니다:\n",
      "\n",
      "[[A]]\n"
     ]
    }
   ],
   "source": [
    "print(pairwise_eval(reviews, summarize(reviews, PROMPT_BASELINE).choices[0].message.content, summary_real_20240526).choices[0].message.content)"
   ]
  },
  {
   "cell_type": "markdown",
   "metadata": {},
   "source": [
    "### 대규모 평가 스크립트\n",
    "- 원래는 많은 수의 다양한 데이터에 대해 평가를 하지만, 동일한 Prompt에 대해 temperature를 높여서 평가 진행"
   ]
  },
  {
   "cell_type": "code",
   "execution_count": 26,
   "metadata": {},
   "outputs": [
    {
     "data": {
      "text/plain": [
       "['다양한 고객들이 다양한 호평을 한다. 일부 고객들은 숙소의 청결과 서비스에 대해 만족하며, 위치와 편안한 시설 등을 칭찬한다. 어떤 고객들은 뷰에 만족하며, 어떤 고객들은 조식이 맛있거나 직원들의 친절에 감동한다. 주차비가 고가로 느껴지거나 먼지 문제 등의 불편한 점을 지적하는 고객도 있다. 이를 토대로 종합적으로 판단하면, 다양한 호평을 받는 성공적인 숙소로 요약할 수 있다.',\n",
       " '인사동점 후에 용산점 이용한 손님들 칭찬. 건물과 직원 친절, 무인락커 편리. 호텔 추천하는 친절한 여직원, 잘 쉬었다고 함. 시설 만족, 깔끔하고 고객응대 칭찬.깨끗하고 다 만족하는 숙소.',\n",
       " '용산역 주변에 위치한 숙소로 깨끗하고 친절한 직원들이 돋보였으며, 편리한 시설과 무인락커가 인상적이었습니다. 수영장은 조금 작았지만 숙박을 즐거워하는 게스트가 많이 나타났고, 전반적으로 만족스러운 경험을 한 다는 내용으로 요약할 수 있습니다.',\n",
       " '다양한 리뷰 속에서 숙소는 깨끗하고 직원들은 친절하며, 위치가 편리하며 시설이 좋다는 공통점을 확인했다. (요약에는 실제 리뷰 내용을 반영하였습니다.)',\n",
       " '다양한 고객들의 리뷰를 종합해보면, 인사동점에서 너무 좋은 경험을 하여 용산점까지 이용한 고객, 친절한 직원과 깨끗한 시설을 칭찬하는 고객, 수영장을 좋아하는 고객, 도시 전망을 즐기며 편안하게 쉬었다고 말하는 고객 등이 있습니다. 위치가 좋고 청결하며 고객 서비스가 우수한 호텔로 만족한 고객들이 많다는 것을 알 수 있습니다.',\n",
       " '다양한 고객들이 용산역 인근의 깨끗하고 친절한 숙소를 찾아 만족했다. 직원 서비스, 시설, 위치 등 다양한 요소들이 좋은 평가를 받았으며 특히 친절한 직원과 편안한 침대로 편안한 휴가를 보냈다고 이곳을 추천했다.',\n",
       " '다양한 리뷰 중에서: \"용산역과 가깝고 깨끗한 객실, 친절한 직원, 수영장이 좋다\"로 요약할 수 있겠네요.',\n",
       " '다양한 리뷰들을 종합하면, 용산에 위치한 나인트리 프리미어 숙소는 깨끗하고 친절한 직원들이 있으며, 가격 대비 만족스러운 시설을 제공합니다. 위치가 편리하고, 일부 객실은 한강뷰를 감상할 수 있으며, 조식이 맛있다는 호평을 받고 있습니다. 리뷰 중 일부는 청결과 서비스, 시설에 대한 긍정적 평가를 내비친다. 주차비가 비싸다는 의견도 있지만, 전반적으로 만족스러운 경험을 전하는 리뷰가 많이 보입니다.',\n",
       " '다양한 리뷰를 종합해보면, 인사동점과 용산점은 깨끗하고 직원들이 친절하며, 락커가 편리하게 구비되어 있어 좋은 평가를 받았습니다. 다양한 숙소 시설과 깔끔한 객실, 친절한 서비스로 손님들에게 만족을 줬다고 평가받는 곳이다. 위치가 편리하고 편안한 휴식을 원한다면 추천됩니다.',\n",
       " '인사동점 이용 후 용산점 이용, 건물과 직원 친절도 좋음. 락커와 수영장 만족했고, 친구들과 쉬기에 좋음. 위치와 친절한 서비스 만족, 다만 주차비가 조금 비싸다고 함.전망과 시설이 좋아서 다음에 또 방문 의사 있음.']"
      ]
     },
     "execution_count": 26,
     "metadata": {},
     "output_type": "execute_result"
    }
   ],
   "source": [
    "eval_count = 10\n",
    "\n",
    "summaries_baseline = [summarize(reviews, PROMPT_BASELINE, temperature=1.0).choices[0].message.content for _ in range(eval_count)]\n",
    "summaries_baseline"
   ]
  },
  {
   "cell_type": "code",
   "execution_count": 27,
   "metadata": {},
   "outputs": [
    {
     "name": "stderr",
     "output_type": "stream",
     "text": [
      "100%|██████████| 10/10 [00:52<00:00,  5.30s/it]"
     ]
    },
    {
     "name": "stdout",
     "output_type": "stream",
     "text": [
      "Wins: 1, Losses: 9, Ties: 0\n"
     ]
    },
    {
     "name": "stderr",
     "output_type": "stream",
     "text": [
      "\n"
     ]
    }
   ],
   "source": [
    "from tqdm import tqdm\n",
    "\n",
    "def pairwise_eval_batch(reviews, answers_a, answers_b):\n",
    "    a_count, b_count, draw_count = 0, 0, 0\n",
    "    for i in tqdm(range(len(answers_a))):\n",
    "        completion = pairwise_eval(reviews, answers_a[i], answers_b[i])\n",
    "        verdict_text = completion.choices[0].message.content\n",
    "\n",
    "        if '[[A]]' in verdict_text:\n",
    "            a_count += 1\n",
    "        elif '[[B]]' in verdict_text:\n",
    "            b_count += 1\n",
    "        elif '[[C]]' in verdict_text:\n",
    "            c_count += 1\n",
    "        else:\n",
    "            print('Evaluation Error')\n",
    "\n",
    "    return a_count, b_count, draw_count\n",
    "\n",
    "wins, losses, ties = pairwise_eval_batch(reviews, summaries_baseline, [summaries_baseline for _ in range(len(summaries_baseline))])\n",
    "print(f'Wins: {wins}, Losses: {losses}, Ties: {ties}')"
   ]
  },
  {
   "cell_type": "markdown",
   "metadata": {},
   "source": [
    "### 모델 고도화 1 - 조건들 명시"
   ]
  },
  {
   "cell_type": "code",
   "execution_count": 28,
   "metadata": {},
   "outputs": [
    {
     "name": "stdout",
     "output_type": "stream",
     "text": [
      "Reviews: ['이나에 위치한 숙소 인사동점을 방문한 후 용산점에서도 즐거운 시간을 보냈습니다. 건물이 매우 깨끗하고 직원들이 매우 친절합니다. 무인락커가 갖추어져 있어 짐을 보관하는 데도 편리했습니다. 정말 즐거운 경험이었습니다.\\n\\n용산역과 가까운 숙소로서 주변에 아이파크몰도 위치해 있어서 편리했습니다. 친구들과 시간을 보내기에 아주 좋은 환경이었습니다. 숙소는 깔끔하고 서비스는 친절했습니다. 좋은 전망을 즐길 수 있는 수영장이 독특한 매력을 지녔습니다.\\n\\n서울 출장을 위해 편안히 쉴 수 있는 곳이었습니다. 객실은 깨끗하고 야경은 멋있었으며, 수영장은 작았지만 재미있게 이용할 수 있었습니다. 전반적으로 만족스럽고 다시 방문할 의향이 있습니다. 위치가 편리하며 시설이 깨끗하고 친절한 서비스를 제공하여 모든 면에서 만족스러운 경험이었습니다.', '인사동점을 이용하고 너무 만족스러웠어서 용산점으로 이용했습니다. 건물과 직원 모두 깨끗하고 친절했습니다. 무인락커를 이용해서 짐을 보관하는 것도 매우 편리하고 좋았습니다. 더불어 수영장이 이쁘고 사진 찍기 좋아서 좋은 평가를 받았습니다. 감사합니다.환경도 깨끗하게 쉬다왔고 방음도 잘됐어요. 다음에 또 방문 할 계획입니다.전반적으로 좋은 숙소였습니다.재방문할 의사가 있고, 모두 만족스러운 시간을 보냈습니다. 위치도 좋고 친절한 서비스에 감사드립니다. 다음에 또 방문하겠습니다.', '인사동점 이용 후 좋아해용용산점도 마음에 들어요~\\n건물이 깨끗하고 직원분들이 친절해요^^\\n무인락커로 짐보관이 너무 편했습니다~\\n\\n수영장도 이쁘고 사진 찍기 좋아요.\\n직원분들이 친절해서 좋았어요.\\n\\n프론트 여자직원이 정말 친절해서 인상적이에요.\\n서울 방문 시 여기가 1순위에요!\\n재방문 의향이 있어요.\\n\\n한강뷰가 너무 잘 보였어요!\\n통창으로 매우 만족했습니다.\\n재방문 의사 있어요.\\n\\n전반적으로 만족스럽고 좋았어요.\\n친절한 직원분들에게 매력을 느꼈습니다.', '서울에서 체크인했을 때, 숙소는 세련된 분위기의 깨끗한 객실을 제공했고, 프론트 여자직원의 친절한 응대가 기억에 남았습니다. 용산역과 가까워서 교통편이 좋았고, 다음 방문이 기대됩니다. 호텔 로비에서는 시원한 풀잎향이 맞이해주어 편안한 느낌이었습니다. 직원들의 친절한 서비스와 깔끔한 객실, 맛있는 조식으로 즐거운 휴가를 보낼 수 있었습니다. 조식은 다양하고 맛있어서 여행의 재미를 더해줬으며, 방문 고객들을 위한 친절한 서비스에 만족했습니다. 위치가 용산역 바로 앞에 있어 교통 편리하고, 쾌적한 분위기를 제공해주어 정말 편했어요.', '인사동점을 이용했는데 너무 좋아서 용산점도 이용했어요. 건물은 깨끗하고 직원들은 매우 친절했어요. 무인락커가 있어서 짐보관이 편리했어요~^^ 용산역과 가까워서 친구들과 하루를 보내기에 좋았고, 베개높이가 적당해서 여자 3명이 머물기 편했어요. 전반적으로 인상적인 숙박 경험이었어서 꼭 재방문하고 싶네요~', '인사동점 이용 후 용산점을 이용한 경험이 좋았습니다. 건물과 직원 모두 깨끗하고 친절했어요. 무인락커로 짐보관이 편리했죠.\\n\\n수영장은 이쁘고 사진 찍기 좋았습니다. 직원분들도 친절해서 만족스러웠어요.\\n\\n용산역과 가까워 아이파크몰과 함께 즐길 수 있는 좋은 위치였어요. 친구들과 함께 머물기에도 편안한 환경이었습니다. 숙소는 깔끔하고 여자 3명이 머물기에도 충분했어요. 다음에는 4인실로 오고 싶네요.', '인사동점을 이용한 후 용산점을 이용했는데, 건물이 깨끗하고 직원들도 친절해서 좋았어요. 락커에 짐 보관할 수 있는 무인락커는 너무 편했습니다^^ 수영장에서 사진 찍기 좋고 직원분들도 친절해서 좋았어요. 체크인 시 친절한 프론트 여자직원의 서비스가 기억에 남아요. 매우 만족스럽고 재방문 의사 있습니다. 위치가 용산역과 가깝고 주변에 상업시설이 좋아서 편리하게 사용했습니다. 전반적으로 깨끗하고 친절하며 만족스러운 숙박을 경험했습니다.', '전반적으로 숙소는 깨끗하고 직원들은 친절합니다. 무인락커가 있어서 짐 보관하기도 편했고, 수영장에서 사진찍기도 좋았습니다. 위치가 용산역과 가깝고 주변에 상가 시설이 많아서 휴식하기 좋았습니다.객실은 청결하고 조용해서 편안한 휴식을 취할 수 있습니다. 재방문 의사가 있는 최고의 호텔 중 하나입니다.', '고객님들이 숙소를 이용하시는 과정에서 숙박하시면서 편안한 분위기를 느끼셨습니다. 건물이 깨끗하고 직원분들도 매우 친절하셨으며 무인락커가 있어 짐 보관이 아주 편리했습니다. 수영장이 이쁘고 사진 찍기 좋았고 친절한 서비스도 인상깊었다는 말이 있었습니다. 또한 체크인할때 프론트 여자직원의 친절한 응대에 기억에 남았고 좋아했습니다. 숙소는 깔끔하고 쉬기에 좋은 숙소였으며 방음도 잘 되는 것으로 평가 받았습니다. 다음에 또 방문할 계획을 가지신 분들도 계셨습니다. 위치도 정말 좋았고 전망도 훌륭했다는 소감도 있었습니다. 숙소 전체적으로 만족스럽고 잘 쉬다 갔다는 리뷰를 남긴 분들도 있었습니다. 호텔의 서비스와 깔끔한 시설에 모두 만족하셨다는 평이 많아서 추천하는 분위기가 느껴졌습니다.요약을 통해 그런 멋진 숙소를 더 많은 사람들이 발견하고 소중한 시간을 보내길 기대합니다.', '인사동점을 이용한 후 용산점을 선택한 고객은 건물과 직원의 친절함에 만족했습니다. 무인락커가 있어서 짐보관이 매우 편리하다고 해요. 수영장이 이쁘고 사진 찍기 좋았다며, 직원들의 친절도 좋았다는 리뷰도 있습니다.체크인할 때 프론트 여직원의 친절함에 감명받았고, 위치와 서비스에 만족한다며 재방문 의사를 밝힌 리뷰도 있습니다.여러 리뷰 중에서도 가장 긍정적인 평가를 받은 고객은 숙소를 \"인생 첫 호텔\"이라 칭해 만족스러운 경험을 했다고 밝히며, 침구의 편안함에 대해 깊게 언급하였습니다.모두다 침구류와 침대에 대한 언급을 했네요. 나무랄 데 없이 깔끔한 숙박 공간과 친절한 서비스가 특징적인 호텔 리뷰도 있습니다. 전반적으로 만족스럽다는 후기들이 많이 보입니다. 위치, 청결, 서비스, 시설에 대한 칭찬을 많이 받았습니다. 다음에도 재방문할 의사를 밝힌 고객들이 상당한 비중을 차지하고 있습니다.']\n",
      "\n",
      "\n"
     ]
    },
    {
     "name": "stderr",
     "output_type": "stream",
     "text": [
      "100%|██████████| 10/10 [00:41<00:00,  4.19s/it]"
     ]
    },
    {
     "name": "stdout",
     "output_type": "stream",
     "text": [
      "Wins: 10, Losses: 0, Ties: 0\n"
     ]
    },
    {
     "name": "stderr",
     "output_type": "stream",
     "text": [
      "\n"
     ]
    }
   ],
   "source": [
    "prompt = f\"\"\"당신은 요약 전문가입니다. 사용자 숙소 리뷰들이 주어졌을 때 요약하는 것이 당신의 목표입니다.\n",
    "\n",
    "요약 결과는 다음 조건들을 충족해야 합니다:\n",
    "1. 모든 문장은 항상 존댓말로 끝나야 합니다.\n",
    "2. 숙소에 대해 소개하는 톤앤매너로 작성해주세요.\n",
    "  2-1. 좋은 예시\n",
    "    a) 전반적으로 좋은 숙소였고 방음도 괜찮았다는 평입니다.\n",
    "    b) 재방문 예정이라는 평들이 존재합니다.\n",
    "  2-2. 나쁜 예시\n",
    "    a) 좋은 숙소였고 방음도 괜찮았습니다.\n",
    "    b) 재방문 예정입니다.\n",
    "3. 요약 결과는 최소 2문장, 최대 5문장 사이로 작성해주세요.\n",
    "    \n",
    "아래 숙소 리뷰들에 대해 요약해주세요:\"\"\"\n",
    "\n",
    "eval_count = 10\n",
    "summaries = [summarize(reviews, prompt, temperature=1.0).choices[0].message.content for _ in range(eval_count)]\n",
    "print(f'Reviews: {summaries}' + '\\n\\n')\n",
    "\n",
    "wins, losses, ties = pairwise_eval_batch(reviews, summaries, [summary_real_20240526 for _ in range(len(summaries))])\n",
    "print(f'Wins: {wins}, Losses: {losses}, Ties: {ties}')"
   ]
  },
  {
   "cell_type": "markdown",
   "metadata": {},
   "source": [
    "### 모델 고도화 2 - 입력 데이터의 품질 평가"
   ]
  },
  {
   "cell_type": "code",
   "execution_count": 30,
   "metadata": {},
   "outputs": [
    {
     "name": "stdout",
     "output_type": "stream",
     "text": [
      "수영장이 이쁘고 사진찍기 좋아요. 친절하셔서 좋앗어요\n",
      "깔끔하게 쉬다 옴니다요\n",
      "서울 출장으로 편하게 쉬었습니다\n",
      "전반적으로 만족스럽고 좋았습니다\n",
      "방은 나무랄데 없이 깔끔했고 전망도 좋았어요.\n",
      "깨끗하고 좋앗어요\n",
      "다음에 또가고 싶어요\n",
      "너무 최고였고 좋은 시간 보냈습니당 좋아용\n",
      "좋아요~~다음에 재방문할게요\n",
      "항상 편히 잘쉬다 갑니다\n",
      "미국식인테리어\n",
      "\n",
      "세련되지만 그곳에 편안함이 있다.\n",
      "너무친절해서 감동했습니다.\n",
      "편하게 잘 쉬었어요\n",
      "시설도 좋고 깔끔해서 잘 쉬다 갑니다!!\n",
      "전반적으로 다 좋았습니다~\n",
      "전반적으로 청결하고 직원분들이 친절해요\n",
      "제가 다닌 호텔중에서 단연 최고라 할수 있습니다\n",
      "너무 만족스러운 하루 였어요\n",
      "하루지만 행복했습니다!\n",
      "좋은 추억 남기고갑니다ㅎㅎ\n",
      "편히 쉬다 갑니다.\n",
      "너무 친절하십니다 잘 쉬다갑니다!!\n",
      "스위트룸이라 넓고 좋았어요\n",
      "편하고 좋았습니다\n",
      "다음에 또 방문할게요\n",
      "담배 냄새가 나서 불쾌했음\n",
      "침대가 너무 폭신해서 꿀잠 잤습니다!\n",
      "즐겁고 편안한 시간 보냈어요\n",
      "너무 깔끔하고 좋은 가격에 호캉스 잘 즐기고 갑니다!\n",
      "객실 넓고 깨끗하고 좋았어요 위치도 좋습니다\n",
      "깨끗하고 넓고 좋네요\n",
      "역근처이고 깔끔하고 좋았어요~\n",
      "새로생긴 곳이라 깨끗한 시설이 최대 장점이에요\n",
      "너무 잘 쉬었다 가요!\n",
      "용산역에서 가깝고 한경뷰가 너무 머싯었어요\n",
      "쾌적하고 좋았습니다.\n",
      "깨끗하고 좋았습니다 ㅎㅎ\n",
      "잘 쉬었다 갑니다.\n",
      "너무너무 깨끗하고 포근하고 좋았어요\n",
      "너무너무 즐거운 시간이었습니다ㅎㅎ\n",
      "용산역 앞이고.좋네요\n",
      "얼음을 가져갈수 있는 층이 있었음 하네요\n",
      "너무 좋았습니다 매우 추천합니다!\n",
      "최곱니다 정말로 너무 좋았어요\n",
      "좋아요. 잘사용했습니다.\n",
      "좁지만 좋은 호텔입니다\n",
      "Good Reviews 40, Filtered: 43\n"
     ]
    }
   ],
   "source": [
    "import datetime\n",
    "from dateutil import parser\n",
    "\n",
    "def preprocess_reviews(path='./resources/reviews.json'):\n",
    "    with open(path, 'r', encoding='utf-8') as f:\n",
    "        review_list = json.load(f)\n",
    "\n",
    "    reviews_good, reviews_bad = [], []\n",
    "\n",
    "    current_date = datetime.datetime.now()\n",
    "    date_boundary = current_date - datetime.timedelta(days=6*30)\n",
    "\n",
    "    filterd_count = 0\n",
    "    for r in review_list:\n",
    "        review_date_str = r['date']\n",
    "        try:\n",
    "            review_date = parser.parse(review_date_str)\n",
    "        except (ValueError, TypeError):\n",
    "            review_date = current_date # 어차피 6개월 안에 들어와서..\n",
    "\n",
    "        if review_date < date_boundary:\n",
    "            continue\n",
    "\n",
    "        if len(r['review']) < 30: # 30글자 이하 리뷰 필터링\n",
    "            filterd_count += 1\n",
    "            print(r['review'])\n",
    "            continue\n",
    "\n",
    "        if r['stars'] == 5:\n",
    "            reviews_good.append('[REVIEW_START]' + r['review'] + '[REVIEW_END]')\n",
    "        else:\n",
    "            reviews_bad.append('[REVIEW_START]' + r['review'] + '[REVIEW_END]')\n",
    "\n",
    "    reviews_good_text = '\\n'.join(reviews_good)\n",
    "    reviews_bad_text = '\\n'.join(reviews_bad)\n",
    "    print(f'Good Reviews {len(reviews_good)}, Filtered: {filterd_count}')\n",
    "\n",
    "    return reviews_good_text, reviews_bad_text\n",
    "\n",
    "reviews, _ = preprocess_reviews()"
   ]
  },
  {
   "cell_type": "code",
   "execution_count": 31,
   "metadata": {},
   "outputs": [
    {
     "name": "stderr",
     "output_type": "stream",
     "text": [
      "100%|██████████| 10/10 [00:39<00:00,  3.97s/it]"
     ]
    },
    {
     "name": "stdout",
     "output_type": "stream",
     "text": [
      "Wins: 10, Losses: 0, Ties: 0\n"
     ]
    },
    {
     "name": "stderr",
     "output_type": "stream",
     "text": [
      "\n"
     ]
    }
   ],
   "source": [
    "eval_count = 10\n",
    "summaries = [summarize(reviews, prompt, temperature=1.0, model='gpt-3.5-turbo-0125').choices[0].message.content for _ in range(eval_count)]\n",
    "wins, losses, ties = pairwise_eval_batch(reviews, summaries, [summary_real_20240526 for _ in range(len(summaries))])\n",
    "print(f'Wins: {wins}, Losses: {losses}, Ties: {ties}')"
   ]
  }
 ],
 "metadata": {
  "kernelspec": {
   "display_name": ".venv",
   "language": "python",
   "name": ".venv"
  },
  "language_info": {
   "codemirror_mode": {
    "name": "ipython",
    "version": 3
   },
   "file_extension": ".py",
   "mimetype": "text/x-python",
   "name": "python",
   "nbconvert_exporter": "python",
   "pygments_lexer": "ipython3",
   "version": "3.12.7"
  }
 },
 "nbformat": 4,
 "nbformat_minor": 2
}
