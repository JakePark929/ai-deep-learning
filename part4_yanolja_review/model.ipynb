{
 "cells": [
  {
   "cell_type": "code",
   "execution_count": 3,
   "metadata": {},
   "outputs": [
    {
     "name": "stdout",
     "output_type": "stream",
     "text": [
      "Hello! How can I assist you today?\n"
     ]
    }
   ],
   "source": [
    "import os\n",
    "\n",
    "from dotenv import load_dotenv\n",
    "from openai import OpenAI\n",
    "\n",
    "# .env 파일에서 환경 변수 로드\n",
    "load_dotenv()\n",
    "\n",
    "# API 키 가져오기\n",
    "MY_OPENAI_KEY = os.getenv(\"MY_OPENAI_KEY\")\n",
    "\n",
    "client = OpenAI(api_key=MY_OPENAI_KEY)\n",
    "\n",
    "completion = client.chat.completions.create(\n",
    "    model='gpt-3.5-turbo-0125',\n",
    "    messages=[{'role': 'user', 'content': 'hi'}],\n",
    "    temperature=0.0\n",
    ")\n",
    "\n",
    "print(completion.choices[0].message.content)"
   ]
  },
  {
   "cell_type": "markdown",
   "metadata": {},
   "source": [
    "# 데이터 전처리 함수 작성 241210"
   ]
  },
  {
   "cell_type": "markdown",
   "metadata": {},
   "source": [
    "### 리뷰 JSON 파일 로드"
   ]
  },
  {
   "cell_type": "code",
   "execution_count": 9,
   "metadata": {},
   "outputs": [
    {
     "data": {
      "text/plain": [
       "[{'review': '서울 호캉스를 알아보다가 접근성 좋은 용산역 바로앞에 위치한 나인트리 프리미어 로카우스 호텔 서울 용산!! 정말 기대 이상으로 호텔시설, 애프터눈 티,\\r\\n수영장, 해피아워, 야경, 조식 이 모든거를 다 누렸는데!\\r\\n\\r\\n가격이 20만원 초중반이라니 😍 정말 엄마도 너무 좋아하시고 저도 너무 행복했던 야놀자에 있는 이그제큐티브 라운지 상품 강추합니다👍👍👍\\r\\n\\r\\n애프터눈티- 체크인 직후에 라운지에서 티타임❤️\\r\\n가볍게 샌드위치랑 쿠키가 나왔어요\\r\\n\\r\\n수영장- 1,2,3부 중에 원하는 시간 선택해서 이용하는 방식이고 그래서 그런지 다른 수영장 대비 사람이 엄청 많지도 않았어요 카바나 이런거도 무료라 무조건 빨리 입장하셔서 좋은자리 잡는거 추천드려용! 💕\\r\\n\\r\\n해피아워- 연어,불고기,치즈 각종음식들이 생각보다 종류도 많고 5성급 해피아워에 밀리지 않는 음식 퀼리티여서 진짜 해피아워 이용하면서 더 반한 로카우스!! 와인, 보드카가 좀 아쉬운거 빼고는 진짜 굿\\r\\n\\r\\n야경 정말 완벽 그자체! 제가 3번째 사진에서 찍은것은 해피아워 라운지10층 왼쪽복도 맨끝!!\\r\\n\\r\\n조식- 가짓수는 30~40여가지로 엄청 많은것도 적지도 않은 가짓수에요 근데 맛이 다 좋아서 ㅎㅎ\\r\\n아침부터 폭풍식사 했습니다. 다만 1부, 2부든 무조건 빨리가세오 안그러면 웨이팅 있습니다.\\r\\n\\r\\n나인트리 프리미어 로카우스 호텔 서울 용산\\r\\n서울 호캉스로 가성비도 좋고 기대이상 다 좋아서 만족도 정말 높은 호캉스였어용 또올게용❤️👍',\n",
       "  'stars': 4,\n",
       "  'date': '2024.01.24'},\n",
       " {'review': '인사동점 이용해보고 너무 좋아서 용산점 이용했습니다~\\n건물도 너무 깨끗하고 직원들도 너무 친절했어요~\\n게다가 무인락커가 있어서 락커에 짐보관이 너무 편하고좋았습니다~^^',\n",
       "  'stars': 5,\n",
       "  'date': '6일 전'},\n",
       " {'review': '친구가 생일이라서 다 같이 방문을 했는데 1층에 카페가 있었는데 미니케이크와 숫자초까지 팔고 있어서 좋았고\\n직원분들의 빠른 피드백과 체크인 절차, 자세한 설명이 좋았습니다 ! 수영장도 물 온도도 따뜻하게 이용할 수 있었고\\n자쿠지도 있어서 마지막에 따뜻하게 이용할 수 있었습니다. 객실 내에 테이블도 있어서 밤에 야식도 시켜먹고 넘 좋았네요.\\n음식 자체가 퀄리티가 좋아서 또 갈 예정입니다!',\n",
       "  'stars': 4,\n",
       "  'date': '2024.11.30'}]"
      ]
     },
     "execution_count": 9,
     "metadata": {},
     "output_type": "execute_result"
    }
   ],
   "source": [
    "import json\n",
    "\n",
    "with open('./resources/reviews.json', 'r', encoding='utf-8') as f:\n",
    "    review_list = json.load(f)\n",
    "\n",
    "review_list[: 3]"
   ]
  },
  {
   "cell_type": "markdown",
   "metadata": {},
   "source": [
    "#### 좋은 평점 및 나쁜 평점 정의\n",
    " - 좋은 평점 = 별 5개\n",
    " - 나쁜 평점 = 별 4개 이하"
   ]
  },
  {
   "cell_type": "code",
   "execution_count": 10,
   "metadata": {},
   "outputs": [
    {
     "data": {
      "text/plain": [
       "(79, 21)"
      ]
     },
     "execution_count": 10,
     "metadata": {},
     "output_type": "execute_result"
    }
   ],
   "source": [
    "good_count, bad_count = 0, 0\n",
    "for r in review_list:\n",
    "    if r['stars'] == 5:\n",
    "        good_count += 1\n",
    "    else:\n",
    "        bad_count += 1\n",
    "\n",
    "good_count, bad_count"
   ]
  },
  {
   "cell_type": "markdown",
   "metadata": {},
   "source": [
    "### 좋은 리뷰 및 나쁜 리뷰로 구분 후 저장"
   ]
  },
  {
   "cell_type": "code",
   "execution_count": 11,
   "metadata": {},
   "outputs": [
    {
     "data": {
      "text/plain": [
       "['[REVIEW_START]서울 호캉스를 알아보다가 접근성 좋은 용산역 바로앞에 위치한 나인트리 프리미어 로카우스 호텔 서울 용산!! 정말 기대 이상으로 호텔시설, 애프터눈 티,\\r\\n수영장, 해피아워, 야경, 조식 이 모든거를 다 누렸는데!\\r\\n\\r\\n가격이 20만원 초중반이라니 😍 정말 엄마도 너무 좋아하시고 저도 너무 행복했던 야놀자에 있는 이그제큐티브 라운지 상품 강추합니다👍👍👍\\r\\n\\r\\n애프터눈티- 체크인 직후에 라운지에서 티타임❤️\\r\\n가볍게 샌드위치랑 쿠키가 나왔어요\\r\\n\\r\\n수영장- 1,2,3부 중에 원하는 시간 선택해서 이용하는 방식이고 그래서 그런지 다른 수영장 대비 사람이 엄청 많지도 않았어요 카바나 이런거도 무료라 무조건 빨리 입장하셔서 좋은자리 잡는거 추천드려용! 💕\\r\\n\\r\\n해피아워- 연어,불고기,치즈 각종음식들이 생각보다 종류도 많고 5성급 해피아워에 밀리지 않는 음식 퀼리티여서 진짜 해피아워 이용하면서 더 반한 로카우스!! 와인, 보드카가 좀 아쉬운거 빼고는 진짜 굿\\r\\n\\r\\n야경 정말 완벽 그자체! 제가 3번째 사진에서 찍은것은 해피아워 라운지10층 왼쪽복도 맨끝!!\\r\\n\\r\\n조식- 가짓수는 30~40여가지로 엄청 많은것도 적지도 않은 가짓수에요 근데 맛이 다 좋아서 ㅎㅎ\\r\\n아침부터 폭풍식사 했습니다. 다만 1부, 2부든 무조건 빨리가세오 안그러면 웨이팅 있습니다.\\r\\n\\r\\n나인트리 프리미어 로카우스 호텔 서울 용산\\r\\n서울 호캉스로 가성비도 좋고 기대이상 다 좋아서 만족도 정말 높은 호캉스였어용 또올게용❤️👍[REVIEW_END]',\n",
       " '[REVIEW_START]친구가 생일이라서 다 같이 방문을 했는데 1층에 카페가 있었는데 미니케이크와 숫자초까지 팔고 있어서 좋았고\\n직원분들의 빠른 피드백과 체크인 절차, 자세한 설명이 좋았습니다 ! 수영장도 물 온도도 따뜻하게 이용할 수 있었고\\n자쿠지도 있어서 마지막에 따뜻하게 이용할 수 있었습니다. 객실 내에 테이블도 있어서 밤에 야식도 시켜먹고 넘 좋았네요.\\n음식 자체가 퀄리티가 좋아서 또 갈 예정입니다![REVIEW_END]',\n",
       " '[REVIEW_START]3인 이그제큐티브로 이용했는데 티타임, 주류무제한 해피아워, 뷔페식 조식이 다포함이 된 가격이라 넘 좋았습니다!\\n객실도 깨끗하고 직원분들도 친절하고, 무엇보다 유료인 수영장이 무료로 포함이 되어 있는 점이 좋았습니다.\\n서울에 가본 이그제큐티브 중에서도 제일 음식 퀄리티가 높아서 2번째 방문이고 다음에도 또 갈 계획 있습니다![REVIEW_END]']"
      ]
     },
     "execution_count": 11,
     "metadata": {},
     "output_type": "execute_result"
    }
   ],
   "source": [
    "reviews_good, reviews_bad = [], []\n",
    "for r in review_list:\n",
    "    if r['stars'] == 5:\n",
    "        reviews_good.append('[REVIEW_START]' + r['review'] + '[REVIEW_END]') # 스페셜 토큰 추가\n",
    "    else:\n",
    "        reviews_bad.append('[REVIEW_START]' + r['review'] + '[REVIEW_END]') # 스페셜 토큰 추가\n",
    "\n",
    "reviews_bad[:3]"
   ]
  },
  {
   "cell_type": "code",
   "execution_count": 13,
   "metadata": {},
   "outputs": [
    {
     "data": {
      "text/plain": [
       "'[REVIEW_START]서울 호캉스를 알아보다가 접근성 좋은 용산역 바로앞에 위치한 나인트리 프리미어 로카우스 호텔 서울 용산!! 정말 기대 이상으로 호텔시설, 애프터눈 티,\\r\\n수영장, 해피아워, 야경, 조식 이 모든거를 다 누렸는데!\\r\\n\\r\\n가격이 20만원 초중반이라니 😍 정말 엄마도 너무 좋아하시고 저도 너무 행복했던 야놀자에 있는 이그제큐티브 라운지 상품 강추합니다👍👍👍\\r\\n\\r\\n애프터눈티- 체크인 직후에 라운지에서 티타임❤️\\r\\n가볍게 샌드위치랑 쿠키가 나왔어요\\r\\n\\r\\n수영장- 1,2,3부 중에 원하는 시간 선택해서 이용하는 방식이고 그래서 그런지 다른 수영장 대비 사람이 엄청 많지도 않았어요 카바나 이런거도 무료라 무조건 빨리 입장하셔서 좋은자리 잡는거 추천드려용! 💕\\r\\n\\r\\n해피아워- 연어,불고기,치즈 각종음식들이 생각보다 종류도 많고 5성급 해피아워에 밀리지 않는 음식 퀼리티여서 진짜 해피아워 이용하면서 더 반한 로카우스!! 와인, 보드카가 좀 아쉬운거 빼고는 진짜 굿\\r\\n\\r\\n야경 정말 완벽 그자체! 제가 3번째 사진에서 찍은것은 해피아워 라운지10층 왼쪽복도 맨끝!!\\r\\n\\r\\n조식- 가짓수는 30~40여가지로 엄청 많은것도 적지도 않은 가짓수에요 근데 맛이 다 좋아서 ㅎㅎ\\r\\n아침부터 폭풍식사 했습니다. 다만 1부, 2부든 무조건 빨리가세오 안그러면 웨이팅 있습니다.\\r\\n\\r\\n나인트리 프리미어 로카우스 호텔 서울 용산\\r\\n서울 호캉스로 가성비도 좋고 기대이상 다 좋아서 만족도 정말 높은 호캉스였어용 또올게용❤️👍[REVIEW_END]\\n[REVIEW_START]친구가 생일이라서 다 같이 방문을 했는데 1층에 카페가 있었는데 미니케이크와 숫자초까지 팔고 있어서 좋았고\\n직원분들의 빠른 피드백과 체크인 절차, 자세한 설명이 좋았습니다 ! 수영장도 물 온도도 따뜻하게 이용할 수 있었고\\n자쿠지도 있어서 마지막에 따뜻하게 이용할 수 있었습니다. 객실 내에 테이블도 있어서 밤에 야식도 시켜먹고 넘 좋았네요.\\n음식 자체가 퀄리티가 좋아서 또 갈 예정입니다![REVIEW_END]\\n[R'"
      ]
     },
     "execution_count": 13,
     "metadata": {},
     "output_type": "execute_result"
    }
   ],
   "source": [
    "reviews_good_text = '\\n'.join(reviews_good)\n",
    "reviews_bad_text = '\\n'.join(reviews_bad)\n",
    "\n",
    "reviews_bad_text[:1000]"
   ]
  },
  {
   "cell_type": "markdown",
   "metadata": {},
   "source": [
    "### 전처리 함수 작성"
   ]
  },
  {
   "cell_type": "code",
   "execution_count": 15,
   "metadata": {},
   "outputs": [
    {
     "data": {
      "text/plain": [
       "('[REVIEW_START]인사동점 이용해보고 너무 좋아서 용산점 이용했습니다~\\n건물도 너무 깨끗하고 직원들도 너무 친절했어요~\\n게다가 무인락커가 있어서 락커에 짐보관이 너무 편하고좋았습니다~^^[REVIEW_END]\\n[REVIEW_START]수영장이 이쁘고 사진찍기 좋아요. 친절하셔서 좋앗어요[REVIEW_END]\\n[REVIEW_START]체크인할때 프론트 여자직원이 정말 친절해서 기억에 남아요. 서울에 또 방문할때 여기 숙소가 1순위입니다. 감사합니다[REVIEW_END]\\n[REVIEW_START]깔끔하게 쉬다 옴니다요[REVIEW_END]\\n[REVIEW_START]용산역과 가깝고 주변에 아이파크몰도 있어서\\n친구들과 하루 날잡아 쉬기 좋았어요.\\n베개높이에 민감한데 적당하고 샤워실과 화장실 세면대가 각각 따로 있어서 여자3명이 머물기 편했습니다.\\n다음엔 못온 친구와 4인실 이용해보고 싶네요.[REVIEW_END]\\n[REVIEW_START]한강뷰가 잘 안보인다는 후기가 있어 걱정했는데',\n",
       " '[REVIEW_START]친구가 생일이라서 다 같이 방문을 했는데 1층에 카페가 있었는데 미니케이크와 숫자초까지 팔고 있어서 좋았고\\n직원분들의 빠른 피드백과 체크인 절차, 자세한 설명이 좋았습니다 ! 수영장도 물 온도도 따뜻하게 이용할 수 있었고\\n자쿠지도 있어서 마지막에 따뜻하게 이용할 수 있었습니다. 객실 내에 테이블도 있어서 밤에 야식도 시켜먹고 넘 좋았네요.\\n음식 자체가 퀄리티가 좋아서 또 갈 예정입니다![REVIEW_END]\\n[REVIEW_START]3인 이그제큐티브로 이용했는데 티타임, 주류무제한 해피아워, 뷔페식 조식이 다포함이 된 가격이라 넘 좋았습니다!\\n객실도 깨끗하고 직원분들도 친절하고, 무엇보다 유료인 수영장이 무료로 포함이 되어 있는 점이 좋았습니다.\\n서울에 가본 이그제큐티브 중에서도 제일 음식 퀄리티가 높아서 2번째 방문이고 다음에도 또 갈 계획 있습니다![REVIEW_END]\\n[REVIEW_START]깨끗하고 좋앗어요\\n다음에 또가고 싶어요[REVIEW_END]')"
      ]
     },
     "execution_count": 15,
     "metadata": {},
     "output_type": "execute_result"
    }
   ],
   "source": [
    "import datetime\n",
    "from dateutil import parser\n",
    "\n",
    "def preprocess_reviews(path='./resources/reviews.json'):\n",
    "    with open(path, 'r', encoding='utf-8') as f:\n",
    "        review_list = json.load(f)\n",
    "\n",
    "    reviews_good, reviews_bad = [], []\n",
    "\n",
    "    current_date = datetime.datetime.now()\n",
    "    date_boundary = current_date - datetime.timedelta(days=6*30)\n",
    "\n",
    "    for r in review_list:\n",
    "        review_date_str = r['date']\n",
    "        try:\n",
    "            review_date = parser.parse(review_date_str)\n",
    "        except (ValueError, TypeError):\n",
    "            review_date = current_date # 어차피 6개월 안에 들어와서..\n",
    "\n",
    "        if review_date < date_boundary:\n",
    "            continue\n",
    "\n",
    "        if r['stars'] == 5:\n",
    "            reviews_good.append('[REVIEW_START]' + r['review'] + '[REVIEW_END]')\n",
    "        else:\n",
    "            reviews_bad.append('[REVIEW_START]' + r['review'] + '[REVIEW_END]')\n",
    "\n",
    "    reviews_good_text = '\\n'.join(reviews_good)\n",
    "    reviews_bad_text = '\\n'.join(reviews_bad)\n",
    "\n",
    "    return reviews_good_text, reviews_bad_text\n",
    "\n",
    "good, bad = preprocess_reviews()\n",
    "good[:500], bad[:500]"
   ]
  },
  {
   "cell_type": "markdown",
   "metadata": {},
   "source": [
    "### 평가용 함수 작성\n",
    "\n",
    "#### 평가 기준 설정\n",
    "- MT-Bench 논문 기반 Pariwise Comparison (=LLM 기반 평가)\n",
    "  - 비교하는 방식 vs. 점수 매기는 방식\n",
    "  - 점수 라는게 애매할 수 있음 (ex. 어느 정도의 요약 품질이 3점인가?)\n",
    "  - 경험상 점수보다는 비교가 상대적으로 더 정확한 편!\n",
    "\n",
    "#### 평가 스크립트 작성\n",
    "- MT-Bench 논문 Prompt에서 일부 단어만 수정 (ex. Korean summaries, accomodations)"
   ]
  },
  {
   "cell_type": "code",
   "execution_count": 22,
   "metadata": {},
   "outputs": [],
   "source": [
    "def pairwise_eval(reviews, answer_a, answer_b):\n",
    "        eval_prompt = f\"\"\"[System]\n",
    "Please act as an impartial judge and evaluate the quality of the Korean summaries provided by two\n",
    "AI assistants to the set of user reviews on accommodations displayed below. You should choose the assistant that\n",
    "follows the user’s instructions and answers the user’s question better. Your evaluation\n",
    "should consider factors such as the helpfulness, relevance, accuracy, depth, creativity,\n",
    "and level of detail of their responses. Begin your evaluation by comparing the two\n",
    "responses and provide a short explanation. Avoid any position biases and ensure that the\n",
    "order in which the responses were presented does not influence your decision. Do not allow\n",
    "the length of the responses to influence your evaluation. Do not favor certain names of\n",
    "the assistants. Be as objective as possible. After providing your explanation, output your\n",
    "final verdict by strictly following this format: \"[[A]]\" if assistant A is better, \"[[B]]\"\n",
    "if assistant B is better, and \"[[C]]\" for a tie.\n",
    "[User Reviews]\n",
    "{reviews}\n",
    "[The Start of Assistant A’s Answer]\n",
    "{answer_a}\n",
    "[The End of Assistant A’s Answer]\n",
    "[The Start of Assistant B’s Answer]\n",
    "{answer_b}\n",
    "[The End of Assistant B’s Answer]\"\"\"\n",
    "        \n",
    "        completion = client.chat.completions.create(\n",
    "                model='gpt-4o-2024-05-13',\n",
    "                messages=[{'role': 'user', 'content': eval_prompt}],\n",
    "                temperature=0.0\n",
    "        )\n",
    "\n",
    "        return completion"
   ]
  },
  {
   "cell_type": "markdown",
   "metadata": {},
   "source": [
    "### Baseline 모델 개발"
   ]
  },
  {
   "cell_type": "code",
   "execution_count": 23,
   "metadata": {},
   "outputs": [],
   "source": [
    "PROMPT_BASELINE = f\"\"\"아래 숙소 리뷰에 대해 5문장 내로 요약해줘:\"\"\""
   ]
  },
  {
   "cell_type": "code",
   "execution_count": 19,
   "metadata": {},
   "outputs": [
    {
     "name": "stdout",
     "output_type": "stream",
     "text": [
      "다양한 리뷰를 요약하면, 숙소는 깨끗하고 직원들이 친절하며 위치가 좋다는 공통점이 있습니다. 수영장이나 조식 등 시설에 대한 긍정적인 평가도 많이 있습니다. 몇몇 리뷰에서는 주차비가 비싸다는 언급이 있지만 전반적으로 만족스러운 경험을 한다는 내용이 많이 담겨 있습니다.\n"
     ]
    }
   ],
   "source": [
    "reviews, _ = preprocess_reviews(path='./resources/reviews.json')\n",
    "\n",
    "def summarize(reviews, prompt, temperature=0.0, model='gpt-3.5-turbo-0125'):\n",
    "    prompt = prompt + '\\n\\n' + reviews\n",
    "\n",
    "    completion = client.chat.completions.create(\n",
    "        model=model,\n",
    "        messages=[{'role': 'user', 'content': prompt}],\n",
    "        temperature=temperature\n",
    "    )\n",
    "\n",
    "    return completion\n",
    "\n",
    "print(summarize(reviews, PROMPT_BASELINE).choices[0].message.content)"
   ]
  },
  {
   "cell_type": "code",
   "execution_count": 24,
   "metadata": {},
   "outputs": [],
   "source": [
    "summary_real_20240526 = '위치가 매우 우수한 숙박시설로, 인사동과 조계사, 경복궁 등 관광지에 도보로 이동할 수 있는 편리한 위치에 있습니다. 객실은 깔끔하며 직원들의 친절한 서비스와 청결한 시설이 인상적입니다. 주변에는 맛집과 편의시설이 많아 편리하며, 교통 접근성도 좋습니다. 전체적으로 만족도가 높고 자주 방문하고 싶은 곳으로 손꼽히는 숙소로 평가됩니다.'"
   ]
  },
  {
   "cell_type": "code",
   "execution_count": 25,
   "metadata": {},
   "outputs": [
    {
     "name": "stdout",
     "output_type": "stream",
     "text": [
      "Assistant A와 Assistant B의 답변을 비교해보면 다음과 같습니다:\n",
      "\n",
      "1. **도움성 및 관련성**:\n",
      "   - Assistant A는 리뷰의 주요 포인트를 간결하게 요약하여, 숙소의 청결, 친절한 서비스, 편리한 위치, 훌륭한 시설, 맛있는 조식 등을 강조했습니다. 이는 리뷰의 주요 내용을 잘 반영하고 있습니다.\n",
      "   - Assistant B는 위치와 관련된 정보를 제공했지만, 인사동, 조계사, 경복궁 등 특정 관광지와의 접근성을 언급하여 실제 리뷰 내용과는 다소 관련이 없는 정보를 포함하고 있습니다. 이는 리뷰의 주요 포인트를 정확히 반영하지 못한 것으로 보입니다.\n",
      "\n",
      "2. **정확성**:\n",
      "   - Assistant A는 리뷰에서 언급된 주요 요소들을 정확하게 반영했습니다.\n",
      "   - Assistant B는 리뷰에서 언급되지 않은 특정 관광지와의 접근성을 언급하여 정확성이 떨어집니다.\n",
      "\n",
      "3. **깊이 및 세부사항**:\n",
      "   - Assistant A는 리뷰의 주요 포인트를 간결하게 요약했지만, 깊이나 세부사항이 부족할 수 있습니다.\n",
      "   - Assistant B는 특정 관광지와의 접근성을 언급했지만, 이는 리뷰의 실제 내용과는 관련이 없으므로 깊이나 세부사항이 부적절합니다.\n",
      "\n",
      "4. **창의성**:\n",
      "   - Assistant A는 창의적인 요소는 없지만, 리뷰의 주요 내용을 정확하게 반영했습니다.\n",
      "   - Assistant B는 창의적으로 접근하려 했으나, 실제 리뷰 내용과 관련이 없는 정보를 포함하여 오히려 부정적인 영향을 미쳤습니다.\n",
      "\n",
      "종합적으로 평가하면, Assistant A의 답변이 리뷰의 주요 내용을 정확하게 반영하고 있으며, 사용자에게 더 도움이 되는 정보를 제공하고 있습니다. 따라서 최종 평가 결과는 다음과 같습니다:\n",
      "\n",
      "[[A]]\n"
     ]
    }
   ],
   "source": [
    "print(pairwise_eval(reviews, summarize(reviews, PROMPT_BASELINE).choices[0].message.content, summary_real_20240526).choices[0].message.content)"
   ]
  },
  {
   "cell_type": "markdown",
   "metadata": {},
   "source": [
    "### 대규모 평가 스크립트\n",
    "- 원래는 많은 수의 다양한 데이터에 대해 평가를 하지만, 동일한 Prompt에 대해 temperature를 높여서 평가 진행"
   ]
  },
  {
   "cell_type": "code",
   "execution_count": 26,
   "metadata": {},
   "outputs": [
    {
     "data": {
      "text/plain": [
       "['다양한 고객들이 다양한 호평을 한다. 일부 고객들은 숙소의 청결과 서비스에 대해 만족하며, 위치와 편안한 시설 등을 칭찬한다. 어떤 고객들은 뷰에 만족하며, 어떤 고객들은 조식이 맛있거나 직원들의 친절에 감동한다. 주차비가 고가로 느껴지거나 먼지 문제 등의 불편한 점을 지적하는 고객도 있다. 이를 토대로 종합적으로 판단하면, 다양한 호평을 받는 성공적인 숙소로 요약할 수 있다.',\n",
       " '인사동점 후에 용산점 이용한 손님들 칭찬. 건물과 직원 친절, 무인락커 편리. 호텔 추천하는 친절한 여직원, 잘 쉬었다고 함. 시설 만족, 깔끔하고 고객응대 칭찬.깨끗하고 다 만족하는 숙소.',\n",
       " '용산역 주변에 위치한 숙소로 깨끗하고 친절한 직원들이 돋보였으며, 편리한 시설과 무인락커가 인상적이었습니다. 수영장은 조금 작았지만 숙박을 즐거워하는 게스트가 많이 나타났고, 전반적으로 만족스러운 경험을 한 다는 내용으로 요약할 수 있습니다.',\n",
       " '다양한 리뷰 속에서 숙소는 깨끗하고 직원들은 친절하며, 위치가 편리하며 시설이 좋다는 공통점을 확인했다. (요약에는 실제 리뷰 내용을 반영하였습니다.)',\n",
       " '다양한 고객들의 리뷰를 종합해보면, 인사동점에서 너무 좋은 경험을 하여 용산점까지 이용한 고객, 친절한 직원과 깨끗한 시설을 칭찬하는 고객, 수영장을 좋아하는 고객, 도시 전망을 즐기며 편안하게 쉬었다고 말하는 고객 등이 있습니다. 위치가 좋고 청결하며 고객 서비스가 우수한 호텔로 만족한 고객들이 많다는 것을 알 수 있습니다.',\n",
       " '다양한 고객들이 용산역 인근의 깨끗하고 친절한 숙소를 찾아 만족했다. 직원 서비스, 시설, 위치 등 다양한 요소들이 좋은 평가를 받았으며 특히 친절한 직원과 편안한 침대로 편안한 휴가를 보냈다고 이곳을 추천했다.',\n",
       " '다양한 리뷰 중에서: \"용산역과 가깝고 깨끗한 객실, 친절한 직원, 수영장이 좋다\"로 요약할 수 있겠네요.',\n",
       " '다양한 리뷰들을 종합하면, 용산에 위치한 나인트리 프리미어 숙소는 깨끗하고 친절한 직원들이 있으며, 가격 대비 만족스러운 시설을 제공합니다. 위치가 편리하고, 일부 객실은 한강뷰를 감상할 수 있으며, 조식이 맛있다는 호평을 받고 있습니다. 리뷰 중 일부는 청결과 서비스, 시설에 대한 긍정적 평가를 내비친다. 주차비가 비싸다는 의견도 있지만, 전반적으로 만족스러운 경험을 전하는 리뷰가 많이 보입니다.',\n",
       " '다양한 리뷰를 종합해보면, 인사동점과 용산점은 깨끗하고 직원들이 친절하며, 락커가 편리하게 구비되어 있어 좋은 평가를 받았습니다. 다양한 숙소 시설과 깔끔한 객실, 친절한 서비스로 손님들에게 만족을 줬다고 평가받는 곳이다. 위치가 편리하고 편안한 휴식을 원한다면 추천됩니다.',\n",
       " '인사동점 이용 후 용산점 이용, 건물과 직원 친절도 좋음. 락커와 수영장 만족했고, 친구들과 쉬기에 좋음. 위치와 친절한 서비스 만족, 다만 주차비가 조금 비싸다고 함.전망과 시설이 좋아서 다음에 또 방문 의사 있음.']"
      ]
     },
     "execution_count": 26,
     "metadata": {},
     "output_type": "execute_result"
    }
   ],
   "source": [
    "eval_count = 10\n",
    "\n",
    "summaries_baseline = [summarize(reviews, PROMPT_BASELINE, temperature=1.0).choices[0].message.content for _ in range(eval_count)]\n",
    "summaries_baseline"
   ]
  },
  {
   "cell_type": "code",
   "execution_count": 27,
   "metadata": {},
   "outputs": [
    {
     "name": "stderr",
     "output_type": "stream",
     "text": [
      "100%|██████████| 10/10 [00:52<00:00,  5.30s/it]"
     ]
    },
    {
     "name": "stdout",
     "output_type": "stream",
     "text": [
      "Wins: 1, Losses: 9, Ties: 0\n"
     ]
    },
    {
     "name": "stderr",
     "output_type": "stream",
     "text": [
      "\n"
     ]
    }
   ],
   "source": [
    "from tqdm import tqdm\n",
    "\n",
    "def pairwise_eval_batch(reviews, answers_a, answers_b):\n",
    "    a_count, b_count, draw_count = 0, 0, 0\n",
    "    for i in tqdm(range(len(answers_a))):\n",
    "        completion = pairwise_eval(reviews, answers_a[i], answers_b[i])\n",
    "        verdict_text = completion.choices[0].message.content\n",
    "\n",
    "        if '[[A]]' in verdict_text:\n",
    "            a_count += 1\n",
    "        elif '[[B]]' in verdict_text:\n",
    "            b_count += 1\n",
    "        elif '[[C]]' in verdict_text:\n",
    "            c_count += 1\n",
    "        else:\n",
    "            print('Evaluation Error')\n",
    "\n",
    "    return a_count, b_count, draw_count\n",
    "\n",
    "wins, losses, ties = pairwise_eval_batch(reviews, summaries_baseline, [summaries_baseline for _ in range(len(summaries_baseline))])\n",
    "print(f'Wins: {wins}, Losses: {losses}, Ties: {ties}')"
   ]
  },
  {
   "cell_type": "markdown",
   "metadata": {},
   "source": [
    "### 모델 고도화 1 - 조건들 명시"
   ]
  },
  {
   "cell_type": "code",
   "execution_count": 28,
   "metadata": {},
   "outputs": [
    {
     "name": "stdout",
     "output_type": "stream",
     "text": [
      "Reviews: ['이나에 위치한 숙소 인사동점을 방문한 후 용산점에서도 즐거운 시간을 보냈습니다. 건물이 매우 깨끗하고 직원들이 매우 친절합니다. 무인락커가 갖추어져 있어 짐을 보관하는 데도 편리했습니다. 정말 즐거운 경험이었습니다.\\n\\n용산역과 가까운 숙소로서 주변에 아이파크몰도 위치해 있어서 편리했습니다. 친구들과 시간을 보내기에 아주 좋은 환경이었습니다. 숙소는 깔끔하고 서비스는 친절했습니다. 좋은 전망을 즐길 수 있는 수영장이 독특한 매력을 지녔습니다.\\n\\n서울 출장을 위해 편안히 쉴 수 있는 곳이었습니다. 객실은 깨끗하고 야경은 멋있었으며, 수영장은 작았지만 재미있게 이용할 수 있었습니다. 전반적으로 만족스럽고 다시 방문할 의향이 있습니다. 위치가 편리하며 시설이 깨끗하고 친절한 서비스를 제공하여 모든 면에서 만족스러운 경험이었습니다.', '인사동점을 이용하고 너무 만족스러웠어서 용산점으로 이용했습니다. 건물과 직원 모두 깨끗하고 친절했습니다. 무인락커를 이용해서 짐을 보관하는 것도 매우 편리하고 좋았습니다. 더불어 수영장이 이쁘고 사진 찍기 좋아서 좋은 평가를 받았습니다. 감사합니다.환경도 깨끗하게 쉬다왔고 방음도 잘됐어요. 다음에 또 방문 할 계획입니다.전반적으로 좋은 숙소였습니다.재방문할 의사가 있고, 모두 만족스러운 시간을 보냈습니다. 위치도 좋고 친절한 서비스에 감사드립니다. 다음에 또 방문하겠습니다.', '인사동점 이용 후 좋아해용용산점도 마음에 들어요~\\n건물이 깨끗하고 직원분들이 친절해요^^\\n무인락커로 짐보관이 너무 편했습니다~\\n\\n수영장도 이쁘고 사진 찍기 좋아요.\\n직원분들이 친절해서 좋았어요.\\n\\n프론트 여자직원이 정말 친절해서 인상적이에요.\\n서울 방문 시 여기가 1순위에요!\\n재방문 의향이 있어요.\\n\\n한강뷰가 너무 잘 보였어요!\\n통창으로 매우 만족했습니다.\\n재방문 의사 있어요.\\n\\n전반적으로 만족스럽고 좋았어요.\\n친절한 직원분들에게 매력을 느꼈습니다.', '서울에서 체크인했을 때, 숙소는 세련된 분위기의 깨끗한 객실을 제공했고, 프론트 여자직원의 친절한 응대가 기억에 남았습니다. 용산역과 가까워서 교통편이 좋았고, 다음 방문이 기대됩니다. 호텔 로비에서는 시원한 풀잎향이 맞이해주어 편안한 느낌이었습니다. 직원들의 친절한 서비스와 깔끔한 객실, 맛있는 조식으로 즐거운 휴가를 보낼 수 있었습니다. 조식은 다양하고 맛있어서 여행의 재미를 더해줬으며, 방문 고객들을 위한 친절한 서비스에 만족했습니다. 위치가 용산역 바로 앞에 있어 교통 편리하고, 쾌적한 분위기를 제공해주어 정말 편했어요.', '인사동점을 이용했는데 너무 좋아서 용산점도 이용했어요. 건물은 깨끗하고 직원들은 매우 친절했어요. 무인락커가 있어서 짐보관이 편리했어요~^^ 용산역과 가까워서 친구들과 하루를 보내기에 좋았고, 베개높이가 적당해서 여자 3명이 머물기 편했어요. 전반적으로 인상적인 숙박 경험이었어서 꼭 재방문하고 싶네요~', '인사동점 이용 후 용산점을 이용한 경험이 좋았습니다. 건물과 직원 모두 깨끗하고 친절했어요. 무인락커로 짐보관이 편리했죠.\\n\\n수영장은 이쁘고 사진 찍기 좋았습니다. 직원분들도 친절해서 만족스러웠어요.\\n\\n용산역과 가까워 아이파크몰과 함께 즐길 수 있는 좋은 위치였어요. 친구들과 함께 머물기에도 편안한 환경이었습니다. 숙소는 깔끔하고 여자 3명이 머물기에도 충분했어요. 다음에는 4인실로 오고 싶네요.', '인사동점을 이용한 후 용산점을 이용했는데, 건물이 깨끗하고 직원들도 친절해서 좋았어요. 락커에 짐 보관할 수 있는 무인락커는 너무 편했습니다^^ 수영장에서 사진 찍기 좋고 직원분들도 친절해서 좋았어요. 체크인 시 친절한 프론트 여자직원의 서비스가 기억에 남아요. 매우 만족스럽고 재방문 의사 있습니다. 위치가 용산역과 가깝고 주변에 상업시설이 좋아서 편리하게 사용했습니다. 전반적으로 깨끗하고 친절하며 만족스러운 숙박을 경험했습니다.', '전반적으로 숙소는 깨끗하고 직원들은 친절합니다. 무인락커가 있어서 짐 보관하기도 편했고, 수영장에서 사진찍기도 좋았습니다. 위치가 용산역과 가깝고 주변에 상가 시설이 많아서 휴식하기 좋았습니다.객실은 청결하고 조용해서 편안한 휴식을 취할 수 있습니다. 재방문 의사가 있는 최고의 호텔 중 하나입니다.', '고객님들이 숙소를 이용하시는 과정에서 숙박하시면서 편안한 분위기를 느끼셨습니다. 건물이 깨끗하고 직원분들도 매우 친절하셨으며 무인락커가 있어 짐 보관이 아주 편리했습니다. 수영장이 이쁘고 사진 찍기 좋았고 친절한 서비스도 인상깊었다는 말이 있었습니다. 또한 체크인할때 프론트 여자직원의 친절한 응대에 기억에 남았고 좋아했습니다. 숙소는 깔끔하고 쉬기에 좋은 숙소였으며 방음도 잘 되는 것으로 평가 받았습니다. 다음에 또 방문할 계획을 가지신 분들도 계셨습니다. 위치도 정말 좋았고 전망도 훌륭했다는 소감도 있었습니다. 숙소 전체적으로 만족스럽고 잘 쉬다 갔다는 리뷰를 남긴 분들도 있었습니다. 호텔의 서비스와 깔끔한 시설에 모두 만족하셨다는 평이 많아서 추천하는 분위기가 느껴졌습니다.요약을 통해 그런 멋진 숙소를 더 많은 사람들이 발견하고 소중한 시간을 보내길 기대합니다.', '인사동점을 이용한 후 용산점을 선택한 고객은 건물과 직원의 친절함에 만족했습니다. 무인락커가 있어서 짐보관이 매우 편리하다고 해요. 수영장이 이쁘고 사진 찍기 좋았다며, 직원들의 친절도 좋았다는 리뷰도 있습니다.체크인할 때 프론트 여직원의 친절함에 감명받았고, 위치와 서비스에 만족한다며 재방문 의사를 밝힌 리뷰도 있습니다.여러 리뷰 중에서도 가장 긍정적인 평가를 받은 고객은 숙소를 \"인생 첫 호텔\"이라 칭해 만족스러운 경험을 했다고 밝히며, 침구의 편안함에 대해 깊게 언급하였습니다.모두다 침구류와 침대에 대한 언급을 했네요. 나무랄 데 없이 깔끔한 숙박 공간과 친절한 서비스가 특징적인 호텔 리뷰도 있습니다. 전반적으로 만족스럽다는 후기들이 많이 보입니다. 위치, 청결, 서비스, 시설에 대한 칭찬을 많이 받았습니다. 다음에도 재방문할 의사를 밝힌 고객들이 상당한 비중을 차지하고 있습니다.']\n",
      "\n",
      "\n"
     ]
    },
    {
     "name": "stderr",
     "output_type": "stream",
     "text": [
      "100%|██████████| 10/10 [00:41<00:00,  4.19s/it]"
     ]
    },
    {
     "name": "stdout",
     "output_type": "stream",
     "text": [
      "Wins: 10, Losses: 0, Ties: 0\n"
     ]
    },
    {
     "name": "stderr",
     "output_type": "stream",
     "text": [
      "\n"
     ]
    }
   ],
   "source": [
    "prompt = f\"\"\"당신은 요약 전문가입니다. 사용자 숙소 리뷰들이 주어졌을 때 요약하는 것이 당신의 목표입니다.\n",
    "\n",
    "요약 결과는 다음 조건들을 충족해야 합니다:\n",
    "1. 모든 문장은 항상 존댓말로 끝나야 합니다.\n",
    "2. 숙소에 대해 소개하는 톤앤매너로 작성해주세요.\n",
    "  2-1. 좋은 예시\n",
    "    a) 전반적으로 좋은 숙소였고 방음도 괜찮았다는 평입니다.\n",
    "    b) 재방문 예정이라는 평들이 존재합니다.\n",
    "  2-2. 나쁜 예시\n",
    "    a) 좋은 숙소였고 방음도 괜찮았습니다.\n",
    "    b) 재방문 예정입니다.\n",
    "3. 요약 결과는 최소 2문장, 최대 5문장 사이로 작성해주세요.\n",
    "    \n",
    "아래 숙소 리뷰들에 대해 요약해주세요:\"\"\"\n",
    "\n",
    "eval_count = 10\n",
    "summaries = [summarize(reviews, prompt, temperature=1.0).choices[0].message.content for _ in range(eval_count)]\n",
    "print(f'Reviews: {summaries}' + '\\n\\n')\n",
    "\n",
    "wins, losses, ties = pairwise_eval_batch(reviews, summaries, [summary_real_20240526 for _ in range(len(summaries))])\n",
    "print(f'Wins: {wins}, Losses: {losses}, Ties: {ties}')"
   ]
  },
  {
   "cell_type": "markdown",
   "metadata": {},
   "source": [
    "### 모델 고도화 2 - 입력 데이터의 품질 평가"
   ]
  },
  {
   "cell_type": "code",
   "execution_count": 42,
   "metadata": {},
   "outputs": [
    {
     "name": "stdout",
     "output_type": "stream",
     "text": [
      "수영장이 이쁘고 사진찍기 좋아요. 친절하셔서 좋앗어요\n",
      "깔끔하게 쉬다 옴니다요\n",
      "서울 출장으로 편하게 쉬었습니다\n",
      "전반적으로 만족스럽고 좋았습니다\n",
      "방은 나무랄데 없이 깔끔했고 전망도 좋았어요.\n",
      "깨끗하고 좋앗어요\n",
      "다음에 또가고 싶어요\n",
      "너무 최고였고 좋은 시간 보냈습니당 좋아용\n",
      "좋아요~~다음에 재방문할게요\n",
      "항상 편히 잘쉬다 갑니다\n",
      "미국식인테리어\n",
      "\n",
      "세련되지만 그곳에 편안함이 있다.\n",
      "너무친절해서 감동했습니다.\n",
      "편하게 잘 쉬었어요\n",
      "시설도 좋고 깔끔해서 잘 쉬다 갑니다!!\n",
      "전반적으로 다 좋았습니다~\n",
      "전반적으로 청결하고 직원분들이 친절해요\n",
      "제가 다닌 호텔중에서 단연 최고라 할수 있습니다\n",
      "너무 만족스러운 하루 였어요\n",
      "하루지만 행복했습니다!\n",
      "좋은 추억 남기고갑니다ㅎㅎ\n",
      "편히 쉬다 갑니다.\n",
      "너무 친절하십니다 잘 쉬다갑니다!!\n",
      "스위트룸이라 넓고 좋았어요\n",
      "편하고 좋았습니다\n",
      "다음에 또 방문할게요\n",
      "담배 냄새가 나서 불쾌했음\n",
      "침대가 너무 폭신해서 꿀잠 잤습니다!\n",
      "즐겁고 편안한 시간 보냈어요\n",
      "너무 깔끔하고 좋은 가격에 호캉스 잘 즐기고 갑니다!\n",
      "객실 넓고 깨끗하고 좋았어요 위치도 좋습니다\n",
      "깨끗하고 넓고 좋네요\n",
      "역근처이고 깔끔하고 좋았어요~\n",
      "새로생긴 곳이라 깨끗한 시설이 최대 장점이에요\n",
      "너무 잘 쉬었다 가요!\n",
      "용산역에서 가깝고 한경뷰가 너무 머싯었어요\n",
      "쾌적하고 좋았습니다.\n",
      "깨끗하고 좋았습니다 ㅎㅎ\n",
      "잘 쉬었다 갑니다.\n",
      "너무너무 깨끗하고 포근하고 좋았어요\n",
      "너무너무 즐거운 시간이었습니다ㅎㅎ\n",
      "용산역 앞이고.좋네요\n",
      "얼음을 가져갈수 있는 층이 있었음 하네요\n",
      "너무 좋았습니다 매우 추천합니다!\n",
      "최곱니다 정말로 너무 좋았어요\n",
      "좋아요. 잘사용했습니다.\n",
      "좁지만 좋은 호텔입니다\n",
      "Good Reviews 40, Filtered: 43\n"
     ]
    }
   ],
   "source": [
    "import datetime\n",
    "from dateutil import parser\n",
    "\n",
    "def preprocess_reviews(path='./resources/reviews.json'):\n",
    "    with open(path, 'r', encoding='utf-8') as f:\n",
    "        review_list = json.load(f)\n",
    "\n",
    "    reviews_good, reviews_bad = [], []\n",
    "\n",
    "    current_date = datetime.datetime.now()\n",
    "    date_boundary = current_date - datetime.timedelta(days=6*30)\n",
    "\n",
    "    filterd_count = 0\n",
    "    for r in review_list:\n",
    "        review_date_str = r['date']\n",
    "        try:\n",
    "            review_date = parser.parse(review_date_str)\n",
    "        except (ValueError, TypeError):\n",
    "            review_date = current_date # 어차피 6개월 안에 들어와서..\n",
    "\n",
    "        if review_date < date_boundary:\n",
    "            continue\n",
    "\n",
    "        if len(r['review']) < 30: # 30글자 이하 리뷰 필터링\n",
    "            filterd_count += 1\n",
    "            print(r['review'])\n",
    "            continue\n",
    "\n",
    "        if r['stars'] == 5:\n",
    "            reviews_good.append('[REVIEW_START]' + r['review'] + '[REVIEW_END]')\n",
    "        else:\n",
    "            reviews_bad.append('[REVIEW_START]' + r['review'] + '[REVIEW_END]')\n",
    "\n",
    "    reviews_good = reviews_good[:min(len(reviews_good), 50)]\n",
    "    reviews_bad = reviews_bad[:min(len(reviews_bad), 50)]\n",
    "\n",
    "    reviews_good_text = '\\n'.join(reviews_good)\n",
    "    reviews_bad_text = '\\n'.join(reviews_bad)\n",
    "    print(f'Good Reviews {len(reviews_good)}, Filtered: {filterd_count}')\n",
    "\n",
    "    return reviews_good_text, reviews_bad_text\n",
    "\n",
    "reviews, _ = preprocess_reviews()"
   ]
  },
  {
   "cell_type": "code",
   "execution_count": 31,
   "metadata": {},
   "outputs": [
    {
     "name": "stderr",
     "output_type": "stream",
     "text": [
      "100%|██████████| 10/10 [00:39<00:00,  3.97s/it]"
     ]
    },
    {
     "name": "stdout",
     "output_type": "stream",
     "text": [
      "Wins: 10, Losses: 0, Ties: 0\n"
     ]
    },
    {
     "name": "stderr",
     "output_type": "stream",
     "text": [
      "\n"
     ]
    }
   ],
   "source": [
    "eval_count = 10\n",
    "summaries = [summarize(reviews, prompt, temperature=1.0, model='gpt-3.5-turbo-0125').choices[0].message.content for _ in range(eval_count)]\n",
    "wins, losses, ties = pairwise_eval_batch(reviews, summaries, [summary_real_20240526 for _ in range(len(summaries))])\n",
    "print(f'Wins: {wins}, Losses: {losses}, Ties: {ties}')"
   ]
  },
  {
   "cell_type": "markdown",
   "metadata": {},
   "source": [
    "모델 고도화 3 - Few-Shot Prompting"
   ]
  },
  {
   "cell_type": "code",
   "execution_count": 37,
   "metadata": {},
   "outputs": [
    {
     "name": "stdout",
     "output_type": "stream",
     "text": [
      "여기는 내 최애 늘 좋다 깔끔하고 쉰거같다\n",
      "깡끔하고 편안해서 너무 좋았습니다!\n",
      "침구류 깔끔하고 좋아요!!!\n",
      "친절하고 깨끗해요.\n",
      "아늑하고 인프라가 잘 갖춰져서 좋아요\n",
      "늘 깨끗하고 친절한 곳입니다\n",
      "좋어욪ㅇㅇㅈ아훃좋으\n",
      "편하게 잘사용했습니다\n",
      "좋았어요!! 재방문하고 싶어요~\n",
      "너무좋아요 진짜 쉰거같아요\n",
      "쾌적하게 잘 쉬고 왔습니다.\n",
      "너무 편하게 쉬고 갑니다!\n",
      "고객응대가 좋아요.\n",
      "침구 깨끗해요.\n",
      "5성급 호텔만큼 침구가 참 좋았습니다.\n",
      "깨끗하고 몰이랑 붙어있어서 편리하고 좋았습니다!\n",
      "프런트가 좀 친절하기를~~\n",
      "깨끗하고 방이랑 침대가 넓어서 좋아요\n",
      "깨끗하고 넓어서 좋아요 \n",
      "다만 방음이 안됩니다.\n",
      "자주이용하는곳입니다 편안하고 조아요\n",
      "always very good\n",
      "좋아요 좋아요 좋아요\n",
      "위치 가성비 시설 만족스러워요!\n",
      "스위트 방 넓어서 좋네요 ㅎㅎ\n",
      "좋아요 좋아요 좋아요\n",
      "깔끔하고 쉬기 좋았어요~!\n",
      "다음에 또 오고싶은 호텔\n",
      "잘쉬다갑니다\n",
      "다음에또갈게요\n",
      "수영장과 욕조때문에 방문했는데 만족했어요\n",
      "청결하고 친절한 곳입니다\n",
      "주차 편하고 깔끔합니다\n",
      "깨끗하고 좋앗어요!!\n",
      "깨끗해서 좋앗어요.\n",
      "시설도 깔끔하고 주변 식당도많아 좋았습니다\n",
      "가성비가 정말 훌륭합니다.\n",
      "늘 잘 애용하고있습니다\n",
      "방이 넓고 깨끗해서 좋아요\n",
      "이번에도 편안히 잘 쉬었습니다\n",
      "수영장 너무 좋고 컨디션 너무 조아요\n",
      "전체적으로 깔끔하고 조용히 쉬기좋았습니다\n",
      "아이와 좋은시간 보내다 왔네요~~\n",
      "수영장이 좋고 한적한 곳에 있어서 좋네요\n",
      "빠르게 체크인도 가능하고 주차도 편리해요\n",
      "이번에도 잘 쉬었다 갑니다. 감사합니다.\n",
      "부대시설이 잘 되어있어 편하고 좋았습니다!\n",
      "4성급 호텔인데 위치때문인지 가성비가 좋아요\n",
      "수영장은 최고 방음은 살짝 아쉬워요\n",
      "넉넉한 시간과 좋은 컨디션 굿\n",
      "출장때문에 10박 연박중인데 좋습니다~\n",
      "방도 널찍하고 깨끗했어요. 수영장도 좋았습니다\n",
      "넬리베이터 두번 갈아타는거 빼고는 편합니다.\n",
      "좋아요 호캉스하기에 딱이에요\n",
      "수영장도 있고 좋습니다.\n",
      "전반적으로 쾌적. 호텔 자체. 규모느 작음\n",
      "주차가 너무 편하고 주변에 쇼핑몰이 있어서 좋아요\n",
      "주차가 매우 편하고 전반적으로 깨끗함\n",
      "늘 만족하는곳입니다\n",
      "좋습니다 전반적으로 아주 청결해요\n",
      "시설깨끗하고, 조용했습니다. 산 뷰가 좋네요\n",
      "항상 잘 이용하고있습니다\n",
      "푹 잘 쉬다 왔어요\n",
      "좋게 놀다 갑니다.\n",
      "깔끔하고 데이유즈가 좋습니다\n",
      "굿굿 깨끗하고 시설 좋아용\n",
      "좋은숙소에서 명절 잘 보냈습니다 감사합니다 :)\n",
      "침구가 청결하고 깨끗해서 편안하게 쉬었어요\n",
      "오랫만에 갔는데도 편안히 쉬었습니다\n",
      "좋은 숙소입니다. 침구도 깨큿하고 조식도 좋습니다.\n",
      "쾌적하고 깔끔하고 주변 시설이 좋아요\n",
      "수영장이 깔끔하고 이용하기 좋아요\n",
      "늘 깔끔하고 주차가 편리해서 좋아요\n",
      "숙소가 정말 깨끗하고 쾌적했어요\n",
      "조았습니다 잘 쉬다가요\n",
      "좋아요좋아요~~~!\n",
      "전망이 좋아서 자주 갑니다.\n",
      "수영장까지 되게 좋아요\n",
      "방이 넓고 이용하기 편리했어요\n",
      "주차하기 편리하고, 주변에 그럭저럭 식당이 다양함\n",
      "주차장이 넓고 친절함\n",
      "편하게 쉬다 갑니다ㅎㅎ\n",
      "완전 편하고 좋았습니다!\n",
      "두번째 방문인데 대만족이에요 넘 좋음\n",
      "깨끗하고 너무 좋아요\n",
      "자주 가는것입니다.\n",
      "귀여운 스티커도 많고 즐겁게 잘 놀다왔어요\n",
      "업무로 다녀왔습니다. 잘 쉬다 갑니다.\n",
      "업무로 이용했습니다. 깔끔하게 잘 쉬고 일했습니다.\n",
      "가깝고 조하요 수영장체고\n",
      "몇번 이용했지만 늘 만족스럽습니다🫡\n",
      "수영장이 좋았음 상가와 연결되서 편리해요\n",
      "객실도 깔끔하고 쾌적해서 푹 쉬다 갑니다~!\n",
      "잘 놀다 갑니다~~\n",
      "여태 가본곳중에 제일 만족스러워요!\n",
      "좋아요좋아요좋아요요\n",
      "아이들과 놀기좋네요 티니핑 보고갔습니다\n",
      "조용하고 쉬기 편했어요 또 이용할게요\n",
      "깔끔하고 하루쉬기 좋아요\n",
      "시설 깔끔하고 조용해서 잘 놀다왔습니다\n",
      "자주 이용하려고 합니다.\n",
      "오래된곳이지만 정말 관리잘하고 깨끗해서 좋았어요\n",
      "완전 추천입니다 ㅎㅎ\n",
      "데이유즈 하기 좋습니다 쉬기 좋아요\n",
      "항상 잘 쉬고 가는 곳 입니다\n",
      "수영장 시설도 좋았고 다들 친절하였습니다\n",
      "일하러 가서 잘 쉬었습니다\n",
      "편하게 쉬다 갑니다\n",
      "뷰도 좋고 너무나 만족스러운 숙박이었어요!\n",
      "너무 편하게 쉬다왔습니다\n",
      "항상 깔끔하고 좋습니다.\n",
      "청결도, 서비스 다 좋습니다\n",
      "업무적으로 이용할 때 매우 유용합니다.\n",
      "쾌적하고 교통도 편해서 좋네요!\n",
      "접근성 시설 친절 만족\n",
      "조용하고 깨끗해서 다음에도 이용하고 싶음\n",
      "잘 쉬다갑니다 감사해요:)\n",
      "나인트리는 항상 갈때마다 만족도 최상으로 느끼고갑니다\n",
      "늘 만족하는 곳입니다\n",
      "처음 가봤는데 너무 만족해서 다음에도 또 이용하려구요\n",
      "좋았습니다 12345\n",
      "업무상 또 이용했는데, 편하게 쉴 수 있었습시다.\n",
      "침대도 넓고 수영하기 좋아요\n",
      "너무 조용하고 편안했습니다 또 이용할게요\n",
      "침대도 넓고 쾌적합니다 재방문예정이에요\n",
      "업무 때문에 이용했는데, 편리하였습니다.\n",
      "호캉스는 여기가 딱이에요\n",
      "직원분들 친절하시고 방도 깨끗하고 다 좋습니다~!\n",
      "수고하세요~~~~~\n",
      "잘 쉬다갑니다 깨끗해요\n",
      "객실 이용 안내가 친절하고, 방이 매우 청결했습니다\n",
      "긋ㅅㄴ슷ㄷㅅㅈㅅㄷㅅㆍ\n",
      "숙소, 수영장 모두 너무 좋았어요~^^\n",
      "두번째 이용인데 좋아요 역에서 먼것만 빠면\n",
      "너무 청결하고 마음에 들었어요!\n",
      "위치도 좋고 아기랑 같이 보내기 좋았습니다.\n",
      "가격대비 너무 젛아요\n",
      "실내가 깨끗하고 좋습니다.\n",
      "자주가고 만족합니다\n",
      "깨끗하고~ 직원분들도 친절해요~\n",
      "굿굿 좋아요 아주 적극추천\n",
      "서비스가 좋은편입니다.\n",
      "수영장도 좋고 객실도 아주 깔끔합니다~!\n",
      "너무 편안하고 조용하고 좋았습니다. 또 갈게요\n",
      "직원분들 친절하고 깨끗하고 좋아요~\n",
      "내부 청결하고 친절합니다. 잘 쉬다 갑니다^_^\n",
      "깨끗하고 좋았습니다! 잘 놀다가 갑니다~\n",
      "깔끔하고 좋습니다.\n",
      "친절하고 깨끗합니다 추천\n",
      "Good Reviews 73, Filtered: 146\n"
     ]
    },
    {
     "ename": "KeyboardInterrupt",
     "evalue": "",
     "output_type": "error",
     "traceback": [
      "\u001b[1;31m---------------------------------------------------------------------------\u001b[0m",
      "\u001b[1;31mKeyboardInterrupt\u001b[0m                         Traceback (most recent call last)",
      "Cell \u001b[1;32mIn[37], line 24\u001b[0m\n\u001b[0;32m      2\u001b[0m summary_1shot \u001b[38;5;241m=\u001b[39m summarize(reviews_1shot, prompt, temperature\u001b[38;5;241m=\u001b[39m\u001b[38;5;241m0.0\u001b[39m, model\u001b[38;5;241m=\u001b[39m\u001b[38;5;124m'\u001b[39m\u001b[38;5;124mgpt-4-turbo-2024-04-09\u001b[39m\u001b[38;5;124m'\u001b[39m)\u001b[38;5;241m.\u001b[39mchoices[\u001b[38;5;241m0\u001b[39m]\u001b[38;5;241m.\u001b[39mmessage\u001b[38;5;241m.\u001b[39mcontent\n\u001b[0;32m      3\u001b[0m prompt_1shot \u001b[38;5;241m=\u001b[39m \u001b[38;5;124mf\u001b[39m\u001b[38;5;124m\"\"\"\u001b[39m\u001b[38;5;124m당신은 요약 전문가입니다. 사용자 숙소 리뷰들이 주어졌을 때 요약하는 것이 당신의 목표입니다.\u001b[39m\n\u001b[0;32m      4\u001b[0m \n\u001b[0;32m      5\u001b[0m \u001b[38;5;124m요약 결과는 다음 조건들을 충족해야 합니다:\u001b[39m\n\u001b[1;32m   (...)\u001b[0m\n\u001b[0;32m     21\u001b[0m \u001b[38;5;124m    \u001b[39m\n\u001b[0;32m     22\u001b[0m \u001b[38;5;124m아래 숙소 리뷰들에 대해 요약해주세요:\u001b[39m\u001b[38;5;124m\"\"\"\u001b[39m\n\u001b[1;32m---> 24\u001b[0m summaries \u001b[38;5;241m=\u001b[39m [\u001b[43msummarize\u001b[49m\u001b[43m(\u001b[49m\u001b[43mreviews\u001b[49m\u001b[43m,\u001b[49m\u001b[43m \u001b[49m\u001b[43mprompt\u001b[49m\u001b[43m,\u001b[49m\u001b[43m \u001b[49m\u001b[43mtemperature\u001b[49m\u001b[38;5;241;43m=\u001b[39;49m\u001b[38;5;241;43m1.0\u001b[39;49m\u001b[43m,\u001b[49m\u001b[43m \u001b[49m\u001b[43mmodel\u001b[49m\u001b[38;5;241;43m=\u001b[39;49m\u001b[38;5;124;43m'\u001b[39;49m\u001b[38;5;124;43mgpt-3.5-turbo-0125\u001b[39;49m\u001b[38;5;124;43m'\u001b[39;49m\u001b[43m)\u001b[49m\u001b[38;5;241m.\u001b[39mchoices[\u001b[38;5;241m0\u001b[39m]\u001b[38;5;241m.\u001b[39mmessage\u001b[38;5;241m.\u001b[39mcontent \u001b[38;5;28;01mfor\u001b[39;00m _ \u001b[38;5;129;01min\u001b[39;00m \u001b[38;5;28mrange\u001b[39m(eval_count)]\n\u001b[0;32m     25\u001b[0m wins, losses, ties \u001b[38;5;241m=\u001b[39m pairwise_eval_batch(reviews, summaries, [summary_real_20240526 \u001b[38;5;28;01mfor\u001b[39;00m _ \u001b[38;5;129;01min\u001b[39;00m \u001b[38;5;28mrange\u001b[39m(\u001b[38;5;28mlen\u001b[39m(summaries))])\n\u001b[0;32m     26\u001b[0m \u001b[38;5;28mprint\u001b[39m(\u001b[38;5;124mf\u001b[39m\u001b[38;5;124m'\u001b[39m\u001b[38;5;124mWins: \u001b[39m\u001b[38;5;132;01m{\u001b[39;00mwins\u001b[38;5;132;01m}\u001b[39;00m\u001b[38;5;124m, Losses: \u001b[39m\u001b[38;5;132;01m{\u001b[39;00mlosses\u001b[38;5;132;01m}\u001b[39;00m\u001b[38;5;124m, Ties: \u001b[39m\u001b[38;5;132;01m{\u001b[39;00mties\u001b[38;5;132;01m}\u001b[39;00m\u001b[38;5;124m'\u001b[39m)\n",
      "Cell \u001b[1;32mIn[19], line 6\u001b[0m, in \u001b[0;36msummarize\u001b[1;34m(reviews, prompt, temperature, model)\u001b[0m\n\u001b[0;32m      3\u001b[0m \u001b[38;5;28;01mdef\u001b[39;00m \u001b[38;5;21msummarize\u001b[39m(reviews, prompt, temperature\u001b[38;5;241m=\u001b[39m\u001b[38;5;241m0.0\u001b[39m, model\u001b[38;5;241m=\u001b[39m\u001b[38;5;124m'\u001b[39m\u001b[38;5;124mgpt-3.5-turbo-0125\u001b[39m\u001b[38;5;124m'\u001b[39m):\n\u001b[0;32m      4\u001b[0m     prompt \u001b[38;5;241m=\u001b[39m prompt \u001b[38;5;241m+\u001b[39m \u001b[38;5;124m'\u001b[39m\u001b[38;5;130;01m\\n\u001b[39;00m\u001b[38;5;130;01m\\n\u001b[39;00m\u001b[38;5;124m'\u001b[39m \u001b[38;5;241m+\u001b[39m reviews\n\u001b[1;32m----> 6\u001b[0m     completion \u001b[38;5;241m=\u001b[39m \u001b[43mclient\u001b[49m\u001b[38;5;241;43m.\u001b[39;49m\u001b[43mchat\u001b[49m\u001b[38;5;241;43m.\u001b[39;49m\u001b[43mcompletions\u001b[49m\u001b[38;5;241;43m.\u001b[39;49m\u001b[43mcreate\u001b[49m\u001b[43m(\u001b[49m\n\u001b[0;32m      7\u001b[0m \u001b[43m        \u001b[49m\u001b[43mmodel\u001b[49m\u001b[38;5;241;43m=\u001b[39;49m\u001b[43mmodel\u001b[49m\u001b[43m,\u001b[49m\n\u001b[0;32m      8\u001b[0m \u001b[43m        \u001b[49m\u001b[43mmessages\u001b[49m\u001b[38;5;241;43m=\u001b[39;49m\u001b[43m[\u001b[49m\u001b[43m{\u001b[49m\u001b[38;5;124;43m'\u001b[39;49m\u001b[38;5;124;43mrole\u001b[39;49m\u001b[38;5;124;43m'\u001b[39;49m\u001b[43m:\u001b[49m\u001b[43m \u001b[49m\u001b[38;5;124;43m'\u001b[39;49m\u001b[38;5;124;43muser\u001b[39;49m\u001b[38;5;124;43m'\u001b[39;49m\u001b[43m,\u001b[49m\u001b[43m \u001b[49m\u001b[38;5;124;43m'\u001b[39;49m\u001b[38;5;124;43mcontent\u001b[39;49m\u001b[38;5;124;43m'\u001b[39;49m\u001b[43m:\u001b[49m\u001b[43m \u001b[49m\u001b[43mprompt\u001b[49m\u001b[43m}\u001b[49m\u001b[43m]\u001b[49m\u001b[43m,\u001b[49m\n\u001b[0;32m      9\u001b[0m \u001b[43m        \u001b[49m\u001b[43mtemperature\u001b[49m\u001b[38;5;241;43m=\u001b[39;49m\u001b[43mtemperature\u001b[49m\n\u001b[0;32m     10\u001b[0m \u001b[43m    \u001b[49m\u001b[43m)\u001b[49m\n\u001b[0;32m     12\u001b[0m     \u001b[38;5;28;01mreturn\u001b[39;00m completion\n",
      "File \u001b[1;32md:\\myProjects\\ai-deep-learning\\part4_yanolja_review\\.venv\\Lib\\site-packages\\openai\\_utils\\_utils.py:275\u001b[0m, in \u001b[0;36mrequired_args.<locals>.inner.<locals>.wrapper\u001b[1;34m(*args, **kwargs)\u001b[0m\n\u001b[0;32m    273\u001b[0m             msg \u001b[38;5;241m=\u001b[39m \u001b[38;5;124mf\u001b[39m\u001b[38;5;124m\"\u001b[39m\u001b[38;5;124mMissing required argument: \u001b[39m\u001b[38;5;132;01m{\u001b[39;00mquote(missing[\u001b[38;5;241m0\u001b[39m])\u001b[38;5;132;01m}\u001b[39;00m\u001b[38;5;124m\"\u001b[39m\n\u001b[0;32m    274\u001b[0m     \u001b[38;5;28;01mraise\u001b[39;00m \u001b[38;5;167;01mTypeError\u001b[39;00m(msg)\n\u001b[1;32m--> 275\u001b[0m \u001b[38;5;28;01mreturn\u001b[39;00m \u001b[43mfunc\u001b[49m\u001b[43m(\u001b[49m\u001b[38;5;241;43m*\u001b[39;49m\u001b[43margs\u001b[49m\u001b[43m,\u001b[49m\u001b[43m \u001b[49m\u001b[38;5;241;43m*\u001b[39;49m\u001b[38;5;241;43m*\u001b[39;49m\u001b[43mkwargs\u001b[49m\u001b[43m)\u001b[49m\n",
      "File \u001b[1;32md:\\myProjects\\ai-deep-learning\\part4_yanolja_review\\.venv\\Lib\\site-packages\\openai\\resources\\chat\\completions.py:829\u001b[0m, in \u001b[0;36mCompletions.create\u001b[1;34m(self, messages, model, audio, frequency_penalty, function_call, functions, logit_bias, logprobs, max_completion_tokens, max_tokens, metadata, modalities, n, parallel_tool_calls, prediction, presence_penalty, response_format, seed, service_tier, stop, store, stream, stream_options, temperature, tool_choice, tools, top_logprobs, top_p, user, extra_headers, extra_query, extra_body, timeout)\u001b[0m\n\u001b[0;32m    788\u001b[0m \u001b[38;5;129m@required_args\u001b[39m([\u001b[38;5;124m\"\u001b[39m\u001b[38;5;124mmessages\u001b[39m\u001b[38;5;124m\"\u001b[39m, \u001b[38;5;124m\"\u001b[39m\u001b[38;5;124mmodel\u001b[39m\u001b[38;5;124m\"\u001b[39m], [\u001b[38;5;124m\"\u001b[39m\u001b[38;5;124mmessages\u001b[39m\u001b[38;5;124m\"\u001b[39m, \u001b[38;5;124m\"\u001b[39m\u001b[38;5;124mmodel\u001b[39m\u001b[38;5;124m\"\u001b[39m, \u001b[38;5;124m\"\u001b[39m\u001b[38;5;124mstream\u001b[39m\u001b[38;5;124m\"\u001b[39m])\n\u001b[0;32m    789\u001b[0m \u001b[38;5;28;01mdef\u001b[39;00m \u001b[38;5;21mcreate\u001b[39m(\n\u001b[0;32m    790\u001b[0m     \u001b[38;5;28mself\u001b[39m,\n\u001b[1;32m   (...)\u001b[0m\n\u001b[0;32m    826\u001b[0m     timeout: \u001b[38;5;28mfloat\u001b[39m \u001b[38;5;241m|\u001b[39m httpx\u001b[38;5;241m.\u001b[39mTimeout \u001b[38;5;241m|\u001b[39m \u001b[38;5;28;01mNone\u001b[39;00m \u001b[38;5;241m|\u001b[39m NotGiven \u001b[38;5;241m=\u001b[39m NOT_GIVEN,\n\u001b[0;32m    827\u001b[0m ) \u001b[38;5;241m-\u001b[39m\u001b[38;5;241m>\u001b[39m ChatCompletion \u001b[38;5;241m|\u001b[39m Stream[ChatCompletionChunk]:\n\u001b[0;32m    828\u001b[0m     validate_response_format(response_format)\n\u001b[1;32m--> 829\u001b[0m     \u001b[38;5;28;01mreturn\u001b[39;00m \u001b[38;5;28;43mself\u001b[39;49m\u001b[38;5;241;43m.\u001b[39;49m\u001b[43m_post\u001b[49m\u001b[43m(\u001b[49m\n\u001b[0;32m    830\u001b[0m \u001b[43m        \u001b[49m\u001b[38;5;124;43m\"\u001b[39;49m\u001b[38;5;124;43m/chat/completions\u001b[39;49m\u001b[38;5;124;43m\"\u001b[39;49m\u001b[43m,\u001b[49m\n\u001b[0;32m    831\u001b[0m \u001b[43m        \u001b[49m\u001b[43mbody\u001b[49m\u001b[38;5;241;43m=\u001b[39;49m\u001b[43mmaybe_transform\u001b[49m\u001b[43m(\u001b[49m\n\u001b[0;32m    832\u001b[0m \u001b[43m            \u001b[49m\u001b[43m{\u001b[49m\n\u001b[0;32m    833\u001b[0m \u001b[43m                \u001b[49m\u001b[38;5;124;43m\"\u001b[39;49m\u001b[38;5;124;43mmessages\u001b[39;49m\u001b[38;5;124;43m\"\u001b[39;49m\u001b[43m:\u001b[49m\u001b[43m \u001b[49m\u001b[43mmessages\u001b[49m\u001b[43m,\u001b[49m\n\u001b[0;32m    834\u001b[0m \u001b[43m                \u001b[49m\u001b[38;5;124;43m\"\u001b[39;49m\u001b[38;5;124;43mmodel\u001b[39;49m\u001b[38;5;124;43m\"\u001b[39;49m\u001b[43m:\u001b[49m\u001b[43m \u001b[49m\u001b[43mmodel\u001b[49m\u001b[43m,\u001b[49m\n\u001b[0;32m    835\u001b[0m \u001b[43m                \u001b[49m\u001b[38;5;124;43m\"\u001b[39;49m\u001b[38;5;124;43maudio\u001b[39;49m\u001b[38;5;124;43m\"\u001b[39;49m\u001b[43m:\u001b[49m\u001b[43m \u001b[49m\u001b[43maudio\u001b[49m\u001b[43m,\u001b[49m\n\u001b[0;32m    836\u001b[0m \u001b[43m                \u001b[49m\u001b[38;5;124;43m\"\u001b[39;49m\u001b[38;5;124;43mfrequency_penalty\u001b[39;49m\u001b[38;5;124;43m\"\u001b[39;49m\u001b[43m:\u001b[49m\u001b[43m \u001b[49m\u001b[43mfrequency_penalty\u001b[49m\u001b[43m,\u001b[49m\n\u001b[0;32m    837\u001b[0m \u001b[43m                \u001b[49m\u001b[38;5;124;43m\"\u001b[39;49m\u001b[38;5;124;43mfunction_call\u001b[39;49m\u001b[38;5;124;43m\"\u001b[39;49m\u001b[43m:\u001b[49m\u001b[43m \u001b[49m\u001b[43mfunction_call\u001b[49m\u001b[43m,\u001b[49m\n\u001b[0;32m    838\u001b[0m \u001b[43m                \u001b[49m\u001b[38;5;124;43m\"\u001b[39;49m\u001b[38;5;124;43mfunctions\u001b[39;49m\u001b[38;5;124;43m\"\u001b[39;49m\u001b[43m:\u001b[49m\u001b[43m \u001b[49m\u001b[43mfunctions\u001b[49m\u001b[43m,\u001b[49m\n\u001b[0;32m    839\u001b[0m \u001b[43m                \u001b[49m\u001b[38;5;124;43m\"\u001b[39;49m\u001b[38;5;124;43mlogit_bias\u001b[39;49m\u001b[38;5;124;43m\"\u001b[39;49m\u001b[43m:\u001b[49m\u001b[43m \u001b[49m\u001b[43mlogit_bias\u001b[49m\u001b[43m,\u001b[49m\n\u001b[0;32m    840\u001b[0m \u001b[43m                \u001b[49m\u001b[38;5;124;43m\"\u001b[39;49m\u001b[38;5;124;43mlogprobs\u001b[39;49m\u001b[38;5;124;43m\"\u001b[39;49m\u001b[43m:\u001b[49m\u001b[43m \u001b[49m\u001b[43mlogprobs\u001b[49m\u001b[43m,\u001b[49m\n\u001b[0;32m    841\u001b[0m \u001b[43m                \u001b[49m\u001b[38;5;124;43m\"\u001b[39;49m\u001b[38;5;124;43mmax_completion_tokens\u001b[39;49m\u001b[38;5;124;43m\"\u001b[39;49m\u001b[43m:\u001b[49m\u001b[43m \u001b[49m\u001b[43mmax_completion_tokens\u001b[49m\u001b[43m,\u001b[49m\n\u001b[0;32m    842\u001b[0m \u001b[43m                \u001b[49m\u001b[38;5;124;43m\"\u001b[39;49m\u001b[38;5;124;43mmax_tokens\u001b[39;49m\u001b[38;5;124;43m\"\u001b[39;49m\u001b[43m:\u001b[49m\u001b[43m \u001b[49m\u001b[43mmax_tokens\u001b[49m\u001b[43m,\u001b[49m\n\u001b[0;32m    843\u001b[0m \u001b[43m                \u001b[49m\u001b[38;5;124;43m\"\u001b[39;49m\u001b[38;5;124;43mmetadata\u001b[39;49m\u001b[38;5;124;43m\"\u001b[39;49m\u001b[43m:\u001b[49m\u001b[43m \u001b[49m\u001b[43mmetadata\u001b[49m\u001b[43m,\u001b[49m\n\u001b[0;32m    844\u001b[0m \u001b[43m                \u001b[49m\u001b[38;5;124;43m\"\u001b[39;49m\u001b[38;5;124;43mmodalities\u001b[39;49m\u001b[38;5;124;43m\"\u001b[39;49m\u001b[43m:\u001b[49m\u001b[43m \u001b[49m\u001b[43mmodalities\u001b[49m\u001b[43m,\u001b[49m\n\u001b[0;32m    845\u001b[0m \u001b[43m                \u001b[49m\u001b[38;5;124;43m\"\u001b[39;49m\u001b[38;5;124;43mn\u001b[39;49m\u001b[38;5;124;43m\"\u001b[39;49m\u001b[43m:\u001b[49m\u001b[43m \u001b[49m\u001b[43mn\u001b[49m\u001b[43m,\u001b[49m\n\u001b[0;32m    846\u001b[0m \u001b[43m                \u001b[49m\u001b[38;5;124;43m\"\u001b[39;49m\u001b[38;5;124;43mparallel_tool_calls\u001b[39;49m\u001b[38;5;124;43m\"\u001b[39;49m\u001b[43m:\u001b[49m\u001b[43m \u001b[49m\u001b[43mparallel_tool_calls\u001b[49m\u001b[43m,\u001b[49m\n\u001b[0;32m    847\u001b[0m \u001b[43m                \u001b[49m\u001b[38;5;124;43m\"\u001b[39;49m\u001b[38;5;124;43mprediction\u001b[39;49m\u001b[38;5;124;43m\"\u001b[39;49m\u001b[43m:\u001b[49m\u001b[43m \u001b[49m\u001b[43mprediction\u001b[49m\u001b[43m,\u001b[49m\n\u001b[0;32m    848\u001b[0m \u001b[43m                \u001b[49m\u001b[38;5;124;43m\"\u001b[39;49m\u001b[38;5;124;43mpresence_penalty\u001b[39;49m\u001b[38;5;124;43m\"\u001b[39;49m\u001b[43m:\u001b[49m\u001b[43m \u001b[49m\u001b[43mpresence_penalty\u001b[49m\u001b[43m,\u001b[49m\n\u001b[0;32m    849\u001b[0m \u001b[43m                \u001b[49m\u001b[38;5;124;43m\"\u001b[39;49m\u001b[38;5;124;43mresponse_format\u001b[39;49m\u001b[38;5;124;43m\"\u001b[39;49m\u001b[43m:\u001b[49m\u001b[43m \u001b[49m\u001b[43mresponse_format\u001b[49m\u001b[43m,\u001b[49m\n\u001b[0;32m    850\u001b[0m \u001b[43m                \u001b[49m\u001b[38;5;124;43m\"\u001b[39;49m\u001b[38;5;124;43mseed\u001b[39;49m\u001b[38;5;124;43m\"\u001b[39;49m\u001b[43m:\u001b[49m\u001b[43m \u001b[49m\u001b[43mseed\u001b[49m\u001b[43m,\u001b[49m\n\u001b[0;32m    851\u001b[0m \u001b[43m                \u001b[49m\u001b[38;5;124;43m\"\u001b[39;49m\u001b[38;5;124;43mservice_tier\u001b[39;49m\u001b[38;5;124;43m\"\u001b[39;49m\u001b[43m:\u001b[49m\u001b[43m \u001b[49m\u001b[43mservice_tier\u001b[49m\u001b[43m,\u001b[49m\n\u001b[0;32m    852\u001b[0m \u001b[43m                \u001b[49m\u001b[38;5;124;43m\"\u001b[39;49m\u001b[38;5;124;43mstop\u001b[39;49m\u001b[38;5;124;43m\"\u001b[39;49m\u001b[43m:\u001b[49m\u001b[43m \u001b[49m\u001b[43mstop\u001b[49m\u001b[43m,\u001b[49m\n\u001b[0;32m    853\u001b[0m \u001b[43m                \u001b[49m\u001b[38;5;124;43m\"\u001b[39;49m\u001b[38;5;124;43mstore\u001b[39;49m\u001b[38;5;124;43m\"\u001b[39;49m\u001b[43m:\u001b[49m\u001b[43m \u001b[49m\u001b[43mstore\u001b[49m\u001b[43m,\u001b[49m\n\u001b[0;32m    854\u001b[0m \u001b[43m                \u001b[49m\u001b[38;5;124;43m\"\u001b[39;49m\u001b[38;5;124;43mstream\u001b[39;49m\u001b[38;5;124;43m\"\u001b[39;49m\u001b[43m:\u001b[49m\u001b[43m \u001b[49m\u001b[43mstream\u001b[49m\u001b[43m,\u001b[49m\n\u001b[0;32m    855\u001b[0m \u001b[43m                \u001b[49m\u001b[38;5;124;43m\"\u001b[39;49m\u001b[38;5;124;43mstream_options\u001b[39;49m\u001b[38;5;124;43m\"\u001b[39;49m\u001b[43m:\u001b[49m\u001b[43m \u001b[49m\u001b[43mstream_options\u001b[49m\u001b[43m,\u001b[49m\n\u001b[0;32m    856\u001b[0m \u001b[43m                \u001b[49m\u001b[38;5;124;43m\"\u001b[39;49m\u001b[38;5;124;43mtemperature\u001b[39;49m\u001b[38;5;124;43m\"\u001b[39;49m\u001b[43m:\u001b[49m\u001b[43m \u001b[49m\u001b[43mtemperature\u001b[49m\u001b[43m,\u001b[49m\n\u001b[0;32m    857\u001b[0m \u001b[43m                \u001b[49m\u001b[38;5;124;43m\"\u001b[39;49m\u001b[38;5;124;43mtool_choice\u001b[39;49m\u001b[38;5;124;43m\"\u001b[39;49m\u001b[43m:\u001b[49m\u001b[43m \u001b[49m\u001b[43mtool_choice\u001b[49m\u001b[43m,\u001b[49m\n\u001b[0;32m    858\u001b[0m \u001b[43m                \u001b[49m\u001b[38;5;124;43m\"\u001b[39;49m\u001b[38;5;124;43mtools\u001b[39;49m\u001b[38;5;124;43m\"\u001b[39;49m\u001b[43m:\u001b[49m\u001b[43m \u001b[49m\u001b[43mtools\u001b[49m\u001b[43m,\u001b[49m\n\u001b[0;32m    859\u001b[0m \u001b[43m                \u001b[49m\u001b[38;5;124;43m\"\u001b[39;49m\u001b[38;5;124;43mtop_logprobs\u001b[39;49m\u001b[38;5;124;43m\"\u001b[39;49m\u001b[43m:\u001b[49m\u001b[43m \u001b[49m\u001b[43mtop_logprobs\u001b[49m\u001b[43m,\u001b[49m\n\u001b[0;32m    860\u001b[0m \u001b[43m                \u001b[49m\u001b[38;5;124;43m\"\u001b[39;49m\u001b[38;5;124;43mtop_p\u001b[39;49m\u001b[38;5;124;43m\"\u001b[39;49m\u001b[43m:\u001b[49m\u001b[43m \u001b[49m\u001b[43mtop_p\u001b[49m\u001b[43m,\u001b[49m\n\u001b[0;32m    861\u001b[0m \u001b[43m                \u001b[49m\u001b[38;5;124;43m\"\u001b[39;49m\u001b[38;5;124;43muser\u001b[39;49m\u001b[38;5;124;43m\"\u001b[39;49m\u001b[43m:\u001b[49m\u001b[43m \u001b[49m\u001b[43muser\u001b[49m\u001b[43m,\u001b[49m\n\u001b[0;32m    862\u001b[0m \u001b[43m            \u001b[49m\u001b[43m}\u001b[49m\u001b[43m,\u001b[49m\n\u001b[0;32m    863\u001b[0m \u001b[43m            \u001b[49m\u001b[43mcompletion_create_params\u001b[49m\u001b[38;5;241;43m.\u001b[39;49m\u001b[43mCompletionCreateParams\u001b[49m\u001b[43m,\u001b[49m\n\u001b[0;32m    864\u001b[0m \u001b[43m        \u001b[49m\u001b[43m)\u001b[49m\u001b[43m,\u001b[49m\n\u001b[0;32m    865\u001b[0m \u001b[43m        \u001b[49m\u001b[43moptions\u001b[49m\u001b[38;5;241;43m=\u001b[39;49m\u001b[43mmake_request_options\u001b[49m\u001b[43m(\u001b[49m\n\u001b[0;32m    866\u001b[0m \u001b[43m            \u001b[49m\u001b[43mextra_headers\u001b[49m\u001b[38;5;241;43m=\u001b[39;49m\u001b[43mextra_headers\u001b[49m\u001b[43m,\u001b[49m\u001b[43m \u001b[49m\u001b[43mextra_query\u001b[49m\u001b[38;5;241;43m=\u001b[39;49m\u001b[43mextra_query\u001b[49m\u001b[43m,\u001b[49m\u001b[43m \u001b[49m\u001b[43mextra_body\u001b[49m\u001b[38;5;241;43m=\u001b[39;49m\u001b[43mextra_body\u001b[49m\u001b[43m,\u001b[49m\u001b[43m \u001b[49m\u001b[43mtimeout\u001b[49m\u001b[38;5;241;43m=\u001b[39;49m\u001b[43mtimeout\u001b[49m\n\u001b[0;32m    867\u001b[0m \u001b[43m        \u001b[49m\u001b[43m)\u001b[49m\u001b[43m,\u001b[49m\n\u001b[0;32m    868\u001b[0m \u001b[43m        \u001b[49m\u001b[43mcast_to\u001b[49m\u001b[38;5;241;43m=\u001b[39;49m\u001b[43mChatCompletion\u001b[49m\u001b[43m,\u001b[49m\n\u001b[0;32m    869\u001b[0m \u001b[43m        \u001b[49m\u001b[43mstream\u001b[49m\u001b[38;5;241;43m=\u001b[39;49m\u001b[43mstream\u001b[49m\u001b[43m \u001b[49m\u001b[38;5;129;43;01mor\u001b[39;49;00m\u001b[43m \u001b[49m\u001b[38;5;28;43;01mFalse\u001b[39;49;00m\u001b[43m,\u001b[49m\n\u001b[0;32m    870\u001b[0m \u001b[43m        \u001b[49m\u001b[43mstream_cls\u001b[49m\u001b[38;5;241;43m=\u001b[39;49m\u001b[43mStream\u001b[49m\u001b[43m[\u001b[49m\u001b[43mChatCompletionChunk\u001b[49m\u001b[43m]\u001b[49m\u001b[43m,\u001b[49m\n\u001b[0;32m    871\u001b[0m \u001b[43m    \u001b[49m\u001b[43m)\u001b[49m\n",
      "File \u001b[1;32md:\\myProjects\\ai-deep-learning\\part4_yanolja_review\\.venv\\Lib\\site-packages\\openai\\_base_client.py:1280\u001b[0m, in \u001b[0;36mSyncAPIClient.post\u001b[1;34m(self, path, cast_to, body, options, files, stream, stream_cls)\u001b[0m\n\u001b[0;32m   1266\u001b[0m \u001b[38;5;28;01mdef\u001b[39;00m \u001b[38;5;21mpost\u001b[39m(\n\u001b[0;32m   1267\u001b[0m     \u001b[38;5;28mself\u001b[39m,\n\u001b[0;32m   1268\u001b[0m     path: \u001b[38;5;28mstr\u001b[39m,\n\u001b[1;32m   (...)\u001b[0m\n\u001b[0;32m   1275\u001b[0m     stream_cls: \u001b[38;5;28mtype\u001b[39m[_StreamT] \u001b[38;5;241m|\u001b[39m \u001b[38;5;28;01mNone\u001b[39;00m \u001b[38;5;241m=\u001b[39m \u001b[38;5;28;01mNone\u001b[39;00m,\n\u001b[0;32m   1276\u001b[0m ) \u001b[38;5;241m-\u001b[39m\u001b[38;5;241m>\u001b[39m ResponseT \u001b[38;5;241m|\u001b[39m _StreamT:\n\u001b[0;32m   1277\u001b[0m     opts \u001b[38;5;241m=\u001b[39m FinalRequestOptions\u001b[38;5;241m.\u001b[39mconstruct(\n\u001b[0;32m   1278\u001b[0m         method\u001b[38;5;241m=\u001b[39m\u001b[38;5;124m\"\u001b[39m\u001b[38;5;124mpost\u001b[39m\u001b[38;5;124m\"\u001b[39m, url\u001b[38;5;241m=\u001b[39mpath, json_data\u001b[38;5;241m=\u001b[39mbody, files\u001b[38;5;241m=\u001b[39mto_httpx_files(files), \u001b[38;5;241m*\u001b[39m\u001b[38;5;241m*\u001b[39moptions\n\u001b[0;32m   1279\u001b[0m     )\n\u001b[1;32m-> 1280\u001b[0m     \u001b[38;5;28;01mreturn\u001b[39;00m cast(ResponseT, \u001b[38;5;28;43mself\u001b[39;49m\u001b[38;5;241;43m.\u001b[39;49m\u001b[43mrequest\u001b[49m\u001b[43m(\u001b[49m\u001b[43mcast_to\u001b[49m\u001b[43m,\u001b[49m\u001b[43m \u001b[49m\u001b[43mopts\u001b[49m\u001b[43m,\u001b[49m\u001b[43m \u001b[49m\u001b[43mstream\u001b[49m\u001b[38;5;241;43m=\u001b[39;49m\u001b[43mstream\u001b[49m\u001b[43m,\u001b[49m\u001b[43m \u001b[49m\u001b[43mstream_cls\u001b[49m\u001b[38;5;241;43m=\u001b[39;49m\u001b[43mstream_cls\u001b[49m\u001b[43m)\u001b[49m)\n",
      "File \u001b[1;32md:\\myProjects\\ai-deep-learning\\part4_yanolja_review\\.venv\\Lib\\site-packages\\openai\\_base_client.py:957\u001b[0m, in \u001b[0;36mSyncAPIClient.request\u001b[1;34m(self, cast_to, options, remaining_retries, stream, stream_cls)\u001b[0m\n\u001b[0;32m    954\u001b[0m \u001b[38;5;28;01melse\u001b[39;00m:\n\u001b[0;32m    955\u001b[0m     retries_taken \u001b[38;5;241m=\u001b[39m \u001b[38;5;241m0\u001b[39m\n\u001b[1;32m--> 957\u001b[0m \u001b[38;5;28;01mreturn\u001b[39;00m \u001b[38;5;28;43mself\u001b[39;49m\u001b[38;5;241;43m.\u001b[39;49m\u001b[43m_request\u001b[49m\u001b[43m(\u001b[49m\n\u001b[0;32m    958\u001b[0m \u001b[43m    \u001b[49m\u001b[43mcast_to\u001b[49m\u001b[38;5;241;43m=\u001b[39;49m\u001b[43mcast_to\u001b[49m\u001b[43m,\u001b[49m\n\u001b[0;32m    959\u001b[0m \u001b[43m    \u001b[49m\u001b[43moptions\u001b[49m\u001b[38;5;241;43m=\u001b[39;49m\u001b[43moptions\u001b[49m\u001b[43m,\u001b[49m\n\u001b[0;32m    960\u001b[0m \u001b[43m    \u001b[49m\u001b[43mstream\u001b[49m\u001b[38;5;241;43m=\u001b[39;49m\u001b[43mstream\u001b[49m\u001b[43m,\u001b[49m\n\u001b[0;32m    961\u001b[0m \u001b[43m    \u001b[49m\u001b[43mstream_cls\u001b[49m\u001b[38;5;241;43m=\u001b[39;49m\u001b[43mstream_cls\u001b[49m\u001b[43m,\u001b[49m\n\u001b[0;32m    962\u001b[0m \u001b[43m    \u001b[49m\u001b[43mretries_taken\u001b[49m\u001b[38;5;241;43m=\u001b[39;49m\u001b[43mretries_taken\u001b[49m\u001b[43m,\u001b[49m\n\u001b[0;32m    963\u001b[0m \u001b[43m\u001b[49m\u001b[43m)\u001b[49m\n",
      "File \u001b[1;32md:\\myProjects\\ai-deep-learning\\part4_yanolja_review\\.venv\\Lib\\site-packages\\openai\\_base_client.py:993\u001b[0m, in \u001b[0;36mSyncAPIClient._request\u001b[1;34m(self, cast_to, options, retries_taken, stream, stream_cls)\u001b[0m\n\u001b[0;32m    990\u001b[0m log\u001b[38;5;241m.\u001b[39mdebug(\u001b[38;5;124m\"\u001b[39m\u001b[38;5;124mSending HTTP Request: \u001b[39m\u001b[38;5;132;01m%s\u001b[39;00m\u001b[38;5;124m \u001b[39m\u001b[38;5;132;01m%s\u001b[39;00m\u001b[38;5;124m\"\u001b[39m, request\u001b[38;5;241m.\u001b[39mmethod, request\u001b[38;5;241m.\u001b[39murl)\n\u001b[0;32m    992\u001b[0m \u001b[38;5;28;01mtry\u001b[39;00m:\n\u001b[1;32m--> 993\u001b[0m     response \u001b[38;5;241m=\u001b[39m \u001b[38;5;28;43mself\u001b[39;49m\u001b[38;5;241;43m.\u001b[39;49m\u001b[43m_client\u001b[49m\u001b[38;5;241;43m.\u001b[39;49m\u001b[43msend\u001b[49m\u001b[43m(\u001b[49m\n\u001b[0;32m    994\u001b[0m \u001b[43m        \u001b[49m\u001b[43mrequest\u001b[49m\u001b[43m,\u001b[49m\n\u001b[0;32m    995\u001b[0m \u001b[43m        \u001b[49m\u001b[43mstream\u001b[49m\u001b[38;5;241;43m=\u001b[39;49m\u001b[43mstream\u001b[49m\u001b[43m \u001b[49m\u001b[38;5;129;43;01mor\u001b[39;49;00m\u001b[43m \u001b[49m\u001b[38;5;28;43mself\u001b[39;49m\u001b[38;5;241;43m.\u001b[39;49m\u001b[43m_should_stream_response_body\u001b[49m\u001b[43m(\u001b[49m\u001b[43mrequest\u001b[49m\u001b[38;5;241;43m=\u001b[39;49m\u001b[43mrequest\u001b[49m\u001b[43m)\u001b[49m\u001b[43m,\u001b[49m\n\u001b[0;32m    996\u001b[0m \u001b[43m        \u001b[49m\u001b[38;5;241;43m*\u001b[39;49m\u001b[38;5;241;43m*\u001b[39;49m\u001b[43mkwargs\u001b[49m\u001b[43m,\u001b[49m\n\u001b[0;32m    997\u001b[0m \u001b[43m    \u001b[49m\u001b[43m)\u001b[49m\n\u001b[0;32m    998\u001b[0m \u001b[38;5;28;01mexcept\u001b[39;00m httpx\u001b[38;5;241m.\u001b[39mTimeoutException \u001b[38;5;28;01mas\u001b[39;00m err:\n\u001b[0;32m    999\u001b[0m     log\u001b[38;5;241m.\u001b[39mdebug(\u001b[38;5;124m\"\u001b[39m\u001b[38;5;124mEncountered httpx.TimeoutException\u001b[39m\u001b[38;5;124m\"\u001b[39m, exc_info\u001b[38;5;241m=\u001b[39m\u001b[38;5;28;01mTrue\u001b[39;00m)\n",
      "File \u001b[1;32md:\\myProjects\\ai-deep-learning\\part4_yanolja_review\\.venv\\Lib\\site-packages\\httpx\\_client.py:914\u001b[0m, in \u001b[0;36mClient.send\u001b[1;34m(self, request, stream, auth, follow_redirects)\u001b[0m\n\u001b[0;32m    910\u001b[0m \u001b[38;5;28mself\u001b[39m\u001b[38;5;241m.\u001b[39m_set_timeout(request)\n\u001b[0;32m    912\u001b[0m auth \u001b[38;5;241m=\u001b[39m \u001b[38;5;28mself\u001b[39m\u001b[38;5;241m.\u001b[39m_build_request_auth(request, auth)\n\u001b[1;32m--> 914\u001b[0m response \u001b[38;5;241m=\u001b[39m \u001b[38;5;28;43mself\u001b[39;49m\u001b[38;5;241;43m.\u001b[39;49m\u001b[43m_send_handling_auth\u001b[49m\u001b[43m(\u001b[49m\n\u001b[0;32m    915\u001b[0m \u001b[43m    \u001b[49m\u001b[43mrequest\u001b[49m\u001b[43m,\u001b[49m\n\u001b[0;32m    916\u001b[0m \u001b[43m    \u001b[49m\u001b[43mauth\u001b[49m\u001b[38;5;241;43m=\u001b[39;49m\u001b[43mauth\u001b[49m\u001b[43m,\u001b[49m\n\u001b[0;32m    917\u001b[0m \u001b[43m    \u001b[49m\u001b[43mfollow_redirects\u001b[49m\u001b[38;5;241;43m=\u001b[39;49m\u001b[43mfollow_redirects\u001b[49m\u001b[43m,\u001b[49m\n\u001b[0;32m    918\u001b[0m \u001b[43m    \u001b[49m\u001b[43mhistory\u001b[49m\u001b[38;5;241;43m=\u001b[39;49m\u001b[43m[\u001b[49m\u001b[43m]\u001b[49m\u001b[43m,\u001b[49m\n\u001b[0;32m    919\u001b[0m \u001b[43m\u001b[49m\u001b[43m)\u001b[49m\n\u001b[0;32m    920\u001b[0m \u001b[38;5;28;01mtry\u001b[39;00m:\n\u001b[0;32m    921\u001b[0m     \u001b[38;5;28;01mif\u001b[39;00m \u001b[38;5;129;01mnot\u001b[39;00m stream:\n",
      "File \u001b[1;32md:\\myProjects\\ai-deep-learning\\part4_yanolja_review\\.venv\\Lib\\site-packages\\httpx\\_client.py:942\u001b[0m, in \u001b[0;36mClient._send_handling_auth\u001b[1;34m(self, request, auth, follow_redirects, history)\u001b[0m\n\u001b[0;32m    939\u001b[0m request \u001b[38;5;241m=\u001b[39m \u001b[38;5;28mnext\u001b[39m(auth_flow)\n\u001b[0;32m    941\u001b[0m \u001b[38;5;28;01mwhile\u001b[39;00m \u001b[38;5;28;01mTrue\u001b[39;00m:\n\u001b[1;32m--> 942\u001b[0m     response \u001b[38;5;241m=\u001b[39m \u001b[38;5;28;43mself\u001b[39;49m\u001b[38;5;241;43m.\u001b[39;49m\u001b[43m_send_handling_redirects\u001b[49m\u001b[43m(\u001b[49m\n\u001b[0;32m    943\u001b[0m \u001b[43m        \u001b[49m\u001b[43mrequest\u001b[49m\u001b[43m,\u001b[49m\n\u001b[0;32m    944\u001b[0m \u001b[43m        \u001b[49m\u001b[43mfollow_redirects\u001b[49m\u001b[38;5;241;43m=\u001b[39;49m\u001b[43mfollow_redirects\u001b[49m\u001b[43m,\u001b[49m\n\u001b[0;32m    945\u001b[0m \u001b[43m        \u001b[49m\u001b[43mhistory\u001b[49m\u001b[38;5;241;43m=\u001b[39;49m\u001b[43mhistory\u001b[49m\u001b[43m,\u001b[49m\n\u001b[0;32m    946\u001b[0m \u001b[43m    \u001b[49m\u001b[43m)\u001b[49m\n\u001b[0;32m    947\u001b[0m     \u001b[38;5;28;01mtry\u001b[39;00m:\n\u001b[0;32m    948\u001b[0m         \u001b[38;5;28;01mtry\u001b[39;00m:\n",
      "File \u001b[1;32md:\\myProjects\\ai-deep-learning\\part4_yanolja_review\\.venv\\Lib\\site-packages\\httpx\\_client.py:979\u001b[0m, in \u001b[0;36mClient._send_handling_redirects\u001b[1;34m(self, request, follow_redirects, history)\u001b[0m\n\u001b[0;32m    976\u001b[0m \u001b[38;5;28;01mfor\u001b[39;00m hook \u001b[38;5;129;01min\u001b[39;00m \u001b[38;5;28mself\u001b[39m\u001b[38;5;241m.\u001b[39m_event_hooks[\u001b[38;5;124m\"\u001b[39m\u001b[38;5;124mrequest\u001b[39m\u001b[38;5;124m\"\u001b[39m]:\n\u001b[0;32m    977\u001b[0m     hook(request)\n\u001b[1;32m--> 979\u001b[0m response \u001b[38;5;241m=\u001b[39m \u001b[38;5;28;43mself\u001b[39;49m\u001b[38;5;241;43m.\u001b[39;49m\u001b[43m_send_single_request\u001b[49m\u001b[43m(\u001b[49m\u001b[43mrequest\u001b[49m\u001b[43m)\u001b[49m\n\u001b[0;32m    980\u001b[0m \u001b[38;5;28;01mtry\u001b[39;00m:\n\u001b[0;32m    981\u001b[0m     \u001b[38;5;28;01mfor\u001b[39;00m hook \u001b[38;5;129;01min\u001b[39;00m \u001b[38;5;28mself\u001b[39m\u001b[38;5;241m.\u001b[39m_event_hooks[\u001b[38;5;124m\"\u001b[39m\u001b[38;5;124mresponse\u001b[39m\u001b[38;5;124m\"\u001b[39m]:\n",
      "File \u001b[1;32md:\\myProjects\\ai-deep-learning\\part4_yanolja_review\\.venv\\Lib\\site-packages\\httpx\\_client.py:1014\u001b[0m, in \u001b[0;36mClient._send_single_request\u001b[1;34m(self, request)\u001b[0m\n\u001b[0;32m   1009\u001b[0m     \u001b[38;5;28;01mraise\u001b[39;00m \u001b[38;5;167;01mRuntimeError\u001b[39;00m(\n\u001b[0;32m   1010\u001b[0m         \u001b[38;5;124m\"\u001b[39m\u001b[38;5;124mAttempted to send an async request with a sync Client instance.\u001b[39m\u001b[38;5;124m\"\u001b[39m\n\u001b[0;32m   1011\u001b[0m     )\n\u001b[0;32m   1013\u001b[0m \u001b[38;5;28;01mwith\u001b[39;00m request_context(request\u001b[38;5;241m=\u001b[39mrequest):\n\u001b[1;32m-> 1014\u001b[0m     response \u001b[38;5;241m=\u001b[39m \u001b[43mtransport\u001b[49m\u001b[38;5;241;43m.\u001b[39;49m\u001b[43mhandle_request\u001b[49m\u001b[43m(\u001b[49m\u001b[43mrequest\u001b[49m\u001b[43m)\u001b[49m\n\u001b[0;32m   1016\u001b[0m \u001b[38;5;28;01massert\u001b[39;00m \u001b[38;5;28misinstance\u001b[39m(response\u001b[38;5;241m.\u001b[39mstream, SyncByteStream)\n\u001b[0;32m   1018\u001b[0m response\u001b[38;5;241m.\u001b[39mrequest \u001b[38;5;241m=\u001b[39m request\n",
      "File \u001b[1;32md:\\myProjects\\ai-deep-learning\\part4_yanolja_review\\.venv\\Lib\\site-packages\\httpx\\_transports\\default.py:250\u001b[0m, in \u001b[0;36mHTTPTransport.handle_request\u001b[1;34m(self, request)\u001b[0m\n\u001b[0;32m    237\u001b[0m req \u001b[38;5;241m=\u001b[39m httpcore\u001b[38;5;241m.\u001b[39mRequest(\n\u001b[0;32m    238\u001b[0m     method\u001b[38;5;241m=\u001b[39mrequest\u001b[38;5;241m.\u001b[39mmethod,\n\u001b[0;32m    239\u001b[0m     url\u001b[38;5;241m=\u001b[39mhttpcore\u001b[38;5;241m.\u001b[39mURL(\n\u001b[1;32m   (...)\u001b[0m\n\u001b[0;32m    247\u001b[0m     extensions\u001b[38;5;241m=\u001b[39mrequest\u001b[38;5;241m.\u001b[39mextensions,\n\u001b[0;32m    248\u001b[0m )\n\u001b[0;32m    249\u001b[0m \u001b[38;5;28;01mwith\u001b[39;00m map_httpcore_exceptions():\n\u001b[1;32m--> 250\u001b[0m     resp \u001b[38;5;241m=\u001b[39m \u001b[38;5;28;43mself\u001b[39;49m\u001b[38;5;241;43m.\u001b[39;49m\u001b[43m_pool\u001b[49m\u001b[38;5;241;43m.\u001b[39;49m\u001b[43mhandle_request\u001b[49m\u001b[43m(\u001b[49m\u001b[43mreq\u001b[49m\u001b[43m)\u001b[49m\n\u001b[0;32m    252\u001b[0m \u001b[38;5;28;01massert\u001b[39;00m \u001b[38;5;28misinstance\u001b[39m(resp\u001b[38;5;241m.\u001b[39mstream, typing\u001b[38;5;241m.\u001b[39mIterable)\n\u001b[0;32m    254\u001b[0m \u001b[38;5;28;01mreturn\u001b[39;00m Response(\n\u001b[0;32m    255\u001b[0m     status_code\u001b[38;5;241m=\u001b[39mresp\u001b[38;5;241m.\u001b[39mstatus,\n\u001b[0;32m    256\u001b[0m     headers\u001b[38;5;241m=\u001b[39mresp\u001b[38;5;241m.\u001b[39mheaders,\n\u001b[0;32m    257\u001b[0m     stream\u001b[38;5;241m=\u001b[39mResponseStream(resp\u001b[38;5;241m.\u001b[39mstream),\n\u001b[0;32m    258\u001b[0m     extensions\u001b[38;5;241m=\u001b[39mresp\u001b[38;5;241m.\u001b[39mextensions,\n\u001b[0;32m    259\u001b[0m )\n",
      "File \u001b[1;32md:\\myProjects\\ai-deep-learning\\part4_yanolja_review\\.venv\\Lib\\site-packages\\httpcore\\_sync\\connection_pool.py:256\u001b[0m, in \u001b[0;36mConnectionPool.handle_request\u001b[1;34m(self, request)\u001b[0m\n\u001b[0;32m    253\u001b[0m         closing \u001b[38;5;241m=\u001b[39m \u001b[38;5;28mself\u001b[39m\u001b[38;5;241m.\u001b[39m_assign_requests_to_connections()\n\u001b[0;32m    255\u001b[0m     \u001b[38;5;28mself\u001b[39m\u001b[38;5;241m.\u001b[39m_close_connections(closing)\n\u001b[1;32m--> 256\u001b[0m     \u001b[38;5;28;01mraise\u001b[39;00m exc \u001b[38;5;28;01mfrom\u001b[39;00m \u001b[38;5;28;01mNone\u001b[39;00m\n\u001b[0;32m    258\u001b[0m \u001b[38;5;66;03m# Return the response. Note that in this case we still have to manage\u001b[39;00m\n\u001b[0;32m    259\u001b[0m \u001b[38;5;66;03m# the point at which the response is closed.\u001b[39;00m\n\u001b[0;32m    260\u001b[0m \u001b[38;5;28;01massert\u001b[39;00m \u001b[38;5;28misinstance\u001b[39m(response\u001b[38;5;241m.\u001b[39mstream, typing\u001b[38;5;241m.\u001b[39mIterable)\n",
      "File \u001b[1;32md:\\myProjects\\ai-deep-learning\\part4_yanolja_review\\.venv\\Lib\\site-packages\\httpcore\\_sync\\connection_pool.py:236\u001b[0m, in \u001b[0;36mConnectionPool.handle_request\u001b[1;34m(self, request)\u001b[0m\n\u001b[0;32m    232\u001b[0m connection \u001b[38;5;241m=\u001b[39m pool_request\u001b[38;5;241m.\u001b[39mwait_for_connection(timeout\u001b[38;5;241m=\u001b[39mtimeout)\n\u001b[0;32m    234\u001b[0m \u001b[38;5;28;01mtry\u001b[39;00m:\n\u001b[0;32m    235\u001b[0m     \u001b[38;5;66;03m# Send the request on the assigned connection.\u001b[39;00m\n\u001b[1;32m--> 236\u001b[0m     response \u001b[38;5;241m=\u001b[39m \u001b[43mconnection\u001b[49m\u001b[38;5;241;43m.\u001b[39;49m\u001b[43mhandle_request\u001b[49m\u001b[43m(\u001b[49m\n\u001b[0;32m    237\u001b[0m \u001b[43m        \u001b[49m\u001b[43mpool_request\u001b[49m\u001b[38;5;241;43m.\u001b[39;49m\u001b[43mrequest\u001b[49m\n\u001b[0;32m    238\u001b[0m \u001b[43m    \u001b[49m\u001b[43m)\u001b[49m\n\u001b[0;32m    239\u001b[0m \u001b[38;5;28;01mexcept\u001b[39;00m ConnectionNotAvailable:\n\u001b[0;32m    240\u001b[0m     \u001b[38;5;66;03m# In some cases a connection may initially be available to\u001b[39;00m\n\u001b[0;32m    241\u001b[0m     \u001b[38;5;66;03m# handle a request, but then become unavailable.\u001b[39;00m\n\u001b[0;32m    242\u001b[0m     \u001b[38;5;66;03m#\u001b[39;00m\n\u001b[0;32m    243\u001b[0m     \u001b[38;5;66;03m# In this case we clear the connection and try again.\u001b[39;00m\n\u001b[0;32m    244\u001b[0m     pool_request\u001b[38;5;241m.\u001b[39mclear_connection()\n",
      "File \u001b[1;32md:\\myProjects\\ai-deep-learning\\part4_yanolja_review\\.venv\\Lib\\site-packages\\httpcore\\_sync\\connection.py:103\u001b[0m, in \u001b[0;36mHTTPConnection.handle_request\u001b[1;34m(self, request)\u001b[0m\n\u001b[0;32m    100\u001b[0m     \u001b[38;5;28mself\u001b[39m\u001b[38;5;241m.\u001b[39m_connect_failed \u001b[38;5;241m=\u001b[39m \u001b[38;5;28;01mTrue\u001b[39;00m\n\u001b[0;32m    101\u001b[0m     \u001b[38;5;28;01mraise\u001b[39;00m exc\n\u001b[1;32m--> 103\u001b[0m \u001b[38;5;28;01mreturn\u001b[39;00m \u001b[38;5;28;43mself\u001b[39;49m\u001b[38;5;241;43m.\u001b[39;49m\u001b[43m_connection\u001b[49m\u001b[38;5;241;43m.\u001b[39;49m\u001b[43mhandle_request\u001b[49m\u001b[43m(\u001b[49m\u001b[43mrequest\u001b[49m\u001b[43m)\u001b[49m\n",
      "File \u001b[1;32md:\\myProjects\\ai-deep-learning\\part4_yanolja_review\\.venv\\Lib\\site-packages\\httpcore\\_sync\\http11.py:136\u001b[0m, in \u001b[0;36mHTTP11Connection.handle_request\u001b[1;34m(self, request)\u001b[0m\n\u001b[0;32m    134\u001b[0m     \u001b[38;5;28;01mwith\u001b[39;00m Trace(\u001b[38;5;124m\"\u001b[39m\u001b[38;5;124mresponse_closed\u001b[39m\u001b[38;5;124m\"\u001b[39m, logger, request) \u001b[38;5;28;01mas\u001b[39;00m trace:\n\u001b[0;32m    135\u001b[0m         \u001b[38;5;28mself\u001b[39m\u001b[38;5;241m.\u001b[39m_response_closed()\n\u001b[1;32m--> 136\u001b[0m \u001b[38;5;28;01mraise\u001b[39;00m exc\n",
      "File \u001b[1;32md:\\myProjects\\ai-deep-learning\\part4_yanolja_review\\.venv\\Lib\\site-packages\\httpcore\\_sync\\http11.py:106\u001b[0m, in \u001b[0;36mHTTP11Connection.handle_request\u001b[1;34m(self, request)\u001b[0m\n\u001b[0;32m     95\u001b[0m     \u001b[38;5;28;01mpass\u001b[39;00m\n\u001b[0;32m     97\u001b[0m \u001b[38;5;28;01mwith\u001b[39;00m Trace(\n\u001b[0;32m     98\u001b[0m     \u001b[38;5;124m\"\u001b[39m\u001b[38;5;124mreceive_response_headers\u001b[39m\u001b[38;5;124m\"\u001b[39m, logger, request, kwargs\n\u001b[0;32m     99\u001b[0m ) \u001b[38;5;28;01mas\u001b[39;00m trace:\n\u001b[0;32m    100\u001b[0m     (\n\u001b[0;32m    101\u001b[0m         http_version,\n\u001b[0;32m    102\u001b[0m         status,\n\u001b[0;32m    103\u001b[0m         reason_phrase,\n\u001b[0;32m    104\u001b[0m         headers,\n\u001b[0;32m    105\u001b[0m         trailing_data,\n\u001b[1;32m--> 106\u001b[0m     ) \u001b[38;5;241m=\u001b[39m \u001b[38;5;28;43mself\u001b[39;49m\u001b[38;5;241;43m.\u001b[39;49m\u001b[43m_receive_response_headers\u001b[49m\u001b[43m(\u001b[49m\u001b[38;5;241;43m*\u001b[39;49m\u001b[38;5;241;43m*\u001b[39;49m\u001b[43mkwargs\u001b[49m\u001b[43m)\u001b[49m\n\u001b[0;32m    107\u001b[0m     trace\u001b[38;5;241m.\u001b[39mreturn_value \u001b[38;5;241m=\u001b[39m (\n\u001b[0;32m    108\u001b[0m         http_version,\n\u001b[0;32m    109\u001b[0m         status,\n\u001b[0;32m    110\u001b[0m         reason_phrase,\n\u001b[0;32m    111\u001b[0m         headers,\n\u001b[0;32m    112\u001b[0m     )\n\u001b[0;32m    114\u001b[0m network_stream \u001b[38;5;241m=\u001b[39m \u001b[38;5;28mself\u001b[39m\u001b[38;5;241m.\u001b[39m_network_stream\n",
      "File \u001b[1;32md:\\myProjects\\ai-deep-learning\\part4_yanolja_review\\.venv\\Lib\\site-packages\\httpcore\\_sync\\http11.py:177\u001b[0m, in \u001b[0;36mHTTP11Connection._receive_response_headers\u001b[1;34m(self, request)\u001b[0m\n\u001b[0;32m    174\u001b[0m timeout \u001b[38;5;241m=\u001b[39m timeouts\u001b[38;5;241m.\u001b[39mget(\u001b[38;5;124m\"\u001b[39m\u001b[38;5;124mread\u001b[39m\u001b[38;5;124m\"\u001b[39m, \u001b[38;5;28;01mNone\u001b[39;00m)\n\u001b[0;32m    176\u001b[0m \u001b[38;5;28;01mwhile\u001b[39;00m \u001b[38;5;28;01mTrue\u001b[39;00m:\n\u001b[1;32m--> 177\u001b[0m     event \u001b[38;5;241m=\u001b[39m \u001b[38;5;28;43mself\u001b[39;49m\u001b[38;5;241;43m.\u001b[39;49m\u001b[43m_receive_event\u001b[49m\u001b[43m(\u001b[49m\u001b[43mtimeout\u001b[49m\u001b[38;5;241;43m=\u001b[39;49m\u001b[43mtimeout\u001b[49m\u001b[43m)\u001b[49m\n\u001b[0;32m    178\u001b[0m     \u001b[38;5;28;01mif\u001b[39;00m \u001b[38;5;28misinstance\u001b[39m(event, h11\u001b[38;5;241m.\u001b[39mResponse):\n\u001b[0;32m    179\u001b[0m         \u001b[38;5;28;01mbreak\u001b[39;00m\n",
      "File \u001b[1;32md:\\myProjects\\ai-deep-learning\\part4_yanolja_review\\.venv\\Lib\\site-packages\\httpcore\\_sync\\http11.py:217\u001b[0m, in \u001b[0;36mHTTP11Connection._receive_event\u001b[1;34m(self, timeout)\u001b[0m\n\u001b[0;32m    214\u001b[0m     event \u001b[38;5;241m=\u001b[39m \u001b[38;5;28mself\u001b[39m\u001b[38;5;241m.\u001b[39m_h11_state\u001b[38;5;241m.\u001b[39mnext_event()\n\u001b[0;32m    216\u001b[0m \u001b[38;5;28;01mif\u001b[39;00m event \u001b[38;5;129;01mis\u001b[39;00m h11\u001b[38;5;241m.\u001b[39mNEED_DATA:\n\u001b[1;32m--> 217\u001b[0m     data \u001b[38;5;241m=\u001b[39m \u001b[38;5;28;43mself\u001b[39;49m\u001b[38;5;241;43m.\u001b[39;49m\u001b[43m_network_stream\u001b[49m\u001b[38;5;241;43m.\u001b[39;49m\u001b[43mread\u001b[49m\u001b[43m(\u001b[49m\n\u001b[0;32m    218\u001b[0m \u001b[43m        \u001b[49m\u001b[38;5;28;43mself\u001b[39;49m\u001b[38;5;241;43m.\u001b[39;49m\u001b[43mREAD_NUM_BYTES\u001b[49m\u001b[43m,\u001b[49m\u001b[43m \u001b[49m\u001b[43mtimeout\u001b[49m\u001b[38;5;241;43m=\u001b[39;49m\u001b[43mtimeout\u001b[49m\n\u001b[0;32m    219\u001b[0m \u001b[43m    \u001b[49m\u001b[43m)\u001b[49m\n\u001b[0;32m    221\u001b[0m     \u001b[38;5;66;03m# If we feed this case through h11 we'll raise an exception like:\u001b[39;00m\n\u001b[0;32m    222\u001b[0m     \u001b[38;5;66;03m#\u001b[39;00m\n\u001b[0;32m    223\u001b[0m     \u001b[38;5;66;03m#     httpcore.RemoteProtocolError: can't handle event type\u001b[39;00m\n\u001b[1;32m   (...)\u001b[0m\n\u001b[0;32m    227\u001b[0m     \u001b[38;5;66;03m# perspective. Instead we handle this case distinctly and treat\u001b[39;00m\n\u001b[0;32m    228\u001b[0m     \u001b[38;5;66;03m# it as a ConnectError.\u001b[39;00m\n\u001b[0;32m    229\u001b[0m     \u001b[38;5;28;01mif\u001b[39;00m data \u001b[38;5;241m==\u001b[39m \u001b[38;5;124mb\u001b[39m\u001b[38;5;124m\"\u001b[39m\u001b[38;5;124m\"\u001b[39m \u001b[38;5;129;01mand\u001b[39;00m \u001b[38;5;28mself\u001b[39m\u001b[38;5;241m.\u001b[39m_h11_state\u001b[38;5;241m.\u001b[39mtheir_state \u001b[38;5;241m==\u001b[39m h11\u001b[38;5;241m.\u001b[39mSEND_RESPONSE:\n",
      "File \u001b[1;32md:\\myProjects\\ai-deep-learning\\part4_yanolja_review\\.venv\\Lib\\site-packages\\httpcore\\_backends\\sync.py:128\u001b[0m, in \u001b[0;36mSyncStream.read\u001b[1;34m(self, max_bytes, timeout)\u001b[0m\n\u001b[0;32m    126\u001b[0m \u001b[38;5;28;01mwith\u001b[39;00m map_exceptions(exc_map):\n\u001b[0;32m    127\u001b[0m     \u001b[38;5;28mself\u001b[39m\u001b[38;5;241m.\u001b[39m_sock\u001b[38;5;241m.\u001b[39msettimeout(timeout)\n\u001b[1;32m--> 128\u001b[0m     \u001b[38;5;28;01mreturn\u001b[39;00m \u001b[38;5;28;43mself\u001b[39;49m\u001b[38;5;241;43m.\u001b[39;49m\u001b[43m_sock\u001b[49m\u001b[38;5;241;43m.\u001b[39;49m\u001b[43mrecv\u001b[49m\u001b[43m(\u001b[49m\u001b[43mmax_bytes\u001b[49m\u001b[43m)\u001b[49m\n",
      "File \u001b[1;32m~\\anaconda3\\Lib\\ssl.py:1232\u001b[0m, in \u001b[0;36mSSLSocket.recv\u001b[1;34m(self, buflen, flags)\u001b[0m\n\u001b[0;32m   1228\u001b[0m     \u001b[38;5;28;01mif\u001b[39;00m flags \u001b[38;5;241m!=\u001b[39m \u001b[38;5;241m0\u001b[39m:\n\u001b[0;32m   1229\u001b[0m         \u001b[38;5;28;01mraise\u001b[39;00m \u001b[38;5;167;01mValueError\u001b[39;00m(\n\u001b[0;32m   1230\u001b[0m             \u001b[38;5;124m\"\u001b[39m\u001b[38;5;124mnon-zero flags not allowed in calls to recv() on \u001b[39m\u001b[38;5;132;01m%s\u001b[39;00m\u001b[38;5;124m\"\u001b[39m \u001b[38;5;241m%\u001b[39m\n\u001b[0;32m   1231\u001b[0m             \u001b[38;5;28mself\u001b[39m\u001b[38;5;241m.\u001b[39m\u001b[38;5;18m__class__\u001b[39m)\n\u001b[1;32m-> 1232\u001b[0m     \u001b[38;5;28;01mreturn\u001b[39;00m \u001b[38;5;28;43mself\u001b[39;49m\u001b[38;5;241;43m.\u001b[39;49m\u001b[43mread\u001b[49m\u001b[43m(\u001b[49m\u001b[43mbuflen\u001b[49m\u001b[43m)\u001b[49m\n\u001b[0;32m   1233\u001b[0m \u001b[38;5;28;01melse\u001b[39;00m:\n\u001b[0;32m   1234\u001b[0m     \u001b[38;5;28;01mreturn\u001b[39;00m \u001b[38;5;28msuper\u001b[39m()\u001b[38;5;241m.\u001b[39mrecv(buflen, flags)\n",
      "File \u001b[1;32m~\\anaconda3\\Lib\\ssl.py:1105\u001b[0m, in \u001b[0;36mSSLSocket.read\u001b[1;34m(self, len, buffer)\u001b[0m\n\u001b[0;32m   1103\u001b[0m         \u001b[38;5;28;01mreturn\u001b[39;00m \u001b[38;5;28mself\u001b[39m\u001b[38;5;241m.\u001b[39m_sslobj\u001b[38;5;241m.\u001b[39mread(\u001b[38;5;28mlen\u001b[39m, buffer)\n\u001b[0;32m   1104\u001b[0m     \u001b[38;5;28;01melse\u001b[39;00m:\n\u001b[1;32m-> 1105\u001b[0m         \u001b[38;5;28;01mreturn\u001b[39;00m \u001b[38;5;28;43mself\u001b[39;49m\u001b[38;5;241;43m.\u001b[39;49m\u001b[43m_sslobj\u001b[49m\u001b[38;5;241;43m.\u001b[39;49m\u001b[43mread\u001b[49m\u001b[43m(\u001b[49m\u001b[38;5;28;43mlen\u001b[39;49m\u001b[43m)\u001b[49m\n\u001b[0;32m   1106\u001b[0m \u001b[38;5;28;01mexcept\u001b[39;00m SSLError \u001b[38;5;28;01mas\u001b[39;00m x:\n\u001b[0;32m   1107\u001b[0m     \u001b[38;5;28;01mif\u001b[39;00m x\u001b[38;5;241m.\u001b[39margs[\u001b[38;5;241m0\u001b[39m] \u001b[38;5;241m==\u001b[39m SSL_ERROR_EOF \u001b[38;5;129;01mand\u001b[39;00m \u001b[38;5;28mself\u001b[39m\u001b[38;5;241m.\u001b[39msuppress_ragged_eofs:\n",
      "\u001b[1;31mKeyboardInterrupt\u001b[0m: "
     ]
    }
   ],
   "source": [
    "reviews_1shot, _ = preprocess_reviews('./resources/ninetree_pangyo_reviews.json')\n",
    "summary_1shot = summarize(reviews_1shot, prompt, temperature=0.0, model='gpt-4-turbo-2024-04-09').choices[0].message.content\n",
    "prompt_1shot = f\"\"\"당신은 요약 전문가입니다. 사용자 숙소 리뷰들이 주어졌을 때 요약하는 것이 당신의 목표입니다.\n",
    "\n",
    "요약 결과는 다음 조건들을 충족해야 합니다:\n",
    "1. 모든 문장은 항상 존댓말로 끝나야 합니다.\n",
    "2. 숙소에 대해 소개하는 톤앤매너로 작성해주세요.\n",
    "  2-1. 좋은 예시\n",
    "    a) 전반적으로 좋은 숙소였고 방음도 괜찮았다는 평입니다.\n",
    "    b) 재방문 예정이라는 평들이 존재합니다.\n",
    "  2-2. 나쁜 예시\n",
    "    a) 좋은 숙소였고 방음도 괜찮았습니다.\n",
    "    b) 재방문 예정입니다.\n",
    "3. 요약 결과는 최소 2문장, 최대 5문장 사이로 작성해주세요.\n",
    "\n",
    "다음은 리뷰들과 요약 예시입니다.\n",
    "예시 리뷰들:\n",
    "{reviews_1shot}\n",
    "예시 요약 결과:\n",
    "{summary_1shot}\n",
    "    \n",
    "아래 숙소 리뷰들에 대해 요약해주세요:\"\"\"\n",
    "\n",
    "summaries = [summarize(reviews, prompt, temperature=1.0, model='gpt-3.5-turbo-0125').choices[0].message.content for _ in range(eval_count)]\n",
    "wins, losses, ties = pairwise_eval_batch(reviews, summaries, [summary_real_20240526 for _ in range(len(summaries))])\n",
    "print(f'Wins: {wins}, Losses: {losses}, Ties: {ties}')"
   ]
  },
  {
   "cell_type": "code",
   "execution_count": 33,
   "metadata": {},
   "outputs": [
    {
     "data": {
      "text/plain": [
       "['요즘 많은 고객들이 인사동점에서 너무 좋았다는 후기를 받아 유산점이용했습니다. 건물이 깨끗하고 직원들이 매우 친절해서 만족스러웠어요. 무인락커가 있어서 짐 보관이 편했고 좋은 경험이었습니다. 또한, 용산역과 가까워서 주변에 있어 머물기 편했으며, 조식이 맛있고 다양했습니다. 수영장이 작았지만 잘 즐겼고, 친절한 서비스와 함께 다음 방문을 기대할 만큼 좋았습니다. 위치도 좋고 청결하며 편안하고, 높은 퀄리티의 서비스로 만족스러웠던 호텔이었습니다.',\n",
       " '숙소는 깨끗하고 직원들은 매우 친절합니다. 게다가 무인락커가 있어서 짐 보관도 편리했습니다. 체크인할 때 여자직원이 매우 친절했고, 다음 방문시 우선순위로 고려 중이라는 평이 있습니다. 숙소는 용산역과 가깝고 아이파크몰 주변에 위치해 있어 여성 3명이 머물기에도 편리합니다. 방의 전망과 수영장 크기에 대한 다양한 평가가 있었지만 전반적으로 숙박 경험이 만족스러웠다고 평가되었습니다. 호텔은 깨끗하고 친절하며 좋은 위치의 장점을 지녔다는 평이 있습니다.',\n",
       " '숙소는 깨끗하고 직원들은 친절했습니다. 무인락커로 짐 보관이 편리하고, 재방문 의사가 있는 곳입니다. 방음도 괜찮고, 베개 높이가 딱 맞아 여자 3명이 머물기에 편한 숙소입니다. 한강뷰는 통창으로 잘 보여서 만족스럽고, 야경도 훌륭하며 수영장에서는 재밌게 놀 수 있었습니다. 전반적으로 깨끗하고 위치가 좋아 재방문할 의향이 있는 숙소입니다. 위치는 용산역 바로 옆에 있어 교통이 편리하고, 친절한 서비스로 흠 잡을 곳 없는 만족스러운 숙박이었습니다.',\n",
       " '이용한 인사동점이 너무 좋아서 용산점을 이용했는데, 건물이 깨끗하고 직원들이 매우 친절해서 만족스러웠습니다. 무인락커가 있어서 짐보관도 편리했어요. 용산역과 가깝고 아이파크몰도 인접하여 쇼핑하기에도 좋았고, 베개 높이도 적절하고 여성 3명이 머물기에도 편리한 공간이었습니다. 야경이 훌륭하고, 전망이 좋은 방에서 아침을 즐기며 수영장도 즐기기에 적당했습니다. 깨끗하고 친절한 서비스로 만족하고 다음 방문을 고려하게끔 하는 호텔이었습니다. 위치가 편리하고 시설과 서비스가 만족스러워 재방문 의사가 있습니다.',\n",
       " '인사동점에서 좋은 경험을 한 후 용산점을 이용한 더 좋은 경험을 한 고객 리뷰입니다. 건물과 직원의 친절함을 칭찬하며 무인락커와 방의 깨끗함을 강조했습니다. 또한, 용산역과 아이파크몰과의 가까운 거리를 강조하며 여자 3명이 편하게 머물렀다는 점을 언급했습니다. 다음 방문에 대한 기대와 만족을 표현했습니다.',\n",
       " '요약 결과:\\n1. 인사동점을 이용한 후 용산점도 이용한 경험이 있습니다. 건물은 깨끗하고 직원들은 매우 친절합니다. 무인락커를 이용하여 짐을 편리하게 보관할 수 있었습니다.\\n2. 용산역과 인접한 숙소로, 아이파크몰 등이 주변에 있어 쉬기 좋은 환경입니다. 베개 높이와 샤워실 등이 여성 3명이 머물기에 편안한 공간입니다. 다음 방문 시 4인실을 이용해보고 싶다고 하네요.\\n3. 숙소는 깨끗하고 친절한 서비스가 인상적입니다. 위치가 용산역 옆에 있어 교통 이용이 편리하며, 수영장은 작지만 재미있는 체험을 제공합니다. 다음에도 재방문 의사가 있는데, 주차비가 다소 비싼 부분이 단점으로 언급되었습니다.',\n",
       " '1. 인사동점 이용해보고 너무 좋아서 용산점 이용했습니다~ 건물도 너무 깨끗하고 직원들도 너무 친절했어요~ 무인락커가 있어서 짐보관도 너무 편했습니다^^\\n2. 체크인할때 프론트 여자직원이 정말 친절해서 기억에 남아요. 서울에 또 방문할때 여기 숙소가 1순위입니다. 감사합니다.\\n3. 용산역과 가깝고 주변에 아이파크몰도 있어서 친구들과 하루 날 쉬기 좋았어요. 베개높이에 민감한데 적당하고 샤워실과 화장실 세면대가 각각 따로 있어서 여자3명이 머물기 편했습니다. 이번엔 못온 친구와 4인실 이용해보고 싶네요.\\n4. 한강뷰가 잘 안보인다는 후기가 있어 걱정했는데 통창으로 너무 잘 보였어요!!!! 짱짱!!!\\n5. 방도 정말 좋고! 야경도 훌륭했어요! 아침에 일어나서 바라보는 전망도 너무 좋았네요. 수영장은 좀 작았지만 그래도 잘 놀았네요. 다음에 또 방문 하겠습니다!',\n",
       " '인사동점을 이용해보고 너무 좋아서 용산점을 이용했습니다. 건물이 깨끗하고 직원들도 너무 친절했습니다. 무인락커가 있어서 락커에 짐보관이 편리하고 좋았습니다. 체크인할 때 프론트 여자직원이 정말 친절해서 기억에 남았고, 서울에 방문할 때 여기 숙소가 1순위입니다. 용산역과 가깝고 아이파크몰도 있어서 친구들과 하루를 즐기기 좋았고, 베개 높이가 적당하고 화장실 세면대가 따로 있어 여자 3명이 머물기에 편안했습니다. 한강뷰가 잘 보였고, 방이 좋고 야경이 훌륭하여 재방문할 의사가 있습니다. 최대한 다양한 호텔들을 이용해보는 습관이 있는데 위치나 서비스, 시설이 좋아서 자주 오게 되었습니다. 위치도 좋고 깔끔하며, 흠 잡을 데가 없습니다.',\n",
       " '인사동점 이용해보고 너무 좋아서 용산점 이용했습니다. 건물도 너무 깨끗하고 직원들도 너무 친절했어요~ 무인락커가 있어서 락커에 짐보관이 너무 편했고 좋았습니다^^  \\n체크인할때 프론트 여자직원이 정말 친절해서 기억에 남아요. 서울에 또 방문할때 여기 숙소가 1순위입니다. 감사합니다.  \\n용산역과 가깝고 주변에 아이파크몰도 있어서 친구들과 하루 날잡아 쉬기 좋았어요. 베개높이에 민감한데 적당하고 샤워실과 화장실 세면대가 각각 따로 있어서 여자3명이 머물기 편했습니다. 다음엔 못온 친구와 4인실 이용해보고 싶네요.  \\n한강뷰가 잘 안보인다는 후기가 있어 걱정했는데 통창으로 너무 잘보였어요!!!! 짱짱!!!  \\n방도 정말 좋았고! 야경도 훌륭했어요! 아침에 일어나서 바라보는 전망도 너무 좋았네요. 수영장은 좀 작았지만 그래도 잘 놀았네요. 다음에 또 방문 하겠습니다!',\n",
       " '인사동점을 이용해보고 너무 좋아서 용산점을 이용했습니다. 건물이 깨끗하고 직원들도 친절했어요. 무인락커가 있어서 짐 보관이 편리했습니다. \\n\\n체크인할 때 프론트 여자직원이 정말 친절해서 기억에 남았어요. 여기 숙소가 서울 방문 시 1순위입니다. \\n\\n용산역과 가까워서 친구들과 하루를 즐기기에 좋았습니다. 베개 높이와 화장실이 따로 있어 여자 3명이 머무르기 좋았어요. 다음에는 친구와 4인실을 이용해보고 싶네요. \\n\\n숙소는 정말 좋았고 야경도 훌륭했어요. 바라보는 전망이 아침에도 멋졌어요. 수영장은 작았지만 재미있게 놀았습니다. 또 방문하고 싶은 숙소입니다. \\n\\n깨끗하고 친절하며 위치가 좋아서 전체적으로 좋았습니다. 주차비가 조금 비싼 것이 아쉬운 점이지만, 다음 방문 기대됩니다.']"
      ]
     },
     "execution_count": 33,
     "metadata": {},
     "output_type": "execute_result"
    }
   ],
   "source": [
    "summaries"
   ]
  },
  {
   "cell_type": "code",
   "execution_count": 34,
   "metadata": {},
   "outputs": [
    {
     "name": "stderr",
     "output_type": "stream",
     "text": [
      "100%|██████████| 10/10 [00:41<00:00,  4.12s/it]"
     ]
    },
    {
     "name": "stdout",
     "output_type": "stream",
     "text": [
      "Wins: 10, Losses: 0, Ties: 0\n"
     ]
    },
    {
     "name": "stderr",
     "output_type": "stream",
     "text": [
      "\n"
     ]
    }
   ],
   "source": [
    "prompt_1shot = f\"\"\"당신은 요약 전문가입니다. 사용자 숙소 리뷰들이 주어졌을 때 요약하는 것이 당신의 목표입니다. 다음은 리뷰들과 요약 예시입니다.\n",
    "예시 리뷰들:\n",
    "{reviews_1shot}\n",
    "예시 요약 결과:\n",
    "{summary_1shot}\n",
    "    \n",
    "아래 숙소 리뷰들에 대해 요약해주세요:\"\"\"\n",
    "\n",
    "summaries = [summarize(reviews, prompt_1shot, temperature=1.0, model='gpt-3.5-turbo-0125').choices[0].message.content for _ in range(eval_count)]\n",
    "wins, losses, ties = pairwise_eval_batch(reviews, summaries, [summary_real_20240526 for _ in range(len(summaries))])\n",
    "print(f'Wins: {wins}, Losses: {losses}, Ties: {ties}')"
   ]
  },
  {
   "cell_type": "code",
   "execution_count": 35,
   "metadata": {},
   "outputs": [
    {
     "data": {
      "text/plain": [
       "['이 호텔은 깨끗하고 친절한 직원들이 인상적이며, 용산역과의 근접성도 좋다는 평이 많습니다. 객실은 깔끔하고 청결하며, 수영장은 작지만 즐거운 시간을 보낼 수 있다고 언급되어 있습니다. 조식은 매우 맛있어서 훌륭하다는 의견도 있습니다. 일부 투숙객은 욕실 세면대 부분의 청결에 대해 조금 더 신경 써야 한다는 의견을 남겼습니다. 종합적으로 만족도가 높은 호텔로, 재방문 의사가 높은 편이라고 평가됩니다.',\n",
       " '위의 숙소 리뷰들을 종합하면, 나인트리 프리미어 용산은 깔끔하고 청결한 시설을 갖추고 있어 만족도가 높습니다. 위치가 용산역과 가깝고 주변에 상업시설이 풍부하여 편리한 점이 좋은 평가를 받았습니다. 또한, 직원들의 친절함과 수영장의 쾌적함, 그리고 맛있는 조식으로 편안한 숙박을 경험할 수 있다는 점이 강조되었습니다. 물음표키드라이기등 몇몇 불편한 점은 있지만, 전반적으로 재방문 의사가 높은 호텔로 추천되었습니다.',\n",
       " '이 숙소는 소통의 첫발자국인 만큼 직원들의 친절함과 최상의 서비스가 인상적이라고 평가받고 있습니다. 객실은 깨끗하고 넓으며 화장실도 넓은 편으로 소비자들에게 호평을 받고 있습니다. 또한 위치가 용산역과 가까워 교통 접근성도 높다는 장점을 가지고 있습니다. 하지만 몇몇 리뷰에서는 샤워실 등 청결 상태에 조금 신경 써야 한다는 언급이 있었습니다. 종합적으로 보았을 때, 다양한 서비스와 숙소의 만족도가 높아 재방문 의사가 높은 숙소로 평가됩니다.',\n",
       " '이 곳은 깔끔한 시설과 친절한 서비스로 인기를 끌고 있는 호텔로, 용산역과 인접한 위치에 있어 접근성이 좋다는 평이 많습니다. 특히 청결한 객실, 친절한 직원, 그리고 맛있는 조식 등이 만족도를 높이는 요인으로 언급되고 있습니다. 다만 몇몇 리뷰에서는 먼지가 조금 돌아다닌다는 언급이 있었지만, 전반적으로 재방문 의사가 높은 호텔로 손색이 없는 호텔로 평가받고 있습니다.',\n",
       " '이 숙소는 청결하고 친절한 직원이 인상적이며, 용산역과의 가까운 위치가 장점으로 손꼽힙니다. 수영장은 작지만 인스타갬성을 뽐내는 사진을 남기기 좋다는 평이 있습니다. 조식이 맛있고 깔끔한 숙소로, 브런치 메뉴와 같이 제공하지 않는 조식이 인기를 끌고 있습니다. 위치와 교통의 편리함, 침대와 욕실의 청결에 대한 호평이 많이 있습니다. 단, 일부 피드백에서는 욕실 세면대 쪽의 청결상태에 대한 개선을 요구하는 의견도 제시됩니다. 전반적으로 이 호텔은 만족스럽고 재방문 의사가 높은 평가를 받고 있습니다.',\n",
       " '이 호텔은 깨끗하고 청결한 객실과 친절한 직원이 주요 포인트로 손님들의 호평을 받고 있습니다. 용산역과의 접근성도 우수하며, 조식이 맛있고 수영장도 쾌적하다는 평이 많이 있습니다. 다만 몇몇 리뷰에서는 객실 내 먼지, 욕실 청결 등에 대한 개선이 필요하다는 언급이 있습니다. 전반적으로 만족도가 높으며, 다음 방문의사가 높은 호텔로 여겨집니다.',\n",
       " '이 숙박 시설은 용산역과 가깝고 청결하며 객실과 화장실이 넓고 편안하다는 평가를 받고 있습니다. 직원들의 친절한 서비스와 즐길 거리가 가까워 편리함을 느끼게 해주는 호텔로, 재방문 의사가 높은 숙소입니다. 만족도가 높으면서도 위치와 가격 면에서도 좋은 평가를 받고 있습니다. 하지만 몇몇 리뷰에서는 욕실 청결에 대한 언급이 있긴 했습니다. 전체적으로 만족도가 높으며, 추천할 만한 호텔로 손꼽히고 있습니다. ',\n",
       " '이 숙소는 깨끗하고 친절한 직원들이 좋다는 평가를 받고 있습니다. 객실이 청결하고 넓으며, 용산역과 인접한 위치가 편리하다는 점이 강조되었습니다. 또한, 수영장이 작지만 쾌적하다는 평가와 조식이 맛있다는 긍정적인 의견이 많이 제시되었습니다. 다양한 편의시설과 친절한 서비스로 만족도가 높은 인상을 준다는 것이 요약 내용입니다.',\n",
       " '이 숙소는 용산역 인근에 위치하고 있어 교통이 매우 편리하며, 청결하고 친절한 서비스로 인기를 끌고 있습니다. 객실은 넓고 깨끗하며 쾌적한 환경을 제공하며, 특히 조식이 맛있고 다양한 메뉴로 구성되어 높은 평가를 받고 있습니다. 다양한 편의시설, 풍부한 식사 옵션, 그리고 깔끔한 시설을 갖춘 이 숙소는 재방문 의사가 높은 곳으로 추천됩니다.장소.래스토랑.클린리니스 및 서비스가 가장 강조되는 숙소들입니다. 위치는 물론 객실의 청결함과 넓고 편안한 환경, 그리고 친절하고 세심한 서비스가 특징으로 강조되었습니다. 다양한 편의시설, 맛있고 풍부한 조식, 그리고 휴식과 편안함을 제공하는 수영장 등이 손님들에게 만족을 준다는 평이 많이 나왔습니다. 그러나 일부 리뷰에는 실내 먼지가 조금 있을 수 있다는 언급도 있었습니다.',\n",
       " '이 호텔은 청결하고 깔끔한 시설을 자랑하며, 용산역 인근 위치와 친절한 직원 서비스로 만족도가 높게 평가되고 있습니다. 특히 조식이 맛있고, 수영장도 쾌적한 편입니다. 몇몇 리뷰에서는 룸 컨디션이 우수하다는 의견이 나왔지만, 어떤 리뷰에서는 욕실의 청결이 조금 부족하다는 언급도 있었습니다. 전반적으로 가족, 친구, 혼자 머무르기에 좋은 환경을 제공하고 있어 다양한 연령층에게 추천됩니다.']"
      ]
     },
     "execution_count": 35,
     "metadata": {},
     "output_type": "execute_result"
    }
   ],
   "source": [
    "summaries"
   ]
  },
  {
   "cell_type": "code",
   "execution_count": 43,
   "metadata": {},
   "outputs": [
    {
     "name": "stdout",
     "output_type": "stream",
     "text": [
      "여기는 내 최애 늘 좋다 깔끔하고 쉰거같다\n",
      "깡끔하고 편안해서 너무 좋았습니다!\n",
      "침구류 깔끔하고 좋아요!!!\n",
      "친절하고 깨끗해요.\n",
      "아늑하고 인프라가 잘 갖춰져서 좋아요\n",
      "늘 깨끗하고 친절한 곳입니다\n",
      "좋어욪ㅇㅇㅈ아훃좋으\n",
      "편하게 잘사용했습니다\n",
      "좋았어요!! 재방문하고 싶어요~\n",
      "너무좋아요 진짜 쉰거같아요\n",
      "쾌적하게 잘 쉬고 왔습니다.\n",
      "너무 편하게 쉬고 갑니다!\n",
      "고객응대가 좋아요.\n",
      "침구 깨끗해요.\n",
      "5성급 호텔만큼 침구가 참 좋았습니다.\n",
      "깨끗하고 몰이랑 붙어있어서 편리하고 좋았습니다!\n",
      "프런트가 좀 친절하기를~~\n",
      "깨끗하고 방이랑 침대가 넓어서 좋아요\n",
      "깨끗하고 넓어서 좋아요 \n",
      "다만 방음이 안됩니다.\n",
      "자주이용하는곳입니다 편안하고 조아요\n",
      "always very good\n",
      "좋아요 좋아요 좋아요\n",
      "위치 가성비 시설 만족스러워요!\n",
      "스위트 방 넓어서 좋네요 ㅎㅎ\n",
      "좋아요 좋아요 좋아요\n",
      "깔끔하고 쉬기 좋았어요~!\n",
      "다음에 또 오고싶은 호텔\n",
      "잘쉬다갑니다\n",
      "다음에또갈게요\n",
      "수영장과 욕조때문에 방문했는데 만족했어요\n",
      "청결하고 친절한 곳입니다\n",
      "주차 편하고 깔끔합니다\n",
      "깨끗하고 좋앗어요!!\n",
      "깨끗해서 좋앗어요.\n",
      "시설도 깔끔하고 주변 식당도많아 좋았습니다\n",
      "가성비가 정말 훌륭합니다.\n",
      "늘 잘 애용하고있습니다\n",
      "방이 넓고 깨끗해서 좋아요\n",
      "이번에도 편안히 잘 쉬었습니다\n",
      "수영장 너무 좋고 컨디션 너무 조아요\n",
      "전체적으로 깔끔하고 조용히 쉬기좋았습니다\n",
      "아이와 좋은시간 보내다 왔네요~~\n",
      "수영장이 좋고 한적한 곳에 있어서 좋네요\n",
      "빠르게 체크인도 가능하고 주차도 편리해요\n",
      "이번에도 잘 쉬었다 갑니다. 감사합니다.\n",
      "부대시설이 잘 되어있어 편하고 좋았습니다!\n",
      "4성급 호텔인데 위치때문인지 가성비가 좋아요\n",
      "수영장은 최고 방음은 살짝 아쉬워요\n",
      "넉넉한 시간과 좋은 컨디션 굿\n",
      "출장때문에 10박 연박중인데 좋습니다~\n",
      "방도 널찍하고 깨끗했어요. 수영장도 좋았습니다\n",
      "넬리베이터 두번 갈아타는거 빼고는 편합니다.\n",
      "좋아요 호캉스하기에 딱이에요\n",
      "수영장도 있고 좋습니다.\n",
      "전반적으로 쾌적. 호텔 자체. 규모느 작음\n",
      "주차가 너무 편하고 주변에 쇼핑몰이 있어서 좋아요\n",
      "주차가 매우 편하고 전반적으로 깨끗함\n",
      "늘 만족하는곳입니다\n",
      "좋습니다 전반적으로 아주 청결해요\n",
      "시설깨끗하고, 조용했습니다. 산 뷰가 좋네요\n",
      "항상 잘 이용하고있습니다\n",
      "푹 잘 쉬다 왔어요\n",
      "좋게 놀다 갑니다.\n",
      "깔끔하고 데이유즈가 좋습니다\n",
      "굿굿 깨끗하고 시설 좋아용\n",
      "좋은숙소에서 명절 잘 보냈습니다 감사합니다 :)\n",
      "침구가 청결하고 깨끗해서 편안하게 쉬었어요\n",
      "오랫만에 갔는데도 편안히 쉬었습니다\n",
      "좋은 숙소입니다. 침구도 깨큿하고 조식도 좋습니다.\n",
      "쾌적하고 깔끔하고 주변 시설이 좋아요\n",
      "수영장이 깔끔하고 이용하기 좋아요\n",
      "늘 깔끔하고 주차가 편리해서 좋아요\n",
      "숙소가 정말 깨끗하고 쾌적했어요\n",
      "조았습니다 잘 쉬다가요\n",
      "좋아요좋아요~~~!\n",
      "전망이 좋아서 자주 갑니다.\n",
      "수영장까지 되게 좋아요\n",
      "방이 넓고 이용하기 편리했어요\n",
      "주차하기 편리하고, 주변에 그럭저럭 식당이 다양함\n",
      "주차장이 넓고 친절함\n",
      "편하게 쉬다 갑니다ㅎㅎ\n",
      "완전 편하고 좋았습니다!\n",
      "두번째 방문인데 대만족이에요 넘 좋음\n",
      "깨끗하고 너무 좋아요\n",
      "자주 가는것입니다.\n",
      "귀여운 스티커도 많고 즐겁게 잘 놀다왔어요\n",
      "업무로 다녀왔습니다. 잘 쉬다 갑니다.\n",
      "업무로 이용했습니다. 깔끔하게 잘 쉬고 일했습니다.\n",
      "가깝고 조하요 수영장체고\n",
      "몇번 이용했지만 늘 만족스럽습니다🫡\n",
      "수영장이 좋았음 상가와 연결되서 편리해요\n",
      "객실도 깔끔하고 쾌적해서 푹 쉬다 갑니다~!\n",
      "잘 놀다 갑니다~~\n",
      "여태 가본곳중에 제일 만족스러워요!\n",
      "좋아요좋아요좋아요요\n",
      "아이들과 놀기좋네요 티니핑 보고갔습니다\n",
      "조용하고 쉬기 편했어요 또 이용할게요\n",
      "깔끔하고 하루쉬기 좋아요\n",
      "시설 깔끔하고 조용해서 잘 놀다왔습니다\n",
      "자주 이용하려고 합니다.\n",
      "오래된곳이지만 정말 관리잘하고 깨끗해서 좋았어요\n",
      "완전 추천입니다 ㅎㅎ\n",
      "데이유즈 하기 좋습니다 쉬기 좋아요\n",
      "항상 잘 쉬고 가는 곳 입니다\n",
      "수영장 시설도 좋았고 다들 친절하였습니다\n",
      "일하러 가서 잘 쉬었습니다\n",
      "편하게 쉬다 갑니다\n",
      "뷰도 좋고 너무나 만족스러운 숙박이었어요!\n",
      "너무 편하게 쉬다왔습니다\n",
      "항상 깔끔하고 좋습니다.\n",
      "청결도, 서비스 다 좋습니다\n",
      "업무적으로 이용할 때 매우 유용합니다.\n",
      "쾌적하고 교통도 편해서 좋네요!\n",
      "접근성 시설 친절 만족\n",
      "조용하고 깨끗해서 다음에도 이용하고 싶음\n",
      "잘 쉬다갑니다 감사해요:)\n",
      "나인트리는 항상 갈때마다 만족도 최상으로 느끼고갑니다\n",
      "늘 만족하는 곳입니다\n",
      "처음 가봤는데 너무 만족해서 다음에도 또 이용하려구요\n",
      "좋았습니다 12345\n",
      "업무상 또 이용했는데, 편하게 쉴 수 있었습시다.\n",
      "침대도 넓고 수영하기 좋아요\n",
      "너무 조용하고 편안했습니다 또 이용할게요\n",
      "침대도 넓고 쾌적합니다 재방문예정이에요\n",
      "업무 때문에 이용했는데, 편리하였습니다.\n",
      "호캉스는 여기가 딱이에요\n",
      "직원분들 친절하시고 방도 깨끗하고 다 좋습니다~!\n",
      "수고하세요~~~~~\n",
      "잘 쉬다갑니다 깨끗해요\n",
      "객실 이용 안내가 친절하고, 방이 매우 청결했습니다\n",
      "긋ㅅㄴ슷ㄷㅅㅈㅅㄷㅅㆍ\n",
      "숙소, 수영장 모두 너무 좋았어요~^^\n",
      "두번째 이용인데 좋아요 역에서 먼것만 빠면\n",
      "너무 청결하고 마음에 들었어요!\n",
      "위치도 좋고 아기랑 같이 보내기 좋았습니다.\n",
      "가격대비 너무 젛아요\n",
      "실내가 깨끗하고 좋습니다.\n",
      "자주가고 만족합니다\n",
      "깨끗하고~ 직원분들도 친절해요~\n",
      "굿굿 좋아요 아주 적극추천\n",
      "서비스가 좋은편입니다.\n",
      "수영장도 좋고 객실도 아주 깔끔합니다~!\n",
      "너무 편안하고 조용하고 좋았습니다. 또 갈게요\n",
      "직원분들 친절하고 깨끗하고 좋아요~\n",
      "내부 청결하고 친절합니다. 잘 쉬다 갑니다^_^\n",
      "깨끗하고 좋았습니다! 잘 놀다가 갑니다~\n",
      "깔끔하고 좋습니다.\n",
      "친절하고 깨끗합니다 추천\n",
      "Good Reviews 50, Filtered: 146\n"
     ]
    }
   ],
   "source": [
    "reviews_1shot, _ = preprocess_reviews('./resources/ninetree_pangyo_reviews.json')\n",
    "summary_1shot = summarize(reviews_1shot, prompt, temperature=0.0, model='gpt-4-turbo-2024-04-09').choices[0].message.content"
   ]
  },
  {
   "cell_type": "code",
   "execution_count": 44,
   "metadata": {},
   "outputs": [
    {
     "name": "stdout",
     "output_type": "stream",
     "text": [
      "수영장이 이쁘고 사진찍기 좋아요. 친절하셔서 좋앗어요\n",
      "깔끔하게 쉬다 옴니다요\n",
      "서울 출장으로 편하게 쉬었습니다\n",
      "전반적으로 만족스럽고 좋았습니다\n",
      "방은 나무랄데 없이 깔끔했고 전망도 좋았어요.\n",
      "깨끗하고 좋앗어요\n",
      "다음에 또가고 싶어요\n",
      "너무 최고였고 좋은 시간 보냈습니당 좋아용\n",
      "좋아요~~다음에 재방문할게요\n",
      "항상 편히 잘쉬다 갑니다\n",
      "미국식인테리어\n",
      "\n",
      "세련되지만 그곳에 편안함이 있다.\n",
      "너무친절해서 감동했습니다.\n",
      "편하게 잘 쉬었어요\n",
      "시설도 좋고 깔끔해서 잘 쉬다 갑니다!!\n",
      "전반적으로 다 좋았습니다~\n",
      "전반적으로 청결하고 직원분들이 친절해요\n",
      "제가 다닌 호텔중에서 단연 최고라 할수 있습니다\n",
      "너무 만족스러운 하루 였어요\n",
      "하루지만 행복했습니다!\n",
      "좋은 추억 남기고갑니다ㅎㅎ\n",
      "편히 쉬다 갑니다.\n",
      "너무 친절하십니다 잘 쉬다갑니다!!\n",
      "스위트룸이라 넓고 좋았어요\n",
      "편하고 좋았습니다\n",
      "다음에 또 방문할게요\n",
      "담배 냄새가 나서 불쾌했음\n",
      "침대가 너무 폭신해서 꿀잠 잤습니다!\n",
      "즐겁고 편안한 시간 보냈어요\n",
      "너무 깔끔하고 좋은 가격에 호캉스 잘 즐기고 갑니다!\n",
      "객실 넓고 깨끗하고 좋았어요 위치도 좋습니다\n",
      "깨끗하고 넓고 좋네요\n",
      "역근처이고 깔끔하고 좋았어요~\n",
      "새로생긴 곳이라 깨끗한 시설이 최대 장점이에요\n",
      "너무 잘 쉬었다 가요!\n",
      "용산역에서 가깝고 한경뷰가 너무 머싯었어요\n",
      "쾌적하고 좋았습니다.\n",
      "깨끗하고 좋았습니다 ㅎㅎ\n",
      "잘 쉬었다 갑니다.\n",
      "너무너무 깨끗하고 포근하고 좋았어요\n",
      "너무너무 즐거운 시간이었습니다ㅎㅎ\n",
      "용산역 앞이고.좋네요\n",
      "얼음을 가져갈수 있는 층이 있었음 하네요\n",
      "너무 좋았습니다 매우 추천합니다!\n",
      "최곱니다 정말로 너무 좋았어요\n",
      "좋아요. 잘사용했습니다.\n",
      "좁지만 좋은 호텔입니다\n",
      "Good Reviews 44, Filtered: 43\n"
     ]
    },
    {
     "name": "stderr",
     "output_type": "stream",
     "text": [
      "100%|██████████| 10/10 [00:44<00:00,  4.43s/it]"
     ]
    },
    {
     "name": "stdout",
     "output_type": "stream",
     "text": [
      "Wins: 9, Losses: 1, Ties: 0\n"
     ]
    },
    {
     "name": "stderr",
     "output_type": "stream",
     "text": [
      "\n"
     ]
    }
   ],
   "source": [
    "reviews_2shot, _ = preprocess_reviews('./resources/ninetree_youngsan_reviews.json')\n",
    "summary_2shot = summarize(reviews_2shot, prompt_1shot, temperature=0.0, model='gpt-4-turbo-2024-04-09').choices[0].message.content\n",
    "prompt_2shot = f\"\"\"당신은 요약 전문가입니다. 사용자 숙소 리뷰들이 주어졌을 때 요약하는 것이 당신의 목표입니다. 다음은 리뷰들과 요약 예시입니다.\n",
    "\n",
    "예시 리뷰들 1:\n",
    "{reviews_1shot}\n",
    "예시 요약 결과 1:\n",
    "{summary_1shot}\n",
    "\n",
    "예시 리뷰들 2:\n",
    "{reviews_2shot}\n",
    "예시 요약 결과 2:\n",
    "{summary_2shot}\n",
    "    \n",
    "아래 숙소 리뷰들에 대해 요약해주세요:\"\"\"\n",
    "\n",
    "summaries = [summarize(reviews, prompt_2shot, temperature=1.0, model='gpt-3.5-turbo-0125').choices[0].message.content for _ in range(eval_count)]\n",
    "wins, losses, ties = pairwise_eval_batch(reviews, summaries, [summary_real_20240526 for _ in range(len(summaries))])\n",
    "print(f'Wins: {wins}, Losses: {losses}, Ties: {ties}')"
   ]
  }
 ],
 "metadata": {
  "kernelspec": {
   "display_name": ".venv",
   "language": "python",
   "name": ".venv"
  },
  "language_info": {
   "codemirror_mode": {
    "name": "ipython",
    "version": 3
   },
   "file_extension": ".py",
   "mimetype": "text/x-python",
   "name": "python",
   "nbconvert_exporter": "python",
   "pygments_lexer": "ipython3",
   "version": "3.12.7"
  }
 },
 "nbformat": 4,
 "nbformat_minor": 2
}
