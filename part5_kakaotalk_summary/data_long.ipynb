{
 "cells": [
  {
   "cell_type": "code",
   "execution_count": 1,
   "metadata": {},
   "outputs": [],
   "source": [
    "import glob\n",
    "import json\n",
    "import os\n",
    "\n",
    "import anthropic"
   ]
  },
  {
   "cell_type": "code",
   "execution_count": null,
   "metadata": {},
   "outputs": [],
   "source": [
    "conversations = []\n",
    "\n",
    "paths = glob.glob('./resources/aihub_sns/297.SNS 데이터 고도화/01-1.정식개방데이터/Validation/02.라벨링데이터/VL/*json')\n",
    "target_count = 20\n",
    "count = 0\n",
    "\n",
    "for path in paths:\n",
    "    with open(path, 'r') as f:\n",
    "        conv_dict = json.load(f)\n",
    "        if conv_dict['header']['dialogueInfo']['numberOfParticipants'] == 2:\n",
    "            if conv_dict['header']['dialogueInfo']['numberOfUtterances'] > 30:\n",
    "                conv_list = []\n",
    "                for d in conv_dict['body']:\n",
    "                    conv_list.append(d['participantID'] + ': ' + d['utterance'])\n",
    "                if conv_list[0] == conv_list[1]:\n",
    "                    print('Repeated Conversations')\n",
    "                    continue\n",
    "                conv_text = '\\n'.join(conv_list)\n",
    "                conversations.append(conv_text)\n",
    "                count += 1\n",
    "                if count == target_count:\n",
    "                    break\n",
    "\n",
    "target_count = 30\n",
    "count = 0\n",
    "\n",
    "for path in paths:\n",
    "    with open(path, 'r') as f:\n",
    "        conv_dict = json.load(f)\n",
    "        if conv_dict['header']['dialogueInfo']['numberOfParticipants'] > 2:\n",
    "            if conv_dict['header']['dialogueInfo']['numberOfUtterances'] > 30:\n",
    "                conv_list = []\n",
    "                for d in conv_dict['body']:\n",
    "                    conv_list.append(d['participantID'] + ': ' + d['utterance'])\n",
    "                if conv_list[0] == conv_list[1]:           \n",
    "                    continue\n",
    "                conv_text = '\\n'.join(conv_list)\n",
    "                conversations.append(conv_text)\n",
    "                count += 1\n",
    "                if count == target_count:\n",
    "                    break\n",
    "\n",
    "count"
   ]
  },
  {
   "cell_type": "code",
   "execution_count": null,
   "metadata": {},
   "outputs": [],
   "source": [
    "prompt = f\"\"\"You are given a conversation among three users below. Imagine what the users discussed prior to the conversation.\n",
    "Please write the previous content, strictly following the tone and format of given conversation, with at least 3000 characters.\n",
    "\n",
    "{conversations[-2]}\n",
    "\"\"\""
   ]
  },
  {
   "cell_type": "code",
   "execution_count": null,
   "metadata": {},
   "outputs": [],
   "source": [
    "print(conversations[-2])"
   ]
  },
  {
   "cell_type": "code",
   "execution_count": null,
   "metadata": {},
   "outputs": [],
   "source": [
    "client = anthropic.Anthropic(\n",
    "    api_key=os.environ['ANTHROPIC_API_KEY']\n",
    ")\n",
    "\n",
    "message = client.messages.create(\n",
    "    model=\"claude-3-5-sonnet-20240620\",\n",
    "    max_tokens=4096,\n",
    "    temperature=0.0,\n",
    "    messages=[\n",
    "        {\"role\": \"user\", \"content\": prompt}\n",
    "    ]\n",
    ")\n",
    "\n",
    "message.usage  # API 호출 비용 대략 50원"
   ]
  },
  {
   "cell_type": "code",
   "execution_count": null,
   "metadata": {},
   "outputs": [],
   "source": [
    "message.content[0].text.split('\\n\\n')"
   ]
  },
  {
   "cell_type": "code",
   "execution_count": null,
   "metadata": {},
   "outputs": [],
   "source": [
    "lst = message.content[0].text.split('\\n\\n')[1:-1]\n",
    "for l in lst[:25]:\n",
    "    print(l)"
   ]
  },
  {
   "cell_type": "code",
   "execution_count": null,
   "metadata": {},
   "outputs": [],
   "source": [
    "for l in lst[25:50]:\n",
    "    print(l)"
   ]
  },
  {
   "cell_type": "code",
   "execution_count": null,
   "metadata": {},
   "outputs": [],
   "source": [
    "print(len(message.content[0].text.split('\\n\\n')[1]))"
   ]
  },
  {
   "cell_type": "code",
   "execution_count": null,
   "metadata": {},
   "outputs": [],
   "source": [
    "lst = message.content[0].text.split('\\n\\n')[1:-1]\n",
    "lst"
   ]
  },
  {
   "cell_type": "code",
   "execution_count": null,
   "metadata": {},
   "outputs": [],
   "source": [
    "import pickle\n",
    "\n",
    "with open('./resources/conv_long.pickle', 'wb') as f:\n",
    "    pickle.dump(lst, f)"
   ]
  }
 ],
 "metadata": {
  "kernelspec": {
   "display_name": "kakao",
   "language": "python",
   "name": "kakao"
  },
  "language_info": {
   "codemirror_mode": {
    "name": "ipython",
    "version": 3
   },
   "file_extension": ".py",
   "mimetype": "text/x-python",
   "name": "python",
   "nbconvert_exporter": "python",
   "pygments_lexer": "ipython3",
   "version": "3.12.7"
  }
 },
 "nbformat": 4,
 "nbformat_minor": 2
}
