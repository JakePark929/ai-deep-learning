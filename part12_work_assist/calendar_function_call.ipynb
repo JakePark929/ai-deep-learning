{
 "cells": [
  {
   "cell_type": "code",
   "execution_count": 1,
   "metadata": {},
   "outputs": [],
   "source": [
    "import os\n",
    "\n",
    "import anthropic\n",
    "from google.oauth2.credentials import Credentials\n",
    "from google_auth_oauthlib.flow import InstalledAppFlow\n",
    "from googleapiclient.discovery import build\n",
    "\n",
    "\n",
    "SCOPES = ['https://www.googleapis.com/auth/calendar']\n",
    "\n",
    "\n",
    "\n",
    "if os.path.exists('./auth/token.json'):\n",
    "    creds = Credentials.from_authorized_user_file('./auth/token.json', SCOPES)\n",
    "else:\n",
    "    flow = InstalledAppFlow.from_client_secrets_file(\n",
    "        './auth/credentials.json', SCOPES\n",
    "    )\n",
    "    creds = flow.run_local_server(port=0)\n",
    "    with open('./auth/token.json', 'w') as token:\n",
    "        token.write(creds.to_json())\n",
    "\n",
    "service = build('calendar', 'v3', credentials=creds)"
   ]
  },
  {
   "cell_type": "markdown",
   "metadata": {},
   "source": [
    "### Function Call (Tool Use) 복습"
   ]
  },
  {
   "cell_type": "code",
   "execution_count": null,
   "metadata": {},
   "outputs": [],
   "source": [
    "client = anthropic.Anthropic(\n",
    "    api_key=os.environ['ANTHROPIC_API_KEY']\n",
    ")\n",
    "\n",
    "response = client.messages.create(\n",
    "    model=\"claude-3-5-sonnet-20240620\",\n",
    "    max_tokens=1024,\n",
    "    tools=[\n",
    "        {\n",
    "            \"name\": \"get_weather\",\n",
    "            \"description\": \"Get the current weather in a given location\",\n",
    "            \"input_schema\": {\n",
    "                \"type\": \"object\",\n",
    "                \"properties\": {\n",
    "                    \"location\": {\n",
    "                        \"type\": \"string\",\n",
    "                        \"description\": \"The city and state, e.g. San Francisco, CA\",\n",
    "                    }\n",
    "                },\n",
    "                \"required\": [\"location\"],\n",
    "            },\n",
    "        }\n",
    "    ],\n",
    "    messages=[{\"role\": \"user\", \"content\": \"What's the weather like in San Francisco?\"}],\n",
    ")"
   ]
  },
  {
   "cell_type": "code",
   "execution_count": null,
   "metadata": {},
   "outputs": [],
   "source": [
    "response.content"
   ]
  },
  {
   "cell_type": "markdown",
   "metadata": {},
   "source": [
    "### Function Call + Google Calendar API"
   ]
  },
  {
   "cell_type": "code",
   "execution_count": null,
   "metadata": {},
   "outputs": [],
   "source": [
    "event = {\n",
    "  'summary': '패스트캠퍼스 LLM 강의',\n",
    "  'location': '서울 강남구 테헤란로 231 West동 6층, 7층',\n",
    "  'start': {\n",
    "    'dateTime': '2024-08-14T09:00:00+09:00',\n",
    "    'timeZone': 'Asia/Seoul',\n",
    "  },\n",
    "  'end': {\n",
    "    'dateTime': '2024-08-14T18:00:00+09:00',\n",
    "    'timeZone': 'Asia/Seoul',\n",
    "  }\n",
    "}"
   ]
  },
  {
   "cell_type": "code",
   "execution_count": null,
   "metadata": {},
   "outputs": [],
   "source": [
    "tools = [\n",
    "    {\n",
    "        \"name\": \"create_event\",\n",
    "        \"description\": \"Create new Google Calender Event\",\n",
    "        \"input_schema\": {\n",
    "            \"type\": \"object\",\n",
    "            \"properties\": {\n",
    "                \"summary\": {\n",
    "                    \"type\": \"string\",\n",
    "                    \"description\": \"Name of Google Calender Event\"\n",
    "                },\n",
    "                \"start\": {\n",
    "                    \"type\": \"string\",\n",
    "                    \"description\": \"Starting date of Google Calender Event in UTC+9 Time i.e. 2024-08-08T09:00:00+09:00\"\n",
    "                },\n",
    "                \"end\": {\n",
    "                    \"type\": \"string\",\n",
    "                    \"description\": \"Starting date of Google Calender Event in UTC+9 i.e. 2024-08-08T09:00:00+09:00\"\n",
    "                }\n",
    "            },\n",
    "            \"required\": [\"summary\"]\n",
    "        }\n",
    "    }\n",
    "]"
   ]
  },
  {
   "cell_type": "code",
   "execution_count": null,
   "metadata": {},
   "outputs": [],
   "source": [
    "def create_event(summary, start, end):\n",
    "    event = {\n",
    "        'summary': summary,\n",
    "        'start': {\n",
    "            'dateTime': start,\n",
    "            'timeZone': 'Asia/Seoul',\n",
    "        },\n",
    "        'end': {\n",
    "            'dateTime': end,\n",
    "            'timeZone': 'Asia/Seoul',\n",
    "        }\n",
    "    }\n",
    "    event = service.events().insert(calendarId='primary', body=event).execute()\n",
    "    print('Event created: %s' % (event.get('htmlLink')))\n",
    "    return event"
   ]
  },
  {
   "cell_type": "code",
   "execution_count": null,
   "metadata": {},
   "outputs": [],
   "source": [
    "response = client.messages.create(\n",
    "    model=\"claude-3-5-sonnet-20240620\",\n",
    "    max_tokens=1024,\n",
    "    tools=tools,\n",
    "    messages=[\n",
    "        {\n",
    "            \"role\": \"user\",\n",
    "            \"content\": \"Create a calender event called Lunch starting from 2024.08.14 1pm\"\n",
    "        }\n",
    "    ],\n",
    ")"
   ]
  },
  {
   "cell_type": "code",
   "execution_count": null,
   "metadata": {},
   "outputs": [],
   "source": [
    "response.content"
   ]
  },
  {
   "cell_type": "code",
   "execution_count": null,
   "metadata": {},
   "outputs": [],
   "source": [
    "response.content[1].input"
   ]
  },
  {
   "cell_type": "code",
   "execution_count": null,
   "metadata": {},
   "outputs": [],
   "source": [
    "summary = response.content[1].input['summary']\n",
    "start = response.content[1].input['start']\n",
    "end = response.content[1].input['end']\n",
    "create_event(summary, start, end)"
   ]
  },
  {
   "cell_type": "markdown",
   "metadata": {},
   "source": [
    "### End-to-End Function Call Workflow\n",
    "1. Function 준비 (또는 작성)\n",
    "2. Tools 정의\n",
    "3. LLM API 호출\n",
    "4. (필요 시) Function 실행 - 일반 발화가 필요한경우 실행 필요 X\n",
    "5. LLM API 최종 호출"
   ]
  },
  {
   "cell_type": "code",
   "execution_count": null,
   "metadata": {},
   "outputs": [],
   "source": [
    "PROMPT = '2024년 8월 14일 12시부터 1시간 짜리 점심 일정 생성해주세요.'\n",
    "\n",
    "# 1. 함수 생성\n",
    "def create_event(summary, start, end):\n",
    "    event = {\n",
    "        'summary': summary,\n",
    "        'start': {\n",
    "            'dateTime': start,\n",
    "            'timeZone': 'Asia/Seoul',\n",
    "        },\n",
    "        'end': {\n",
    "            'dateTime': end,\n",
    "            'timeZone': 'Asia/Seoul',\n",
    "        }\n",
    "    }\n",
    "    event = service.events().insert(calendarId='primary', body=event).execute()\n",
    "    print('Event created: %s' % (event.get('htmlLink')))\n",
    "    return event\n",
    "\n",
    "# 2. tools 정의\n",
    "tools = [\n",
    "    {\n",
    "        \"name\": \"create_event\",\n",
    "        \"description\": \"Create new Google Calender Event\",\n",
    "        \"input_schema\": {\n",
    "            \"type\": \"object\",\n",
    "            \"properties\": {\n",
    "                \"summary\": {\n",
    "                    \"type\": \"string\",\n",
    "                    \"description\": \"Name of Google Calender Event\"\n",
    "                },\n",
    "                \"start\": {\n",
    "                    \"type\": \"string\",\n",
    "                    \"description\": \"Starting date of Google Calender Event in UTC+9 Time i.e. 2024-08-08T09:00:00+09:00\"\n",
    "                },\n",
    "                \"end\": {\n",
    "                    \"type\": \"string\",\n",
    "                    \"description\": \"Starting date of Google Calender Event in UTC+9 Time i.e. 2024-08-08T09:00:00+09:00\"\n",
    "                }\n",
    "            },\n",
    "            \"required\": [\"summary\"]\n",
    "        }\n",
    "    }\n",
    "]\n",
    "\n",
    "# 3. LLM API 호출\n",
    "response = client.messages.create(\n",
    "    model=\"claude-3-5-sonnet-20240620\",\n",
    "    max_tokens=1024,\n",
    "    tools=tools,\n",
    "    messages=[\n",
    "        {\n",
    "            \"role\": \"user\",\n",
    "            \"content\": PROMPT\n",
    "        }\n",
    "    ],\n",
    ")\n",
    "\n",
    "# 4. (필요 시) Function Call 실행\n",
    "summary = response.content[1].input['summary']\n",
    "start = response.content[1].input['start']\n",
    "end = response.content[1].input['end']\n",
    "event = create_event(summary, start, end)\n",
    "\n",
    "# 5. LLM API 최종 호출\n",
    "response = client.messages.create(\n",
    "    model=\"claude-3-5-sonnet-20240620\",\n",
    "    max_tokens=1024,\n",
    "    tools=tools,\n",
    "    messages=[\n",
    "        {\n",
    "            \"role\": \"user\",\n",
    "            \"content\": PROMPT\n",
    "        },\n",
    "        {\n",
    "            \"role\": \"assistant\",\n",
    "            \"content\": [\n",
    "                {\n",
    "                    \"type\": \"text\",\n",
    "                    \"text\": PROMPT\n",
    "                },\n",
    "                {\n",
    "                    \"type\": \"tool_use\",\n",
    "                    \"id\": response.content[1].id,\n",
    "                    \"name\": \"create_event\",\n",
    "                    \"input\": {\"summary\": summary, \"start\": start, \"end\": end}\n",
    "                }\n",
    "            ]\n",
    "        },\n",
    "        {\n",
    "            \"role\": \"user\",\n",
    "            \"content\": [\n",
    "                {\n",
    "                    \"type\": \"tool_result\",\n",
    "                    \"tool_use_id\": response.content[1].id,\n",
    "                    \"content\": f\"Event created: {event.get('htmlLink')}\"\n",
    "                }\n",
    "            ]\n",
    "        }\n",
    "    ],\n",
    ")"
   ]
  },
  {
   "cell_type": "code",
   "execution_count": null,
   "metadata": {},
   "outputs": [],
   "source": [
    "print(response.content[0].text)"
   ]
  }
 ],
 "metadata": {
  "kernelspec": {
   "display_name": "work-assist",
   "language": "python",
   "name": "python3"
  },
  "language_info": {
   "codemirror_mode": {
    "name": "ipython",
    "version": 3
   },
   "file_extension": ".py",
   "mimetype": "text/x-python",
   "name": "python",
   "nbconvert_exporter": "python",
   "pygments_lexer": "ipython3",
   "version": "3.12.8"
  }
 },
 "nbformat": 4,
 "nbformat_minor": 2
}
