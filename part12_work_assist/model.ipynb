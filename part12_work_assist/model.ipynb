{
 "cells": [
  {
   "cell_type": "markdown",
   "metadata": {},
   "source": [
    "### 테스트케이스 생성"
   ]
  },
  {
   "cell_type": "markdown",
   "metadata": {},
   "source": [
    "- 평가 기준:\n",
    "  - Accuracy(정확도) = 실제 질문에 정확한 답변을 주었는지"
   ]
  },
  {
   "cell_type": "code",
   "execution_count": null,
   "metadata": {},
   "outputs": [],
   "source": [
    "import os\n",
    "\n",
    "from openai import OpenAI\n",
    "\n",
    "\n",
    "OPENAI_API_KEY = os.environ['OPENAI_API_KEY']\n",
    "client = OpenAI(api_key=OPENAI_API_KEY)"
   ]
  },
  {
   "cell_type": "code",
   "execution_count": null,
   "metadata": {},
   "outputs": [],
   "source": [
    "with open('./res/guidebook_full.txt', 'r') as f:\n",
    "    text = f.read()"
   ]
  },
  {
   "cell_type": "code",
   "execution_count": null,
   "metadata": {},
   "outputs": [],
   "source": [
    "text"
   ]
  },
  {
   "cell_type": "code",
   "execution_count": null,
   "metadata": {},
   "outputs": [],
   "source": [
    "prompt = f\"\"\"You are a professional agent proficient in writing company guidebooks.\n",
    "A company guidebook contains company mission, internal rules, social welfare and other information needed for employees to work in a company.\n",
    "You have previously written a company guidebook for a Korean firm named \"ABC 컴퍼니\" upon request.\n",
    "This time, you will prepare sample questions that employees may ask.\n",
    "Give the guidebook text below, you should come up to 8 questions related to information in the guidebook.\n",
    "You should come up with 2 more questions that are not relevant to the guidebook. In total, you should produce 10 questions.\n",
    "\n",
    "[GUIDEBOOK START]\n",
    "\n",
    "{text}\n",
    "\n",
    "[GUIDEBOOK END]\"\"\"\n",
    "\n",
    "completion = client.chat.completions.create(\n",
    "    model='gpt-4o-2024-05-13',\n",
    "    messages=[{'role': 'user', 'content': prompt}],\n",
    "    temperature=0.0\n",
    ")\n",
    "\n",
    "print(completion.choices[0].message.content)"
   ]
  },
  {
   "cell_type": "code",
   "execution_count": null,
   "metadata": {},
   "outputs": [],
   "source": [
    "questions = [\n",
    "    \"ABC 컴퍼니의 정규 업무 시간은 어떻게 되나요?\",\n",
    "    \"연차 휴가를 사용하려면 어떤 절차를 따라야 하나요?\",\n",
    "    \"회사에서 제공하는 건강 검진은 어떻게 신청할 수 있나요?\",\n",
    "    \"사내 헬스장은 언제 이용할 수 있나요?\",\n",
    "    \"성과 평가는 몇 회 실시되며, 어떤 기준으로 평가되나요?\",\n",
    "    \"신입사원은 입사 후 어떤 교육을 이수해야 하나요?\",\n",
    "    \"회사의 비전은 무엇인가요?\",\n",
    "    \"윤리 위반 행위를 발견했을 때 어떻게 신고할 수 있나요?\",\n",
    "    \"회사 근처에 추천할 만한 식당이 있나요?\",\n",
    "    \"회사에서 제공하는 주차 공간은 어떻게 이용할 수 있나요?\"\n",
    "]"
   ]
  },
  {
   "cell_type": "markdown",
   "metadata": {},
   "source": [
    "### 데이터 청킹 - 쪼개야 하는 이유\n",
    "1. Context Length 초과해서 LLM API에 안 들어가기 때문\n",
    "2. 크게 넣으면 정확도 하락\n",
    "3. Input Tokens가 늘어나 비용 증가"
   ]
  },
  {
   "cell_type": "code",
   "execution_count": null,
   "metadata": {},
   "outputs": [],
   "source": [
    "contexts = text.split('\\n\\n')\n",
    "len(contexts), contexts"
   ]
  },
  {
   "cell_type": "code",
   "execution_count": null,
   "metadata": {},
   "outputs": [],
   "source": [
    "import numpy as np\n",
    "\n",
    "from utils import get_embeddings, cosine_similarity\n",
    "\n",
    "\n",
    "def retrieve_context(question, contexts):\n",
    "    question_embedding = get_embeddings([question], model='text-embedding-3-small')[0]\n",
    "    context_embeddings = get_embeddings(contexts, model='text-embedding-3-small')\n",
    "\n",
    "    similarities = [cosine_similarity(question_embedding, context_embedding) for context_embedding in context_embeddings]\n",
    "\n",
    "    most_relevant_index = np.argmax(similarities)\n",
    "    return contexts[most_relevant_index]"
   ]
  },
  {
   "cell_type": "code",
   "execution_count": null,
   "metadata": {},
   "outputs": [],
   "source": [
    "for i in range(len(questions)):\n",
    "    print(i)\n",
    "    print(questions[i])\n",
    "    print(retrieve_context(questions[i], contexts))\n",
    "    print()"
   ]
  },
  {
   "cell_type": "code",
   "execution_count": null,
   "metadata": {},
   "outputs": [],
   "source": [
    "from anthropic import Anthropic\n",
    "\n",
    "anthropic_client = Anthropic(api_key=os.environ['ANTHROPIC_API_KEY'])\n",
    "\n",
    "response = anthropic_client.messages.create(\n",
    "    model=\"claude-3-5-sonnet-20240620\",\n",
    "    max_tokens=1024,\n",
    "    messages=[{\"role\": \"user\", \"content\": questions[0]}],\n",
    "    temperature=0.0\n",
    ")\n",
    "print(questions[0])\n",
    "print(response.content[0].text)"
   ]
  },
  {
   "cell_type": "code",
   "execution_count": null,
   "metadata": {},
   "outputs": [],
   "source": [
    "for i in range(len(questions)):\n",
    "    context = retrieve_context(questions[i], contexts)\n",
    "    prompt = context + '\\n\\n' + questions[i]\n",
    "\n",
    "    response = anthropic_client.messages.create(\n",
    "        model=\"claude-3-5-sonnet-20240620\",\n",
    "        max_tokens=1024,\n",
    "        messages=[{\"role\": \"user\", \"content\": prompt}],\n",
    "        temperature=0.0\n",
    "    )    \n",
    "    print(f\"QUESTION {i+1}: {questions[i]}\")\n",
    "    print(f\"CONTEXT: {context}\")\n",
    "    print(f\"RESPONSE: {response.content[0].text}\")\n",
    "    print()"
   ]
  },
  {
   "cell_type": "code",
   "execution_count": null,
   "metadata": {},
   "outputs": [],
   "source": [
    "contexts_overlap = []\n",
    "for i in range(1, len(contexts)-1, 1):\n",
    "    contexts_overlap.append(contexts[i-1] + contexts[i] + contexts[i+1])"
   ]
  },
  {
   "cell_type": "code",
   "execution_count": null,
   "metadata": {},
   "outputs": [],
   "source": [
    "contexts_overlap"
   ]
  },
  {
   "cell_type": "code",
   "execution_count": null,
   "metadata": {},
   "outputs": [],
   "source": [
    "for i in range(len(questions)):\n",
    "    context = retrieve_context(questions[i], contexts_overlap)\n",
    "    prompt = context + '\\n\\n' + questions[i]\n",
    "\n",
    "    response = anthropic_client.messages.create(\n",
    "        model=\"claude-3-5-sonnet-20240620\",\n",
    "        max_tokens=1024,\n",
    "        messages=[{\"role\": \"user\", \"content\": prompt}],\n",
    "        temperature=0.0\n",
    "    )    \n",
    "    print(f\"QUESTION {i+1}: {questions[i]}\")\n",
    "    print(f\"CONTEXT: {context}\")\n",
    "    print(f\"RESPONSE: {response.content[0].text}\")\n",
    "    print()"
   ]
  }
 ],
 "metadata": {
  "kernelspec": {
   "display_name": "work-assist",
   "language": "python",
   "name": "python3"
  },
  "language_info": {
   "name": "python",
   "version": "3.12.8"
  }
 },
 "nbformat": 4,
 "nbformat_minor": 2
}
