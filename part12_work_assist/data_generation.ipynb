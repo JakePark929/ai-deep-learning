{
 "cells": [
  {
   "cell_type": "code",
   "execution_count": null,
   "metadata": {},
   "outputs": [],
   "source": [
    "import os\n",
    "\n",
    "from openai import OpenAI\n",
    "\n",
    "\n",
    "OPENAI_API_KEY = os.environ['OPENAI_API_KEY']\n",
    "client = OpenAI(api_key=OPENAI_API_KEY)"
   ]
  },
  {
   "cell_type": "code",
   "execution_count": null,
   "metadata": {},
   "outputs": [],
   "source": [
    "prompt = f\"\"\"You are a professional agent proficient in writing company guidebooks.\n",
    "A company guidebook contains company mission, internal rules, social welfare and other information needed for employees to work in a company.\n",
    "You are requested to write a company guidebook for a Korean firm named \"ABC 컴퍼니\".\n",
    "The guidebook should be split into following sections.\n",
    "\n",
    "## 목차\n",
    "1. 회사 소개\n",
    "2. 회사의 미션과 비전\n",
    "3. 업무 시간 및 근무 규칙\n",
    "4. 복지 및 혜택\n",
    "5. 사내 시설\n",
    "6. 인사 정책\n",
    "7. 교육 및 개발 프로그램\n",
    "8. 안전 및 보안\n",
    "9. 윤리 및 행동 강령\n",
    "10. 커뮤니케이션 및 피드백\n",
    "11. 기타 정보\n",
    "\n",
    "The guidebook should start with a title followed by table of contents and actual contents.\n",
    "It should be at least 10000 words in total, where each section should contain at least 500 words.\n",
    "It should also be as comprehensive and factual as possible. Both good and bad examples are given below.\n",
    "\n",
    "- Bad example 1: 자녀의 학자금을 지원합니다.\n",
    "- Good example 1: 자녀의 학자금을 연 최대 1000만원 한도 내에서 지원합니다. 자녀 2명 이상의 경우 한도 내에서 유연하게 배분이 가능합니다.\n",
    "- Bad example 2: 성과 평가 결과에 따라 승진 및 보상이 결정됩니다.\n",
    "- Good example 2: 성과 평가 결과에 따라 승진 및 보상이 결정됩니다. 성과 평가는 상, 중, 하 3개의 단계로 나뉘며 상 등급은 전체 직원의 20%를 초과 할 수 없습니다.\n",
    "\n",
    "Also, the guidebook must include below details:\n",
    "\n",
    "1. 업무 시간은 8시부터 17시까지이며 휴게시간 1시간을 포함해야 합니다.\n",
    "2. 회사 내 복지 시설로는 탁구장, 헬스장, 사우나 등이 있습니다. 탁구장에는 총 6대의 탁구대가 있으며 헬스장은 100평 규모입니다.\n",
    "3. 사내 카페는 본관 3층, 별관 2층에 있습니다. 둘 다 9시부터 18시까지 운영하며 15시부터 1시간 동안 휴게 시간입니다.\n",
    "4. 만 7세 이하의 자녀가 있는 직원은 1시간 단축근무를 시행합니다.\n",
    "5. 셔틀버스가 존재하며 강남역, 선릉역, 삼성역을 경유합니다. 셔틀버스는 6시 정각부터 10시까지 30분 단위로 운영합니다.\"\"\"\n",
    "\n",
    "completion = client.chat.completions.create(\n",
    "    model='gpt-4o-2024-05-13',\n",
    "    messages=[{'role': 'user', 'content': prompt}],\n",
    "    temperature=0.0\n",
    ")\n",
    "\n",
    "print(completion.choices[0].message.content)"
   ]
  },
  {
   "cell_type": "code",
   "execution_count": null,
   "metadata": {},
   "outputs": [],
   "source": [
    "text = completion.choices[0].message.content"
   ]
  },
  {
   "cell_type": "code",
   "execution_count": null,
   "metadata": {},
   "outputs": [],
   "source": [
    "prompt = f\"\"\"You are a professional agent proficient in writing company guidebooks.\n",
    "A company guidebook contains company mission, internal rules, social welfare and other information needed for employees to work in a company.\n",
    "You are requested to write a company guidebook for a Korean firm named \"ABC 컴퍼니\".\n",
    "The guidebook should be split into following sections.\n",
    "\n",
    "## 목차\n",
    "1. 회사 소개\n",
    "2. 회사의 미션과 비전\n",
    "3. 업무 시간 및 근무 규칙\n",
    "4. 복지 및 혜택\n",
    "5. 사내 시설\n",
    "6. 인사 정책\n",
    "7. 교육 및 개발 프로그램\n",
    "8. 안전 및 보안\n",
    "9. 윤리 및 행동 강령\n",
    "10. 커뮤니케이션 및 피드백\n",
    "11. 기타 정보\n",
    "\n",
    "The guidebook should start with a title followed by table of contents and actual contents.\n",
    "It should be at least 10000 words in total, where each section should contain at least 500 words.\n",
    "It should also be as comprehensive and factual as possible. Both good and bad examples are given below.\n",
    "\n",
    "- Bad example 1: 자녀의 학자금을 지원합니다.\n",
    "- Good example 1: 자녀의 학자금을 연 최대 1000만원 한도 내에서 지원합니다. 자녀 2명 이상의 경우 한도 내에서 유연하게 배분이 가능합니다.\n",
    "- Bad example 2: 성과 평가 결과에 따라 승진 및 보상이 결정됩니다.\n",
    "- Good example 2: 성과 평가 결과에 따라 승진 및 보상이 결정됩니다. 성과 평가는 상, 중, 하 3개의 단계로 나뉘며 상 등급은 전체 직원의 20%를 초과 할 수 없습니다.\n",
    "\n",
    "Also, the guidebook must include below details:\n",
    "\n",
    "1. 업무 시간은 8시부터 17시까지이며 휴게시간 1시간을 포함해야 합니다.\n",
    "2. 회사 내 복지 시설로는 탁구장, 헬스장, 사우나 등이 있습니다. 탁구장에는 총 6대의 탁구대가 있으며 헬스장은 100평 규모입니다.\n",
    "3. 사내 카페는 본관 3층, 별관 2층에 있습니다. 둘 다 9시부터 18시까지 운영하며 15시부터 1시간 동안 휴게 시간입니다.\n",
    "4. 만 7세 이하의 자녀가 있는 직원은 1시간 단축근무를 시행합니다.\n",
    "5. 셔틀버스가 존재하며 강남역, 선릉역, 삼성역을 경유합니다. 셔틀버스는 6시 정각부터 10시까지 30분 단위로 운영합니다.\n",
    "\n",
    "You have written some part of the guidebook, as given below. Continue producing the guidebook.\n",
    "\n",
    "{text}\"\"\"\n",
    "\n",
    "completion = client.chat.completions.create(\n",
    "    model='gpt-4o-2024-05-13',\n",
    "    messages=[{'role': 'user', 'content': prompt}],\n",
    "    temperature=0.0\n",
    ")\n",
    "\n",
    "print(completion.choices[0].message.content)"
   ]
  },
  {
   "cell_type": "code",
   "execution_count": null,
   "metadata": {},
   "outputs": [],
   "source": [
    "print(text + completion.choices[0].message.content)"
   ]
  },
  {
   "cell_type": "code",
   "execution_count": null,
   "metadata": {},
   "outputs": [],
   "source": [
    "with open('./res/guidebook_full.txt', 'w') as f:\n",
    "    f.write(text + completion.choices[0].message.content)"
   ]
  },
  {
   "cell_type": "markdown",
   "metadata": {},
   "source": [
    "### 쪼개야 하는 이유\n",
    "1. Context Length 초과해서 LLM API에 안 들어가기 때문\n",
    "2. 크게 넣으면 정확도 하락\n",
    "3. Input Tokens가 늘어나 비용 증가"
   ]
  }
 ],
 "metadata": {
  "kernelspec": {
   "display_name": "work-assist",
   "language": "python",
   "name": "python3"
  },
  "language_info": {
   "name": "python",
   "version": "3.12.8"
  }
 },
 "nbformat": 4,
 "nbformat_minor": 2
}
